{
 "cells": [
  {
   "cell_type": "code",
   "execution_count": null,
   "metadata": {},
   "outputs": [],
   "source": [
    "import sys\n",
    "import os\n",
    "scratch_dir = \"/home/hice1/eresmini3/scratch\"\n",
    "repo_folder = \"cold_diffusion_roi\"\n",
    "sys.path.append(f\"{scratch_dir}/{repo_folder}\")"
   ]
  },
  {
   "cell_type": "code",
   "execution_count": 2,
   "metadata": {
    "collapsed": false
   },
   "outputs": [
    {
     "name": "stdout",
     "output_type": "stream",
     "text": [
      "2.6.0+cu126\n",
      "device: cuda:0\n"
     ]
    }
   ],
   "source": [
    "import numpy as np\n",
    "import matplotlib.pyplot as plt\n",
    "import pathlib\n",
    "\n",
    "from torch.utils.data import DataLoader\n",
    "\n",
    "from utils.mri_data import SliceDataset\n",
    "from utils.data_transform import DataTransform_Diffusion\n",
    "from utils.sample_mask import RandomMaskGaussianDiffusion, RandomMaskDiffusion, RandomMaskDiffusion2D\n",
    "from utils.misc import *\n",
    "from help_func import print_var_detail\n",
    "\n",
    "from diffusion.kspace_diffusion_2 import KspaceDiffusion\n",
    "from utils.diffusion_train_parallel import Trainer # diffusion_train\n",
    "from net.u_net_diffusion import Unet\n",
    "\n",
    "print(torch.__version__)\n",
    "device = torch.device(\"cuda:0\" if torch.cuda.is_available() else \"cpu\")\n",
    "print('device:', device)"
   ]
  },
  {
   "cell_type": "code",
   "execution_count": 3,
   "metadata": {
    "collapsed": false
   },
   "outputs": [],
   "source": [
    "# ****** TRAINING SETTINGS ******\n",
    "# dataset settings\n",
    "acc = 8  # acceleration factor\n",
    "frac_c = 0.04  # center fraction\n",
    "path_dir_train = f\"{scratch_dir}/data/singlecoil_train\"\n",
    "path_dir_test = f\"{scratch_dir}/data/singlecoil_test\"\n",
    "img_mode = 'fastmri'  # 'fastmri' or 'B1000'\n",
    "bhsz = 6\n",
    "img_size = 320"
   ]
  },
  {
   "cell_type": "code",
   "execution_count": 4,
   "metadata": {
    "collapsed": false
   },
   "outputs": [
    {
     "name": "stdout",
     "output_type": "stream",
     "text": [
      "len dataloader train: 433\n",
      "len dataloader test: 49\n"
     ]
    }
   ],
   "source": [
    "# ====== Construct dataset ======\n",
    "# initialize mask\n",
    "mask_func = RandomMaskDiffusion(\n",
    "    acceleration=acc,\n",
    "    center_fraction=frac_c,\n",
    "    size=(1, img_size, img_size),\n",
    ")\n",
    "\n",
    "# initialize dataset\n",
    "data_transform = DataTransform_Diffusion(\n",
    "    mask_func,\n",
    "    img_size=img_size,\n",
    "    combine_coil=True,\n",
    "    flag_singlecoil=True,\n",
    ")\n",
    "\n",
    "# training set\n",
    "dataset_train = SliceDataset(\n",
    "    root=pathlib.Path(path_dir_train),\n",
    "    transform=data_transform,\n",
    "    sample_rate=0.1,\n",
    "    challenge='singlecoil',\n",
    "    num_skip_slice=5,\n",
    ")\n",
    "\n",
    "# test set\n",
    "dataset_test = SliceDataset(\n",
    "    root=pathlib.Path(path_dir_test),\n",
    "    transform=data_transform,\n",
    "    sample_rate=0.1,\n",
    "    challenge='singlecoil',\n",
    "    num_skip_slice=5,\n",
    ")\n",
    "\n",
    "dataloader_train = DataLoader(dataset_train, batch_size=bhsz, shuffle=True, worker_init_fn=lambda worker_id: np.random.seed(42))\n",
    "dataloader_test = DataLoader(dataset_test, batch_size=bhsz, shuffle=True, worker_init_fn=lambda worker_id: np.random.seed(42))\n",
    "print('len dataloader train:', len(dataloader_train))\n",
    "print('len dataloader test:', len(dataloader_test))"
   ]
  },
  {
   "cell_type": "code",
   "execution_count": 5,
   "metadata": {
    "collapsed": false
   },
   "outputs": [
    {
     "name": "stdout",
     "output_type": "stream",
     "text": [
      "train_steps: 35000\n",
      "The new directory is created!\n"
     ]
    }
   ],
   "source": [
    "# model settings\n",
    "CH_MID = 64\n",
    "# training settings\n",
    "NUM_EPOCH = 50\n",
    "learning_rate = 2e-5\n",
    "time_steps = 1000\n",
    "train_steps = NUM_EPOCH * len(dataloader_train)\n",
    "train_steps = max(train_steps, 35000) #reduced from 700000\n",
    "print('train_steps:',train_steps)\n",
    "# save settings\n",
    "absolute_path = f\"{scratch_dir}/{repo_folder}\"\n",
    "PATH_MODEL = f'{absolute_path}/saved_models/fastmri_knee/FINAL_tuned_ROI_diffusion_'+str(img_mode)+'_'+str(acc)+'x_T'+str(time_steps)+'_S'+str(train_steps)+'/'\n",
    "create_path(PATH_MODEL)"
   ]
  },
  {
   "cell_type": "code",
   "execution_count": 8,
   "metadata": {
    "collapsed": false
   },
   "outputs": [
    {
     "name": "stdout",
     "output_type": "stream",
     "text": [
      "Is Time embed used ?  True\n",
      "model size: 53.992 MB\n"
     ]
    }
   ],
   "source": [
    "# construct diffusion model\n",
    "save_folder=PATH_MODEL\n",
    "load_path=None #f\"{save_folder}model_31400.pt\"\n",
    "blur_routine='Constant'\n",
    "train_routine='Final'\n",
    "sampling_routine='x0_step_down'\n",
    "discrete=False\n",
    "\n",
    "model = Unet(\n",
    "    dim=CH_MID,\n",
    "    dim_mults=(1, 2, 4, 8),\n",
    "    channels=2,\n",
    ").cuda()\n",
    "print('model size: %.3f MB' % (calc_model_size(model)))\n",
    "\n",
    "diffusion = KspaceDiffusion(\n",
    "    model,\n",
    "    image_size=img_size,\n",
    "    device_of_kernel='cuda',\n",
    "    channels=2,\n",
    "    timesteps=time_steps,  # number of steps\n",
    "    loss_type='l1',  # L1 or L2\n",
    "    blur_routine=blur_routine,\n",
    "    train_routine=train_routine,\n",
    "    sampling_routine=sampling_routine,\n",
    "    discrete=discrete,\n",
    "\n",
    "    alpha=1.5,\n",
    "    sobel_threshold=0.3,\n",
    "    dilation_size=9,\n",
    ").cuda()"
   ]
  },
  {
   "cell_type": "code",
   "execution_count": null,
   "metadata": {
    "collapsed": false
   },
   "outputs": [
    {
     "name": "stderr",
     "output_type": "stream",
     "text": [
      "LOSS:   0%|                                                                                                                                                                                                   | 0/35001 [00:00<?, ?it/s]"
     ]
    },
    {
     "name": "stdout",
     "output_type": "stream",
     "text": [
      "Starting training from step 0\n",
      "GPU Memory before training: 869.41 MB\n",
      "Step 0\n",
      "create_roi_mask: mask.shape=torch.Size([6, 1, 320, 320, 2])\n",
      "create_roi_mask: mask.shape=torch.Size([6, 1, 320, 320, 2])\n"
     ]
    },
    {
     "name": "stderr",
     "output_type": "stream",
     "text": [
      "Loss=0.224139:   0%|                                                                                                                                                                              | 1/35001 [00:23<230:33:27, 23.71s/it]"
     ]
    },
    {
     "name": "stdout",
     "output_type": "stream",
     "text": [
      "Step 1\n",
      "create_roi_mask: mask.shape=torch.Size([6, 1, 320, 320, 2])\n",
      "create_roi_mask: mask.shape=torch.Size([6, 1, 320, 320, 2])\n"
     ]
    },
    {
     "name": "stderr",
     "output_type": "stream",
     "text": [
      "Loss=0.180832:   0%|                                                                                                                                                                              | 2/35001 [00:25<104:16:44, 10.73s/it]"
     ]
    },
    {
     "name": "stdout",
     "output_type": "stream",
     "text": [
      "Step 2\n",
      "create_roi_mask: mask.shape=torch.Size([6, 1, 320, 320, 2])\n",
      "create_roi_mask: mask.shape=torch.Size([6, 1, 320, 320, 2])\n"
     ]
    },
    {
     "name": "stderr",
     "output_type": "stream",
     "text": [
      "Loss=0.136311:   0%|                                                                                                                                                                               | 3/35001 [00:27<64:39:32,  6.65s/it]"
     ]
    },
    {
     "name": "stdout",
     "output_type": "stream",
     "text": [
      "Step 3\n",
      "create_roi_mask: mask.shape=torch.Size([6, 1, 320, 320, 2])\n",
      "create_roi_mask: mask.shape=torch.Size([6, 1, 320, 320, 2])\n"
     ]
    },
    {
     "name": "stderr",
     "output_type": "stream",
     "text": [
      "Loss=0.150969:   0%|                                                                                                                                                                               | 4/35001 [00:28<46:05:30,  4.74s/it]"
     ]
    },
    {
     "name": "stdout",
     "output_type": "stream",
     "text": [
      "Step 4\n",
      "create_roi_mask: mask.shape=torch.Size([6, 1, 320, 320, 2])\n",
      "create_roi_mask: mask.shape=torch.Size([6, 1, 320, 320, 2])\n"
     ]
    },
    {
     "name": "stderr",
     "output_type": "stream",
     "text": [
      "Loss=0.147634:   0%|                                                                                                                                                                               | 5/35001 [00:30<36:08:28,  3.72s/it]"
     ]
    },
    {
     "name": "stdout",
     "output_type": "stream",
     "text": [
      "Step 5\n",
      "create_roi_mask: mask.shape=torch.Size([6, 1, 320, 320, 2])\n",
      "create_roi_mask: mask.shape=torch.Size([6, 1, 320, 320, 2])\n"
     ]
    },
    {
     "name": "stderr",
     "output_type": "stream",
     "text": [
      "Loss=0.154396:   0%|                                                                                                                                                                               | 6/35001 [00:32<29:59:31,  3.09s/it]"
     ]
    },
    {
     "name": "stdout",
     "output_type": "stream",
     "text": [
      "Step 6\n",
      "create_roi_mask: mask.shape=torch.Size([6, 1, 320, 320, 2])\n",
      "create_roi_mask: mask.shape=torch.Size([6, 1, 320, 320, 2])\n"
     ]
    },
    {
     "name": "stderr",
     "output_type": "stream",
     "text": [
      "Loss=0.134075:   0%|                                                                                                                                                                               | 7/35001 [00:34<25:55:35,  2.67s/it]"
     ]
    },
    {
     "name": "stdout",
     "output_type": "stream",
     "text": [
      "Step 7\n",
      "create_roi_mask: mask.shape=torch.Size([6, 1, 320, 320, 2])\n",
      "create_roi_mask: mask.shape=torch.Size([6, 1, 320, 320, 2])\n"
     ]
    },
    {
     "name": "stderr",
     "output_type": "stream",
     "text": [
      "Loss=0.146248:   0%|                                                                                                                                                                               | 8/35001 [00:36<23:18:53,  2.40s/it]"
     ]
    },
    {
     "name": "stdout",
     "output_type": "stream",
     "text": [
      "Step 8\n",
      "create_roi_mask: mask.shape=torch.Size([6, 1, 320, 320, 2])\n",
      "create_roi_mask: mask.shape=torch.Size([6, 1, 320, 320, 2])\n"
     ]
    },
    {
     "name": "stderr",
     "output_type": "stream",
     "text": [
      "Loss=0.133471:   0%|                                                                                                                                                                               | 9/35001 [00:38<21:33:29,  2.22s/it]"
     ]
    },
    {
     "name": "stdout",
     "output_type": "stream",
     "text": [
      "Step 9\n",
      "create_roi_mask: mask.shape=torch.Size([6, 1, 320, 320, 2])\n",
      "create_roi_mask: mask.shape=torch.Size([6, 1, 320, 320, 2])\n"
     ]
    },
    {
     "name": "stderr",
     "output_type": "stream",
     "text": [
      "Loss=0.119391:   0%|                                                                                                                                                                              | 10/35001 [00:39<20:19:16,  2.09s/it]"
     ]
    },
    {
     "name": "stdout",
     "output_type": "stream",
     "text": [
      "Step 10\n",
      "create_roi_mask: mask.shape=torch.Size([6, 1, 320, 320, 2])\n",
      "create_roi_mask: mask.shape=torch.Size([6, 1, 320, 320, 2])\n"
     ]
    },
    {
     "name": "stderr",
     "output_type": "stream",
     "text": [
      "Loss=0.127476:   0%|                                                                                                                                                                              | 11/35001 [00:41<19:37:08,  2.02s/it]"
     ]
    },
    {
     "name": "stdout",
     "output_type": "stream",
     "text": [
      "Step 11\n",
      "create_roi_mask: mask.shape=torch.Size([6, 1, 320, 320, 2])\n",
      "create_roi_mask: mask.shape=torch.Size([6, 1, 320, 320, 2])\n"
     ]
    },
    {
     "name": "stderr",
     "output_type": "stream",
     "text": [
      "Loss=0.145607:   0%|                                                                                                                                                                              | 12/35001 [00:43<18:57:14,  1.95s/it]"
     ]
    },
    {
     "name": "stdout",
     "output_type": "stream",
     "text": [
      "Step 12\n",
      "create_roi_mask: mask.shape=torch.Size([6, 1, 320, 320, 2])\n",
      "create_roi_mask: mask.shape=torch.Size([6, 1, 320, 320, 2])\n"
     ]
    },
    {
     "name": "stderr",
     "output_type": "stream",
     "text": [
      "Loss=0.135073:   0%|                                                                                                                                                                              | 13/35001 [00:45<18:33:04,  1.91s/it]"
     ]
    },
    {
     "name": "stdout",
     "output_type": "stream",
     "text": [
      "Step 13\n",
      "create_roi_mask: mask.shape=torch.Size([6, 1, 320, 320, 2])\n",
      "create_roi_mask: mask.shape=torch.Size([6, 1, 320, 320, 2])\n"
     ]
    },
    {
     "name": "stderr",
     "output_type": "stream",
     "text": [
      "Loss=0.131985:   0%|                                                                                                                                                                              | 14/35001 [00:47<18:15:16,  1.88s/it]"
     ]
    },
    {
     "name": "stdout",
     "output_type": "stream",
     "text": [
      "Step 14\n",
      "create_roi_mask: mask.shape=torch.Size([6, 1, 320, 320, 2])\n",
      "create_roi_mask: mask.shape=torch.Size([6, 1, 320, 320, 2])\n"
     ]
    },
    {
     "name": "stderr",
     "output_type": "stream",
     "text": [
      "Loss=0.132229:   0%|                                                                                                                                                                              | 15/35001 [00:49<18:04:08,  1.86s/it]"
     ]
    },
    {
     "name": "stdout",
     "output_type": "stream",
     "text": [
      "Step 15\n",
      "create_roi_mask: mask.shape=torch.Size([6, 1, 320, 320, 2])\n",
      "create_roi_mask: mask.shape=torch.Size([6, 1, 320, 320, 2])\n"
     ]
    },
    {
     "name": "stderr",
     "output_type": "stream",
     "text": [
      "Loss=0.124655:   0%|                                                                                                                                                                              | 16/35001 [00:50<17:53:23,  1.84s/it]"
     ]
    },
    {
     "name": "stdout",
     "output_type": "stream",
     "text": [
      "Step 16\n",
      "create_roi_mask: mask.shape=torch.Size([6, 1, 320, 320, 2])\n",
      "create_roi_mask: mask.shape=torch.Size([6, 1, 320, 320, 2])\n"
     ]
    },
    {
     "name": "stderr",
     "output_type": "stream",
     "text": [
      "Loss=0.112808:   0%|                                                                                                                                                                              | 17/35001 [00:52<17:53:52,  1.84s/it]"
     ]
    },
    {
     "name": "stdout",
     "output_type": "stream",
     "text": [
      "Step 17\n",
      "create_roi_mask: mask.shape=torch.Size([6, 1, 320, 320, 2])\n",
      "create_roi_mask: mask.shape=torch.Size([6, 1, 320, 320, 2])\n"
     ]
    },
    {
     "name": "stderr",
     "output_type": "stream",
     "text": [
      "Loss=0.127858:   0%|                                                                                                                                                                              | 18/35001 [00:54<17:49:19,  1.83s/it]"
     ]
    },
    {
     "name": "stdout",
     "output_type": "stream",
     "text": [
      "Step 18\n",
      "create_roi_mask: mask.shape=torch.Size([6, 1, 320, 320, 2])\n",
      "create_roi_mask: mask.shape=torch.Size([6, 1, 320, 320, 2])\n"
     ]
    },
    {
     "name": "stderr",
     "output_type": "stream",
     "text": [
      "Loss=0.107120:   0%|                                                                                                                                                                              | 19/35001 [00:56<17:45:18,  1.83s/it]"
     ]
    },
    {
     "name": "stdout",
     "output_type": "stream",
     "text": [
      "Step 19\n",
      "create_roi_mask: mask.shape=torch.Size([6, 1, 320, 320, 2])\n",
      "create_roi_mask: mask.shape=torch.Size([6, 1, 320, 320, 2])\n"
     ]
    },
    {
     "name": "stderr",
     "output_type": "stream",
     "text": [
      "Loss=0.111528:   0%|                                                                                                                                                                              | 20/35001 [00:58<17:43:07,  1.82s/it]"
     ]
    },
    {
     "name": "stdout",
     "output_type": "stream",
     "text": [
      "Step 20\n",
      "create_roi_mask: mask.shape=torch.Size([6, 1, 320, 320, 2])\n",
      "create_roi_mask: mask.shape=torch.Size([6, 1, 320, 320, 2])\n"
     ]
    },
    {
     "name": "stderr",
     "output_type": "stream",
     "text": [
      "Loss=0.096919:   0%|                                                                                                                                                                              | 21/35001 [01:00<17:49:44,  1.83s/it]"
     ]
    },
    {
     "name": "stdout",
     "output_type": "stream",
     "text": [
      "Step 21\n",
      "create_roi_mask: mask.shape=torch.Size([6, 1, 320, 320, 2])\n",
      "create_roi_mask: mask.shape=torch.Size([6, 1, 320, 320, 2])\n"
     ]
    },
    {
     "name": "stderr",
     "output_type": "stream",
     "text": [
      "Loss=0.107358:   0%|                                                                                                                                                                              | 22/35001 [01:01<17:38:43,  1.82s/it]"
     ]
    },
    {
     "name": "stdout",
     "output_type": "stream",
     "text": [
      "Step 22\n",
      "create_roi_mask: mask.shape=torch.Size([6, 1, 320, 320, 2])\n",
      "create_roi_mask: mask.shape=torch.Size([6, 1, 320, 320, 2])\n"
     ]
    },
    {
     "name": "stderr",
     "output_type": "stream",
     "text": [
      "Loss=0.082360:   0%|                                                                                                                                                                              | 23/35001 [01:03<17:37:58,  1.81s/it]"
     ]
    },
    {
     "name": "stdout",
     "output_type": "stream",
     "text": [
      "Step 23\n",
      "create_roi_mask: mask.shape=torch.Size([6, 1, 320, 320, 2])\n",
      "create_roi_mask: mask.shape=torch.Size([6, 1, 320, 320, 2])\n"
     ]
    },
    {
     "name": "stderr",
     "output_type": "stream",
     "text": [
      "Loss=0.102159:   0%|                                                                                                                                                                              | 24/35001 [01:05<17:36:20,  1.81s/it]"
     ]
    },
    {
     "name": "stdout",
     "output_type": "stream",
     "text": [
      "Step 24\n",
      "create_roi_mask: mask.shape=torch.Size([6, 1, 320, 320, 2])\n",
      "create_roi_mask: mask.shape=torch.Size([6, 1, 320, 320, 2])\n"
     ]
    },
    {
     "name": "stderr",
     "output_type": "stream",
     "text": [
      "Loss=0.097235:   0%|                                                                                                                                                                              | 25/35001 [01:07<17:36:13,  1.81s/it]"
     ]
    },
    {
     "name": "stdout",
     "output_type": "stream",
     "text": [
      "Step 25\n",
      "create_roi_mask: mask.shape=torch.Size([6, 1, 320, 320, 2])\n",
      "create_roi_mask: mask.shape=torch.Size([6, 1, 320, 320, 2])\n"
     ]
    },
    {
     "name": "stderr",
     "output_type": "stream",
     "text": [
      "Loss=0.089649:   0%|▏                                                                                                                                                                             | 26/35001 [01:09<17:40:52,  1.82s/it]"
     ]
    },
    {
     "name": "stdout",
     "output_type": "stream",
     "text": [
      "Step 26\n",
      "create_roi_mask: mask.shape=torch.Size([6, 1, 320, 320, 2])\n",
      "create_roi_mask: mask.shape=torch.Size([6, 1, 320, 320, 2])\n"
     ]
    },
    {
     "name": "stderr",
     "output_type": "stream",
     "text": [
      "Loss=0.095186:   0%|▏                                                                                                                                                                             | 27/35001 [01:10<17:40:36,  1.82s/it]"
     ]
    },
    {
     "name": "stdout",
     "output_type": "stream",
     "text": [
      "Step 27\n",
      "create_roi_mask: mask.shape=torch.Size([6, 1, 320, 320, 2])\n",
      "create_roi_mask: mask.shape=torch.Size([6, 1, 320, 320, 2])\n"
     ]
    },
    {
     "name": "stderr",
     "output_type": "stream",
     "text": [
      "Loss=0.094126:   0%|▏                                                                                                                                                                             | 28/35001 [01:12<17:40:56,  1.82s/it]"
     ]
    },
    {
     "name": "stdout",
     "output_type": "stream",
     "text": [
      "Step 28\n",
      "create_roi_mask: mask.shape=torch.Size([6, 1, 320, 320, 2])\n",
      "create_roi_mask: mask.shape=torch.Size([6, 1, 320, 320, 2])\n"
     ]
    },
    {
     "name": "stderr",
     "output_type": "stream",
     "text": [
      "Loss=0.083949:   0%|▏                                                                                                                                                                             | 29/35001 [01:14<17:41:10,  1.82s/it]"
     ]
    },
    {
     "name": "stdout",
     "output_type": "stream",
     "text": [
      "Step 29\n",
      "create_roi_mask: mask.shape=torch.Size([6, 1, 320, 320, 2])\n",
      "create_roi_mask: mask.shape=torch.Size([6, 1, 320, 320, 2])\n"
     ]
    },
    {
     "name": "stderr",
     "output_type": "stream",
     "text": [
      "Loss=0.084815:   0%|▏                                                                                                                                                                             | 30/35001 [01:16<17:42:11,  1.82s/it]"
     ]
    },
    {
     "name": "stdout",
     "output_type": "stream",
     "text": [
      "Step 30\n",
      "create_roi_mask: mask.shape=torch.Size([6, 1, 320, 320, 2])\n",
      "create_roi_mask: mask.shape=torch.Size([6, 1, 320, 320, 2])\n"
     ]
    },
    {
     "name": "stderr",
     "output_type": "stream",
     "text": [
      "Loss=0.075008:   0%|▏                                                                                                                                                                             | 31/35001 [01:18<17:48:21,  1.83s/it]"
     ]
    },
    {
     "name": "stdout",
     "output_type": "stream",
     "text": [
      "Step 31\n",
      "create_roi_mask: mask.shape=torch.Size([6, 1, 320, 320, 2])\n",
      "create_roi_mask: mask.shape=torch.Size([6, 1, 320, 320, 2])\n"
     ]
    },
    {
     "name": "stderr",
     "output_type": "stream",
     "text": [
      "Loss=0.097661:   0%|▏                                                                                                                                                                             | 32/35001 [01:19<17:36:42,  1.81s/it]"
     ]
    },
    {
     "name": "stdout",
     "output_type": "stream",
     "text": [
      "Step 32\n",
      "create_roi_mask: mask.shape=torch.Size([6, 1, 320, 320, 2])\n",
      "create_roi_mask: mask.shape=torch.Size([6, 1, 320, 320, 2])\n"
     ]
    },
    {
     "name": "stderr",
     "output_type": "stream",
     "text": [
      "Loss=0.078935:   0%|▏                                                                                                                                                                             | 33/35001 [01:21<17:36:13,  1.81s/it]"
     ]
    },
    {
     "name": "stdout",
     "output_type": "stream",
     "text": [
      "Step 33\n",
      "create_roi_mask: mask.shape=torch.Size([6, 1, 320, 320, 2])\n",
      "create_roi_mask: mask.shape=torch.Size([6, 1, 320, 320, 2])\n"
     ]
    },
    {
     "name": "stderr",
     "output_type": "stream",
     "text": [
      "Loss=0.083493:   0%|▏                                                                                                                                                                             | 34/35001 [01:23<17:34:53,  1.81s/it]"
     ]
    },
    {
     "name": "stdout",
     "output_type": "stream",
     "text": [
      "Step 34\n",
      "create_roi_mask: mask.shape=torch.Size([6, 1, 320, 320, 2])\n",
      "create_roi_mask: mask.shape=torch.Size([6, 1, 320, 320, 2])\n"
     ]
    },
    {
     "name": "stderr",
     "output_type": "stream",
     "text": [
      "Loss=0.078462:   0%|▏                                                                                                                                                                             | 35/35001 [01:25<17:35:31,  1.81s/it]"
     ]
    },
    {
     "name": "stdout",
     "output_type": "stream",
     "text": [
      "Step 35\n",
      "create_roi_mask: mask.shape=torch.Size([6, 1, 320, 320, 2])\n",
      "create_roi_mask: mask.shape=torch.Size([6, 1, 320, 320, 2])\n"
     ]
    },
    {
     "name": "stderr",
     "output_type": "stream",
     "text": [
      "Loss=0.079491:   0%|▏                                                                                                                                                                             | 36/35001 [01:27<17:34:45,  1.81s/it]"
     ]
    },
    {
     "name": "stdout",
     "output_type": "stream",
     "text": [
      "Step 36\n",
      "create_roi_mask: mask.shape=torch.Size([6, 1, 320, 320, 2])\n",
      "create_roi_mask: mask.shape=torch.Size([6, 1, 320, 320, 2])\n"
     ]
    },
    {
     "name": "stderr",
     "output_type": "stream",
     "text": [
      "Loss=0.069480:   0%|▏                                                                                                                                                                             | 37/35001 [01:29<17:36:02,  1.81s/it]"
     ]
    },
    {
     "name": "stdout",
     "output_type": "stream",
     "text": [
      "Step 37\n",
      "create_roi_mask: mask.shape=torch.Size([6, 1, 320, 320, 2])\n",
      "create_roi_mask: mask.shape=torch.Size([6, 1, 320, 320, 2])\n"
     ]
    },
    {
     "name": "stderr",
     "output_type": "stream",
     "text": [
      "Loss=0.076261:   0%|▏                                                                                                                                                                             | 38/35001 [01:30<17:38:15,  1.82s/it]"
     ]
    },
    {
     "name": "stdout",
     "output_type": "stream",
     "text": [
      "Step 38\n",
      "create_roi_mask: mask.shape=torch.Size([6, 1, 320, 320, 2])\n",
      "create_roi_mask: mask.shape=torch.Size([6, 1, 320, 320, 2])\n"
     ]
    },
    {
     "name": "stderr",
     "output_type": "stream",
     "text": [
      "Loss=0.082880:   0%|▏                                                                                                                                                                             | 39/35001 [01:32<17:38:40,  1.82s/it]"
     ]
    },
    {
     "name": "stdout",
     "output_type": "stream",
     "text": [
      "Step 39\n",
      "create_roi_mask: mask.shape=torch.Size([6, 1, 320, 320, 2])\n",
      "create_roi_mask: mask.shape=torch.Size([6, 1, 320, 320, 2])\n"
     ]
    },
    {
     "name": "stderr",
     "output_type": "stream",
     "text": [
      "Loss=0.073110:   0%|▏                                                                                                                                                                             | 40/35001 [01:34<17:40:05,  1.82s/it]"
     ]
    },
    {
     "name": "stdout",
     "output_type": "stream",
     "text": [
      "Step 40\n",
      "create_roi_mask: mask.shape=torch.Size([6, 1, 320, 320, 2])\n",
      "create_roi_mask: mask.shape=torch.Size([6, 1, 320, 320, 2])\n"
     ]
    },
    {
     "name": "stderr",
     "output_type": "stream",
     "text": [
      "Loss=0.083694:   0%|▏                                                                                                                                                                             | 41/35001 [01:36<17:48:16,  1.83s/it]"
     ]
    },
    {
     "name": "stdout",
     "output_type": "stream",
     "text": [
      "Step 41\n",
      "create_roi_mask: mask.shape=torch.Size([6, 1, 320, 320, 2])\n",
      "create_roi_mask: mask.shape=torch.Size([6, 1, 320, 320, 2])\n"
     ]
    },
    {
     "name": "stderr",
     "output_type": "stream",
     "text": [
      "Loss=0.070329:   0%|▏                                                                                                                                                                             | 42/35001 [01:38<17:57:58,  1.85s/it]"
     ]
    },
    {
     "name": "stdout",
     "output_type": "stream",
     "text": [
      "Step 42\n",
      "create_roi_mask: mask.shape=torch.Size([6, 1, 320, 320, 2])\n",
      "create_roi_mask: mask.shape=torch.Size([6, 1, 320, 320, 2])\n"
     ]
    },
    {
     "name": "stderr",
     "output_type": "stream",
     "text": [
      "Loss=0.079624:   0%|▏                                                                                                                                                                             | 43/35001 [01:40<17:51:36,  1.84s/it]"
     ]
    },
    {
     "name": "stdout",
     "output_type": "stream",
     "text": [
      "Step 43\n",
      "create_roi_mask: mask.shape=torch.Size([6, 1, 320, 320, 2])\n",
      "create_roi_mask: mask.shape=torch.Size([6, 1, 320, 320, 2])\n"
     ]
    },
    {
     "name": "stderr",
     "output_type": "stream",
     "text": [
      "Loss=0.075239:   0%|▏                                                                                                                                                                             | 44/35001 [01:41<17:47:35,  1.83s/it]"
     ]
    },
    {
     "name": "stdout",
     "output_type": "stream",
     "text": [
      "Step 44\n",
      "create_roi_mask: mask.shape=torch.Size([6, 1, 320, 320, 2])\n",
      "create_roi_mask: mask.shape=torch.Size([6, 1, 320, 320, 2])\n"
     ]
    },
    {
     "name": "stderr",
     "output_type": "stream",
     "text": [
      "Loss=0.064637:   0%|▏                                                                                                                                                                             | 45/35001 [01:43<17:44:39,  1.83s/it]"
     ]
    },
    {
     "name": "stdout",
     "output_type": "stream",
     "text": [
      "Step 45\n",
      "create_roi_mask: mask.shape=torch.Size([6, 1, 320, 320, 2])\n",
      "create_roi_mask: mask.shape=torch.Size([6, 1, 320, 320, 2])\n"
     ]
    },
    {
     "name": "stderr",
     "output_type": "stream",
     "text": [
      "Loss=0.081561:   0%|▏                                                                                                                                                                             | 46/35001 [01:45<17:42:20,  1.82s/it]"
     ]
    },
    {
     "name": "stdout",
     "output_type": "stream",
     "text": [
      "Step 46\n",
      "create_roi_mask: mask.shape=torch.Size([6, 1, 320, 320, 2])\n",
      "create_roi_mask: mask.shape=torch.Size([6, 1, 320, 320, 2])\n"
     ]
    },
    {
     "name": "stderr",
     "output_type": "stream",
     "text": [
      "Loss=0.074646:   0%|▏                                                                                                                                                                             | 47/35001 [01:47<17:51:42,  1.84s/it]"
     ]
    },
    {
     "name": "stdout",
     "output_type": "stream",
     "text": [
      "Step 47\n",
      "create_roi_mask: mask.shape=torch.Size([6, 1, 320, 320, 2])\n",
      "create_roi_mask: mask.shape=torch.Size([6, 1, 320, 320, 2])\n"
     ]
    },
    {
     "name": "stderr",
     "output_type": "stream",
     "text": [
      "Loss=0.084855:   0%|▏                                                                                                                                                                             | 48/35001 [01:49<17:54:44,  1.84s/it]"
     ]
    },
    {
     "name": "stdout",
     "output_type": "stream",
     "text": [
      "Step 48\n",
      "create_roi_mask: mask.shape=torch.Size([6, 1, 320, 320, 2])\n",
      "create_roi_mask: mask.shape=torch.Size([6, 1, 320, 320, 2])\n"
     ]
    },
    {
     "name": "stderr",
     "output_type": "stream",
     "text": [
      "Loss=0.072671:   0%|▏                                                                                                                                                                             | 49/35001 [01:51<17:59:39,  1.85s/it]"
     ]
    },
    {
     "name": "stdout",
     "output_type": "stream",
     "text": [
      "Step 49\n",
      "create_roi_mask: mask.shape=torch.Size([6, 1, 320, 320, 2])\n",
      "create_roi_mask: mask.shape=torch.Size([6, 1, 320, 320, 2])\n"
     ]
    },
    {
     "name": "stderr",
     "output_type": "stream",
     "text": [
      "Loss=0.064078:   0%|▏                                                                                                                                                                             | 50/35001 [01:53<18:19:20,  1.89s/it]"
     ]
    },
    {
     "name": "stdout",
     "output_type": "stream",
     "text": [
      "Step 50\n",
      "create_roi_mask: mask.shape=torch.Size([6, 1, 320, 320, 2])\n",
      "create_roi_mask: mask.shape=torch.Size([6, 1, 320, 320, 2])\n"
     ]
    },
    {
     "name": "stderr",
     "output_type": "stream",
     "text": [
      "Loss=0.064691:   0%|▎                                                                                                                                                                             | 51/35001 [01:54<18:13:37,  1.88s/it]"
     ]
    },
    {
     "name": "stdout",
     "output_type": "stream",
     "text": [
      "Step 51\n",
      "create_roi_mask: mask.shape=torch.Size([6, 1, 320, 320, 2])\n",
      "create_roi_mask: mask.shape=torch.Size([6, 1, 320, 320, 2])\n"
     ]
    },
    {
     "name": "stderr",
     "output_type": "stream",
     "text": [
      "Loss=0.066437:   0%|▎                                                                                                                                                                             | 52/35001 [01:56<17:56:03,  1.85s/it]"
     ]
    },
    {
     "name": "stdout",
     "output_type": "stream",
     "text": [
      "Step 52\n",
      "create_roi_mask: mask.shape=torch.Size([6, 1, 320, 320, 2])\n",
      "create_roi_mask: mask.shape=torch.Size([6, 1, 320, 320, 2])\n"
     ]
    },
    {
     "name": "stderr",
     "output_type": "stream",
     "text": [
      "Loss=0.083553:   0%|▎                                                                                                                                                                             | 53/35001 [01:58<17:49:00,  1.84s/it]"
     ]
    },
    {
     "name": "stdout",
     "output_type": "stream",
     "text": [
      "Step 53\n",
      "create_roi_mask: mask.shape=torch.Size([6, 1, 320, 320, 2])\n",
      "create_roi_mask: mask.shape=torch.Size([6, 1, 320, 320, 2])\n"
     ]
    },
    {
     "name": "stderr",
     "output_type": "stream",
     "text": [
      "Loss=0.069021:   0%|▎                                                                                                                                                                             | 54/35001 [02:00<17:48:45,  1.83s/it]"
     ]
    },
    {
     "name": "stdout",
     "output_type": "stream",
     "text": [
      "Step 54\n",
      "create_roi_mask: mask.shape=torch.Size([6, 1, 320, 320, 2])\n",
      "create_roi_mask: mask.shape=torch.Size([6, 1, 320, 320, 2])\n"
     ]
    },
    {
     "name": "stderr",
     "output_type": "stream",
     "text": [
      "Loss=0.073887:   0%|▎                                                                                                                                                                             | 55/35001 [02:02<17:50:00,  1.84s/it]"
     ]
    },
    {
     "name": "stdout",
     "output_type": "stream",
     "text": [
      "Step 55\n",
      "create_roi_mask: mask.shape=torch.Size([6, 1, 320, 320, 2])\n",
      "create_roi_mask: mask.shape=torch.Size([6, 1, 320, 320, 2])\n"
     ]
    },
    {
     "name": "stderr",
     "output_type": "stream",
     "text": [
      "Loss=0.073359:   0%|▎                                                                                                                                                                             | 56/35001 [02:04<17:46:30,  1.83s/it]"
     ]
    },
    {
     "name": "stdout",
     "output_type": "stream",
     "text": [
      "Step 56\n",
      "create_roi_mask: mask.shape=torch.Size([6, 1, 320, 320, 2])\n",
      "create_roi_mask: mask.shape=torch.Size([6, 1, 320, 320, 2])\n"
     ]
    },
    {
     "name": "stderr",
     "output_type": "stream",
     "text": [
      "Loss=0.070333:   0%|▎                                                                                                                                                                             | 57/35001 [02:05<17:42:46,  1.82s/it]"
     ]
    },
    {
     "name": "stdout",
     "output_type": "stream",
     "text": [
      "Step 57\n",
      "create_roi_mask: mask.shape=torch.Size([6, 1, 320, 320, 2])\n",
      "create_roi_mask: mask.shape=torch.Size([6, 1, 320, 320, 2])\n"
     ]
    },
    {
     "name": "stderr",
     "output_type": "stream",
     "text": [
      "Loss=0.071320:   0%|▎                                                                                                                                                                             | 58/35001 [02:07<17:47:44,  1.83s/it]"
     ]
    },
    {
     "name": "stdout",
     "output_type": "stream",
     "text": [
      "Step 58\n",
      "create_roi_mask: mask.shape=torch.Size([6, 1, 320, 320, 2])\n",
      "create_roi_mask: mask.shape=torch.Size([6, 1, 320, 320, 2])\n"
     ]
    },
    {
     "name": "stderr",
     "output_type": "stream",
     "text": [
      "Loss=0.073964:   0%|▎                                                                                                                                                                             | 59/35001 [02:09<17:45:22,  1.83s/it]"
     ]
    },
    {
     "name": "stdout",
     "output_type": "stream",
     "text": [
      "Step 59\n",
      "create_roi_mask: mask.shape=torch.Size([6, 1, 320, 320, 2])\n",
      "create_roi_mask: mask.shape=torch.Size([6, 1, 320, 320, 2])\n"
     ]
    },
    {
     "name": "stderr",
     "output_type": "stream",
     "text": [
      "Loss=0.061244:   0%|▎                                                                                                                                                                             | 60/35001 [02:11<18:00:43,  1.86s/it]"
     ]
    },
    {
     "name": "stdout",
     "output_type": "stream",
     "text": [
      "Step 60\n",
      "create_roi_mask: mask.shape=torch.Size([6, 1, 320, 320, 2])\n",
      "create_roi_mask: mask.shape=torch.Size([6, 1, 320, 320, 2])\n"
     ]
    },
    {
     "name": "stderr",
     "output_type": "stream",
     "text": [
      "Loss=0.069123:   0%|▎                                                                                                                                                                             | 61/35001 [02:13<18:27:36,  1.90s/it]"
     ]
    },
    {
     "name": "stdout",
     "output_type": "stream",
     "text": [
      "Step 61\n",
      "create_roi_mask: mask.shape=torch.Size([6, 1, 320, 320, 2])\n",
      "create_roi_mask: mask.shape=torch.Size([6, 1, 320, 320, 2])\n"
     ]
    },
    {
     "name": "stderr",
     "output_type": "stream",
     "text": [
      "Loss=0.069084:   0%|▎                                                                                                                                                                             | 62/35001 [02:15<18:04:36,  1.86s/it]"
     ]
    },
    {
     "name": "stdout",
     "output_type": "stream",
     "text": [
      "Step 62\n",
      "create_roi_mask: mask.shape=torch.Size([6, 1, 320, 320, 2])\n",
      "create_roi_mask: mask.shape=torch.Size([6, 1, 320, 320, 2])\n"
     ]
    },
    {
     "name": "stderr",
     "output_type": "stream",
     "text": [
      "Loss=0.068553:   0%|▎                                                                                                                                                                             | 63/35001 [02:17<17:57:02,  1.85s/it]"
     ]
    },
    {
     "name": "stdout",
     "output_type": "stream",
     "text": [
      "Step 63\n",
      "create_roi_mask: mask.shape=torch.Size([6, 1, 320, 320, 2])\n",
      "create_roi_mask: mask.shape=torch.Size([6, 1, 320, 320, 2])\n"
     ]
    },
    {
     "name": "stderr",
     "output_type": "stream",
     "text": [
      "Loss=0.082419:   0%|▎                                                                                                                                                                             | 64/35001 [02:18<17:51:45,  1.84s/it]"
     ]
    },
    {
     "name": "stdout",
     "output_type": "stream",
     "text": [
      "Step 64\n",
      "create_roi_mask: mask.shape=torch.Size([6, 1, 320, 320, 2])\n",
      "create_roi_mask: mask.shape=torch.Size([6, 1, 320, 320, 2])\n"
     ]
    },
    {
     "name": "stderr",
     "output_type": "stream",
     "text": [
      "Loss=0.061460:   0%|▎                                                                                                                                                                             | 65/35001 [02:20<17:51:31,  1.84s/it]"
     ]
    },
    {
     "name": "stdout",
     "output_type": "stream",
     "text": [
      "Step 65\n",
      "create_roi_mask: mask.shape=torch.Size([6, 1, 320, 320, 2])\n",
      "create_roi_mask: mask.shape=torch.Size([6, 1, 320, 320, 2])\n"
     ]
    },
    {
     "name": "stderr",
     "output_type": "stream",
     "text": [
      "Loss=0.064328:   0%|▎                                                                                                                                                                             | 66/35001 [02:22<17:47:18,  1.83s/it]"
     ]
    },
    {
     "name": "stdout",
     "output_type": "stream",
     "text": [
      "Step 66\n",
      "create_roi_mask: mask.shape=torch.Size([6, 1, 320, 320, 2])\n",
      "create_roi_mask: mask.shape=torch.Size([6, 1, 320, 320, 2])\n"
     ]
    },
    {
     "name": "stderr",
     "output_type": "stream",
     "text": [
      "Loss=0.076796:   0%|▎                                                                                                                                                                             | 67/35001 [02:24<18:08:43,  1.87s/it]"
     ]
    },
    {
     "name": "stdout",
     "output_type": "stream",
     "text": [
      "Step 67\n",
      "create_roi_mask: mask.shape=torch.Size([6, 1, 320, 320, 2])\n",
      "create_roi_mask: mask.shape=torch.Size([6, 1, 320, 320, 2])\n"
     ]
    },
    {
     "name": "stderr",
     "output_type": "stream",
     "text": [
      "Loss=0.061492:   0%|▎                                                                                                                                                                             | 68/35001 [02:26<18:17:56,  1.89s/it]"
     ]
    },
    {
     "name": "stdout",
     "output_type": "stream",
     "text": [
      "Step 68\n",
      "create_roi_mask: mask.shape=torch.Size([6, 1, 320, 320, 2])\n",
      "create_roi_mask: mask.shape=torch.Size([6, 1, 320, 320, 2])\n"
     ]
    },
    {
     "name": "stderr",
     "output_type": "stream",
     "text": [
      "Loss=0.072448:   0%|▎                                                                                                                                                                             | 69/35001 [02:28<18:09:07,  1.87s/it]"
     ]
    },
    {
     "name": "stdout",
     "output_type": "stream",
     "text": [
      "Step 69\n",
      "create_roi_mask: mask.shape=torch.Size([6, 1, 320, 320, 2])\n",
      "create_roi_mask: mask.shape=torch.Size([6, 1, 320, 320, 2])\n"
     ]
    },
    {
     "name": "stderr",
     "output_type": "stream",
     "text": [
      "Loss=0.077208:   0%|▎                                                                                                                                                                             | 70/35001 [02:30<17:59:46,  1.85s/it]"
     ]
    },
    {
     "name": "stdout",
     "output_type": "stream",
     "text": [
      "Step 70\n",
      "create_roi_mask: mask.shape=torch.Size([6, 1, 320, 320, 2])\n",
      "create_roi_mask: mask.shape=torch.Size([6, 1, 320, 320, 2])\n"
     ]
    },
    {
     "name": "stderr",
     "output_type": "stream",
     "text": [
      "Loss=0.051598:   0%|▎                                                                                                                                                                             | 71/35001 [02:31<18:02:02,  1.86s/it]"
     ]
    },
    {
     "name": "stdout",
     "output_type": "stream",
     "text": [
      "Step 71\n",
      "create_roi_mask: mask.shape=torch.Size([6, 1, 320, 320, 2])\n",
      "create_roi_mask: mask.shape=torch.Size([6, 1, 320, 320, 2])\n"
     ]
    },
    {
     "name": "stderr",
     "output_type": "stream",
     "text": [
      "Loss=0.073254:   0%|▎                                                                                                                                                                             | 72/35001 [02:33<18:10:21,  1.87s/it]"
     ]
    },
    {
     "name": "stdout",
     "output_type": "stream",
     "text": [
      "Step 72\n",
      "create_roi_mask: mask.shape=torch.Size([6, 1, 320, 320, 2])\n",
      "create_roi_mask: mask.shape=torch.Size([6, 1, 320, 320, 2])\n"
     ]
    },
    {
     "name": "stderr",
     "output_type": "stream",
     "text": [
      "Loss=0.071482:   0%|▎                                                                                                                                                                             | 73/35001 [02:35<18:00:39,  1.86s/it]"
     ]
    },
    {
     "name": "stdout",
     "output_type": "stream",
     "text": [
      "Step 73\n",
      "create_roi_mask: mask.shape=torch.Size([6, 1, 320, 320, 2])\n",
      "create_roi_mask: mask.shape=torch.Size([6, 1, 320, 320, 2])\n"
     ]
    },
    {
     "name": "stderr",
     "output_type": "stream",
     "text": [
      "Loss=0.071511:   0%|▎                                                                                                                                                                             | 74/35001 [02:37<17:57:45,  1.85s/it]"
     ]
    },
    {
     "name": "stdout",
     "output_type": "stream",
     "text": [
      "Step 74\n",
      "create_roi_mask: mask.shape=torch.Size([6, 1, 320, 320, 2])\n",
      "create_roi_mask: mask.shape=torch.Size([6, 1, 320, 320, 2])\n"
     ]
    },
    {
     "name": "stderr",
     "output_type": "stream",
     "text": [
      "Loss=0.067443:   0%|▎                                                                                                                                                                             | 75/35001 [02:39<17:54:55,  1.85s/it]"
     ]
    },
    {
     "name": "stdout",
     "output_type": "stream",
     "text": [
      "Step 75\n",
      "create_roi_mask: mask.shape=torch.Size([6, 1, 320, 320, 2])\n",
      "create_roi_mask: mask.shape=torch.Size([6, 1, 320, 320, 2])\n"
     ]
    },
    {
     "name": "stderr",
     "output_type": "stream",
     "text": [
      "Loss=0.067487:   0%|▍                                                                                                                                                                             | 76/35001 [02:41<17:52:02,  1.84s/it]"
     ]
    },
    {
     "name": "stdout",
     "output_type": "stream",
     "text": [
      "Step 76\n",
      "create_roi_mask: mask.shape=torch.Size([6, 1, 320, 320, 2])\n",
      "create_roi_mask: mask.shape=torch.Size([6, 1, 320, 320, 2])\n"
     ]
    },
    {
     "name": "stderr",
     "output_type": "stream",
     "text": [
      "Loss=0.071162:   0%|▍                                                                                                                                                                             | 77/35001 [02:42<17:49:33,  1.84s/it]"
     ]
    },
    {
     "name": "stdout",
     "output_type": "stream",
     "text": [
      "Step 77\n",
      "create_roi_mask: mask.shape=torch.Size([6, 1, 320, 320, 2])\n",
      "create_roi_mask: mask.shape=torch.Size([6, 1, 320, 320, 2])\n"
     ]
    },
    {
     "name": "stderr",
     "output_type": "stream",
     "text": [
      "Loss=0.072082:   0%|▍                                                                                                                                                                             | 78/35001 [02:44<17:58:15,  1.85s/it]"
     ]
    },
    {
     "name": "stdout",
     "output_type": "stream",
     "text": [
      "Step 78\n",
      "create_roi_mask: mask.shape=torch.Size([6, 1, 320, 320, 2])\n",
      "create_roi_mask: mask.shape=torch.Size([6, 1, 320, 320, 2])\n"
     ]
    },
    {
     "name": "stderr",
     "output_type": "stream",
     "text": [
      "Loss=0.064846:   0%|▍                                                                                                                                                                             | 79/35001 [02:46<18:15:31,  1.88s/it]"
     ]
    },
    {
     "name": "stdout",
     "output_type": "stream",
     "text": [
      "Step 79\n",
      "create_roi_mask: mask.shape=torch.Size([6, 1, 320, 320, 2])\n",
      "create_roi_mask: mask.shape=torch.Size([6, 1, 320, 320, 2])\n"
     ]
    },
    {
     "name": "stderr",
     "output_type": "stream",
     "text": [
      "Loss=0.056989:   0%|▍                                                                                                                                                                             | 80/35001 [02:48<18:15:51,  1.88s/it]"
     ]
    },
    {
     "name": "stdout",
     "output_type": "stream",
     "text": [
      "Step 80\n",
      "create_roi_mask: mask.shape=torch.Size([6, 1, 320, 320, 2])\n",
      "create_roi_mask: mask.shape=torch.Size([6, 1, 320, 320, 2])\n"
     ]
    },
    {
     "name": "stderr",
     "output_type": "stream",
     "text": [
      "Loss=0.071567:   0%|▍                                                                                                                                                                             | 81/35001 [02:50<18:23:17,  1.90s/it]"
     ]
    },
    {
     "name": "stdout",
     "output_type": "stream",
     "text": [
      "Step 81\n",
      "create_roi_mask: mask.shape=torch.Size([6, 1, 320, 320, 2])\n",
      "create_roi_mask: mask.shape=torch.Size([6, 1, 320, 320, 2])\n"
     ]
    },
    {
     "name": "stderr",
     "output_type": "stream",
     "text": [
      "Loss=0.067365:   0%|▍                                                                                                                                                                             | 82/35001 [02:52<18:29:22,  1.91s/it]"
     ]
    },
    {
     "name": "stdout",
     "output_type": "stream",
     "text": [
      "Step 82\n",
      "create_roi_mask: mask.shape=torch.Size([6, 1, 320, 320, 2])\n",
      "create_roi_mask: mask.shape=torch.Size([6, 1, 320, 320, 2])\n"
     ]
    },
    {
     "name": "stderr",
     "output_type": "stream",
     "text": [
      "Loss=0.075639:   0%|▍                                                                                                                                                                             | 83/35001 [02:54<18:27:03,  1.90s/it]"
     ]
    },
    {
     "name": "stdout",
     "output_type": "stream",
     "text": [
      "Step 83\n",
      "create_roi_mask: mask.shape=torch.Size([6, 1, 320, 320, 2])\n",
      "create_roi_mask: mask.shape=torch.Size([6, 1, 320, 320, 2])\n"
     ]
    },
    {
     "name": "stderr",
     "output_type": "stream",
     "text": [
      "Loss=0.076817:   0%|▍                                                                                                                                                                             | 84/35001 [02:56<18:13:03,  1.88s/it]"
     ]
    },
    {
     "name": "stdout",
     "output_type": "stream",
     "text": [
      "Step 84\n",
      "create_roi_mask: mask.shape=torch.Size([6, 1, 320, 320, 2])\n",
      "create_roi_mask: mask.shape=torch.Size([6, 1, 320, 320, 2])\n"
     ]
    },
    {
     "name": "stderr",
     "output_type": "stream",
     "text": [
      "Loss=0.066860:   0%|▍                                                                                                                                                                             | 85/35001 [02:58<18:24:55,  1.90s/it]"
     ]
    },
    {
     "name": "stdout",
     "output_type": "stream",
     "text": [
      "Step 85\n",
      "create_roi_mask: mask.shape=torch.Size([6, 1, 320, 320, 2])\n",
      "create_roi_mask: mask.shape=torch.Size([6, 1, 320, 320, 2])\n"
     ]
    },
    {
     "name": "stderr",
     "output_type": "stream",
     "text": [
      "Loss=0.064065:   0%|▍                                                                                                                                                                             | 86/35001 [03:00<18:41:32,  1.93s/it]"
     ]
    },
    {
     "name": "stdout",
     "output_type": "stream",
     "text": [
      "Step 86\n",
      "create_roi_mask: mask.shape=torch.Size([6, 1, 320, 320, 2])\n",
      "create_roi_mask: mask.shape=torch.Size([6, 1, 320, 320, 2])\n"
     ]
    },
    {
     "name": "stderr",
     "output_type": "stream",
     "text": [
      "Loss=0.060924:   0%|▍                                                                                                                                                                             | 87/35001 [03:01<18:22:24,  1.89s/it]"
     ]
    },
    {
     "name": "stdout",
     "output_type": "stream",
     "text": [
      "Step 87\n",
      "create_roi_mask: mask.shape=torch.Size([6, 1, 320, 320, 2])\n",
      "create_roi_mask: mask.shape=torch.Size([6, 1, 320, 320, 2])\n"
     ]
    },
    {
     "name": "stderr",
     "output_type": "stream",
     "text": [
      "Loss=0.068848:   0%|▍                                                                                                                                                                             | 88/35001 [03:04<18:57:08,  1.95s/it]"
     ]
    },
    {
     "name": "stdout",
     "output_type": "stream",
     "text": [
      "Step 88\n",
      "create_roi_mask: mask.shape=torch.Size([6, 1, 320, 320, 2])\n",
      "create_roi_mask: mask.shape=torch.Size([6, 1, 320, 320, 2])\n"
     ]
    },
    {
     "name": "stderr",
     "output_type": "stream",
     "text": [
      "Loss=0.071077:   0%|▍                                                                                                                                                                             | 89/35001 [03:05<18:39:23,  1.92s/it]"
     ]
    },
    {
     "name": "stdout",
     "output_type": "stream",
     "text": [
      "Step 89\n",
      "create_roi_mask: mask.shape=torch.Size([6, 1, 320, 320, 2])\n",
      "create_roi_mask: mask.shape=torch.Size([6, 1, 320, 320, 2])\n"
     ]
    },
    {
     "name": "stderr",
     "output_type": "stream",
     "text": [
      "Loss=0.072797:   0%|▍                                                                                                                                                                             | 90/35001 [03:07<19:00:18,  1.96s/it]"
     ]
    },
    {
     "name": "stdout",
     "output_type": "stream",
     "text": [
      "Step 90\n",
      "create_roi_mask: mask.shape=torch.Size([6, 1, 320, 320, 2])\n",
      "create_roi_mask: mask.shape=torch.Size([6, 1, 320, 320, 2])\n"
     ]
    },
    {
     "name": "stderr",
     "output_type": "stream",
     "text": [
      "Loss=0.071597:   0%|▍                                                                                                                                                                             | 91/35001 [03:09<18:47:27,  1.94s/it]"
     ]
    },
    {
     "name": "stdout",
     "output_type": "stream",
     "text": [
      "Step 91\n",
      "create_roi_mask: mask.shape=torch.Size([6, 1, 320, 320, 2])\n",
      "create_roi_mask: mask.shape=torch.Size([6, 1, 320, 320, 2])\n"
     ]
    },
    {
     "name": "stderr",
     "output_type": "stream",
     "text": [
      "Loss=0.070944:   0%|▍                                                                                                                                                                             | 92/35001 [03:11<19:16:31,  1.99s/it]"
     ]
    },
    {
     "name": "stdout",
     "output_type": "stream",
     "text": [
      "Step 92\n",
      "create_roi_mask: mask.shape=torch.Size([6, 1, 320, 320, 2])\n",
      "create_roi_mask: mask.shape=torch.Size([6, 1, 320, 320, 2])\n"
     ]
    },
    {
     "name": "stderr",
     "output_type": "stream",
     "text": [
      "Loss=0.061123:   0%|▍                                                                                                                                                                             | 93/35001 [03:13<19:01:38,  1.96s/it]"
     ]
    },
    {
     "name": "stdout",
     "output_type": "stream",
     "text": [
      "Step 93\n",
      "create_roi_mask: mask.shape=torch.Size([6, 1, 320, 320, 2])\n",
      "create_roi_mask: mask.shape=torch.Size([6, 1, 320, 320, 2])\n"
     ]
    },
    {
     "name": "stderr",
     "output_type": "stream",
     "text": [
      "Loss=0.077094:   0%|▍                                                                                                                                                                             | 94/35001 [03:15<18:45:43,  1.93s/it]"
     ]
    },
    {
     "name": "stdout",
     "output_type": "stream",
     "text": [
      "Step 94\n",
      "create_roi_mask: mask.shape=torch.Size([6, 1, 320, 320, 2])\n",
      "create_roi_mask: mask.shape=torch.Size([6, 1, 320, 320, 2])\n"
     ]
    },
    {
     "name": "stderr",
     "output_type": "stream",
     "text": [
      "Loss=0.060418:   0%|▍                                                                                                                                                                             | 95/35001 [03:17<18:38:41,  1.92s/it]"
     ]
    },
    {
     "name": "stdout",
     "output_type": "stream",
     "text": [
      "Step 95\n",
      "create_roi_mask: mask.shape=torch.Size([6, 1, 320, 320, 2])\n",
      "create_roi_mask: mask.shape=torch.Size([6, 1, 320, 320, 2])\n"
     ]
    },
    {
     "name": "stderr",
     "output_type": "stream",
     "text": [
      "Loss=0.059321:   0%|▍                                                                                                                                                                             | 96/35001 [03:19<18:24:42,  1.90s/it]"
     ]
    },
    {
     "name": "stdout",
     "output_type": "stream",
     "text": [
      "Step 96\n",
      "create_roi_mask: mask.shape=torch.Size([6, 1, 320, 320, 2])\n",
      "create_roi_mask: mask.shape=torch.Size([6, 1, 320, 320, 2])\n"
     ]
    },
    {
     "name": "stderr",
     "output_type": "stream",
     "text": [
      "Loss=0.065989:   0%|▍                                                                                                                                                                             | 97/35001 [03:21<18:17:06,  1.89s/it]"
     ]
    },
    {
     "name": "stdout",
     "output_type": "stream",
     "text": [
      "Step 97\n",
      "create_roi_mask: mask.shape=torch.Size([6, 1, 320, 320, 2])\n",
      "create_roi_mask: mask.shape=torch.Size([6, 1, 320, 320, 2])\n"
     ]
    },
    {
     "name": "stderr",
     "output_type": "stream",
     "text": [
      "Loss=0.068721:   0%|▍                                                                                                                                                                             | 98/35001 [03:23<18:19:32,  1.89s/it]"
     ]
    },
    {
     "name": "stdout",
     "output_type": "stream",
     "text": [
      "Step 98\n",
      "create_roi_mask: mask.shape=torch.Size([6, 1, 320, 320, 2])\n",
      "create_roi_mask: mask.shape=torch.Size([6, 1, 320, 320, 2])\n"
     ]
    },
    {
     "name": "stderr",
     "output_type": "stream",
     "text": [
      "Loss=0.059663:   0%|▍                                                                                                                                                                             | 99/35001 [03:25<18:24:29,  1.90s/it]"
     ]
    },
    {
     "name": "stdout",
     "output_type": "stream",
     "text": [
      "Step 99\n",
      "create_roi_mask: mask.shape=torch.Size([6, 1, 320, 320, 2])\n",
      "create_roi_mask: mask.shape=torch.Size([6, 1, 320, 320, 2])\n"
     ]
    },
    {
     "name": "stderr",
     "output_type": "stream",
     "text": [
      "Loss=0.055638:   0%|▍                                                                                                                                                                            | 100/35001 [03:27<18:22:16,  1.89s/it]"
     ]
    },
    {
     "name": "stdout",
     "output_type": "stream",
     "text": [
      "Step 100\n",
      "create_roi_mask: mask.shape=torch.Size([6, 1, 320, 320, 2])\n",
      "create_roi_mask: mask.shape=torch.Size([6, 1, 320, 320, 2])\n"
     ]
    },
    {
     "name": "stderr",
     "output_type": "stream",
     "text": [
      "Loss=0.073399:   0%|▍                                                                                                                                                                            | 101/35001 [03:28<18:16:23,  1.88s/it]"
     ]
    },
    {
     "name": "stdout",
     "output_type": "stream",
     "text": [
      "Step 101\n",
      "create_roi_mask: mask.shape=torch.Size([6, 1, 320, 320, 2])\n",
      "create_roi_mask: mask.shape=torch.Size([6, 1, 320, 320, 2])\n"
     ]
    },
    {
     "name": "stderr",
     "output_type": "stream",
     "text": [
      "Loss=0.051867:   0%|▌                                                                                                                                                                            | 102/35001 [03:30<18:15:10,  1.88s/it]"
     ]
    },
    {
     "name": "stdout",
     "output_type": "stream",
     "text": [
      "Step 102\n",
      "create_roi_mask: mask.shape=torch.Size([6, 1, 320, 320, 2])\n",
      "create_roi_mask: mask.shape=torch.Size([6, 1, 320, 320, 2])\n"
     ]
    },
    {
     "name": "stderr",
     "output_type": "stream",
     "text": [
      "Loss=0.066783:   0%|▌                                                                                                                                                                            | 103/35001 [03:32<18:13:34,  1.88s/it]"
     ]
    },
    {
     "name": "stdout",
     "output_type": "stream",
     "text": [
      "Step 103\n",
      "create_roi_mask: mask.shape=torch.Size([6, 1, 320, 320, 2])\n",
      "create_roi_mask: mask.shape=torch.Size([6, 1, 320, 320, 2])\n"
     ]
    },
    {
     "name": "stderr",
     "output_type": "stream",
     "text": [
      "Loss=0.063482:   0%|▌                                                                                                                                                                            | 104/35001 [03:34<18:12:51,  1.88s/it]"
     ]
    },
    {
     "name": "stdout",
     "output_type": "stream",
     "text": [
      "Step 104\n",
      "create_roi_mask: mask.shape=torch.Size([6, 1, 320, 320, 2])\n",
      "create_roi_mask: mask.shape=torch.Size([6, 1, 320, 320, 2])\n"
     ]
    },
    {
     "name": "stderr",
     "output_type": "stream",
     "text": [
      "Loss=0.070581:   0%|▌                                                                                                                                                                            | 105/35001 [03:36<18:09:59,  1.87s/it]"
     ]
    },
    {
     "name": "stdout",
     "output_type": "stream",
     "text": [
      "Step 105\n",
      "create_roi_mask: mask.shape=torch.Size([6, 1, 320, 320, 2])\n",
      "create_roi_mask: mask.shape=torch.Size([6, 1, 320, 320, 2])\n"
     ]
    },
    {
     "name": "stderr",
     "output_type": "stream",
     "text": [
      "Loss=0.074808:   0%|▌                                                                                                                                                                            | 106/35001 [03:38<18:28:04,  1.91s/it]"
     ]
    },
    {
     "name": "stdout",
     "output_type": "stream",
     "text": [
      "Step 106\n",
      "create_roi_mask: mask.shape=torch.Size([6, 1, 320, 320, 2])\n",
      "create_roi_mask: mask.shape=torch.Size([6, 1, 320, 320, 2])\n"
     ]
    },
    {
     "name": "stderr",
     "output_type": "stream",
     "text": [
      "Loss=0.066654:   0%|▌                                                                                                                                                                            | 107/35001 [03:40<18:14:33,  1.88s/it]"
     ]
    },
    {
     "name": "stdout",
     "output_type": "stream",
     "text": [
      "Step 107\n",
      "create_roi_mask: mask.shape=torch.Size([6, 1, 320, 320, 2])\n",
      "create_roi_mask: mask.shape=torch.Size([6, 1, 320, 320, 2])\n"
     ]
    },
    {
     "name": "stderr",
     "output_type": "stream",
     "text": [
      "Loss=0.060866:   0%|▌                                                                                                                                                                            | 108/35001 [03:42<18:15:11,  1.88s/it]"
     ]
    },
    {
     "name": "stdout",
     "output_type": "stream",
     "text": [
      "Step 108\n",
      "create_roi_mask: mask.shape=torch.Size([6, 1, 320, 320, 2])\n",
      "create_roi_mask: mask.shape=torch.Size([6, 1, 320, 320, 2])\n"
     ]
    },
    {
     "name": "stderr",
     "output_type": "stream",
     "text": [
      "Loss=0.077359:   0%|▌                                                                                                                                                                            | 109/35001 [03:43<18:14:24,  1.88s/it]"
     ]
    },
    {
     "name": "stdout",
     "output_type": "stream",
     "text": [
      "Step 109\n",
      "create_roi_mask: mask.shape=torch.Size([6, 1, 320, 320, 2])\n",
      "create_roi_mask: mask.shape=torch.Size([6, 1, 320, 320, 2])\n"
     ]
    },
    {
     "name": "stderr",
     "output_type": "stream",
     "text": [
      "Loss=0.055551:   0%|▌                                                                                                                                                                            | 110/35001 [03:45<18:30:12,  1.91s/it]"
     ]
    },
    {
     "name": "stdout",
     "output_type": "stream",
     "text": [
      "Step 110\n",
      "create_roi_mask: mask.shape=torch.Size([6, 1, 320, 320, 2])\n",
      "create_roi_mask: mask.shape=torch.Size([6, 1, 320, 320, 2])\n"
     ]
    },
    {
     "name": "stderr",
     "output_type": "stream",
     "text": [
      "Loss=0.064649:   0%|▌                                                                                                                                                                            | 111/35001 [03:47<18:39:01,  1.92s/it]"
     ]
    },
    {
     "name": "stdout",
     "output_type": "stream",
     "text": [
      "Step 111\n",
      "create_roi_mask: mask.shape=torch.Size([6, 1, 320, 320, 2])\n",
      "create_roi_mask: mask.shape=torch.Size([6, 1, 320, 320, 2])\n"
     ]
    },
    {
     "name": "stderr",
     "output_type": "stream",
     "text": [
      "Loss=0.056992:   0%|▌                                                                                                                                                                            | 112/35001 [03:49<18:19:05,  1.89s/it]"
     ]
    },
    {
     "name": "stdout",
     "output_type": "stream",
     "text": [
      "Step 112\n",
      "create_roi_mask: mask.shape=torch.Size([6, 1, 320, 320, 2])\n",
      "create_roi_mask: mask.shape=torch.Size([6, 1, 320, 320, 2])\n"
     ]
    },
    {
     "name": "stderr",
     "output_type": "stream",
     "text": [
      "Loss=0.062452:   0%|▌                                                                                                                                                                            | 113/35001 [03:51<18:33:48,  1.92s/it]"
     ]
    },
    {
     "name": "stdout",
     "output_type": "stream",
     "text": [
      "Step 113\n",
      "create_roi_mask: mask.shape=torch.Size([6, 1, 320, 320, 2])\n",
      "create_roi_mask: mask.shape=torch.Size([6, 1, 320, 320, 2])\n"
     ]
    },
    {
     "name": "stderr",
     "output_type": "stream",
     "text": [
      "Loss=0.068890:   0%|▌                                                                                                                                                                            | 114/35001 [03:53<18:22:53,  1.90s/it]"
     ]
    },
    {
     "name": "stdout",
     "output_type": "stream",
     "text": [
      "Step 114\n",
      "create_roi_mask: mask.shape=torch.Size([6, 1, 320, 320, 2])\n",
      "create_roi_mask: mask.shape=torch.Size([6, 1, 320, 320, 2])\n"
     ]
    },
    {
     "name": "stderr",
     "output_type": "stream",
     "text": [
      "Loss=0.060023:   0%|▌                                                                                                                                                                            | 115/35001 [03:55<18:07:39,  1.87s/it]"
     ]
    },
    {
     "name": "stdout",
     "output_type": "stream",
     "text": [
      "Step 115\n",
      "create_roi_mask: mask.shape=torch.Size([6, 1, 320, 320, 2])\n",
      "create_roi_mask: mask.shape=torch.Size([6, 1, 320, 320, 2])\n"
     ]
    },
    {
     "name": "stderr",
     "output_type": "stream",
     "text": [
      "Loss=0.067807:   0%|▌                                                                                                                                                                            | 116/35001 [03:57<17:57:23,  1.85s/it]"
     ]
    },
    {
     "name": "stdout",
     "output_type": "stream",
     "text": [
      "Step 116\n",
      "create_roi_mask: mask.shape=torch.Size([6, 1, 320, 320, 2])\n",
      "create_roi_mask: mask.shape=torch.Size([6, 1, 320, 320, 2])\n"
     ]
    },
    {
     "name": "stderr",
     "output_type": "stream",
     "text": [
      "Loss=0.065994:   0%|▌                                                                                                                                                                            | 117/35001 [03:59<18:21:45,  1.89s/it]"
     ]
    },
    {
     "name": "stdout",
     "output_type": "stream",
     "text": [
      "Step 117\n",
      "create_roi_mask: mask.shape=torch.Size([6, 1, 320, 320, 2])\n",
      "create_roi_mask: mask.shape=torch.Size([6, 1, 320, 320, 2])\n"
     ]
    },
    {
     "name": "stderr",
     "output_type": "stream",
     "text": [
      "Loss=0.067662:   0%|▌                                                                                                                                                                            | 118/35001 [04:01<18:37:22,  1.92s/it]"
     ]
    },
    {
     "name": "stdout",
     "output_type": "stream",
     "text": [
      "Step 118\n",
      "create_roi_mask: mask.shape=torch.Size([6, 1, 320, 320, 2])\n",
      "create_roi_mask: mask.shape=torch.Size([6, 1, 320, 320, 2])\n"
     ]
    },
    {
     "name": "stderr",
     "output_type": "stream",
     "text": [
      "Loss=0.062593:   0%|▌                                                                                                                                                                            | 119/35001 [04:03<18:37:36,  1.92s/it]"
     ]
    },
    {
     "name": "stdout",
     "output_type": "stream",
     "text": [
      "Step 119\n",
      "create_roi_mask: mask.shape=torch.Size([6, 1, 320, 320, 2])\n",
      "create_roi_mask: mask.shape=torch.Size([6, 1, 320, 320, 2])\n"
     ]
    },
    {
     "name": "stderr",
     "output_type": "stream",
     "text": [
      "Loss=0.070763:   0%|▌                                                                                                                                                                            | 120/35001 [04:05<18:47:01,  1.94s/it]"
     ]
    },
    {
     "name": "stdout",
     "output_type": "stream",
     "text": [
      "Step 120\n",
      "create_roi_mask: mask.shape=torch.Size([6, 1, 320, 320, 2])\n",
      "create_roi_mask: mask.shape=torch.Size([6, 1, 320, 320, 2])\n"
     ]
    },
    {
     "name": "stderr",
     "output_type": "stream",
     "text": [
      "Loss=0.072707:   0%|▌                                                                                                                                                                            | 121/35001 [04:06<18:47:48,  1.94s/it]"
     ]
    },
    {
     "name": "stdout",
     "output_type": "stream",
     "text": [
      "Step 121\n",
      "create_roi_mask: mask.shape=torch.Size([6, 1, 320, 320, 2])\n",
      "create_roi_mask: mask.shape=torch.Size([6, 1, 320, 320, 2])\n"
     ]
    },
    {
     "name": "stderr",
     "output_type": "stream",
     "text": [
      "Loss=0.056479:   0%|▌                                                                                                                                                                            | 122/35001 [04:08<18:18:50,  1.89s/it]"
     ]
    },
    {
     "name": "stdout",
     "output_type": "stream",
     "text": [
      "Step 122\n",
      "create_roi_mask: mask.shape=torch.Size([6, 1, 320, 320, 2])\n",
      "create_roi_mask: mask.shape=torch.Size([6, 1, 320, 320, 2])\n"
     ]
    },
    {
     "name": "stderr",
     "output_type": "stream",
     "text": [
      "Loss=0.057678:   0%|▌                                                                                                                                                                            | 123/35001 [04:10<18:07:59,  1.87s/it]"
     ]
    },
    {
     "name": "stdout",
     "output_type": "stream",
     "text": [
      "Step 123\n",
      "create_roi_mask: mask.shape=torch.Size([6, 1, 320, 320, 2])\n",
      "create_roi_mask: mask.shape=torch.Size([6, 1, 320, 320, 2])\n"
     ]
    },
    {
     "name": "stderr",
     "output_type": "stream",
     "text": [
      "Loss=0.069293:   0%|▌                                                                                                                                                                            | 124/35001 [04:12<18:10:36,  1.88s/it]"
     ]
    },
    {
     "name": "stdout",
     "output_type": "stream",
     "text": [
      "Step 124\n",
      "create_roi_mask: mask.shape=torch.Size([6, 1, 320, 320, 2])\n",
      "create_roi_mask: mask.shape=torch.Size([6, 1, 320, 320, 2])\n"
     ]
    },
    {
     "name": "stderr",
     "output_type": "stream",
     "text": [
      "Loss=0.073008:   0%|▌                                                                                                                                                                            | 125/35001 [04:14<18:09:18,  1.87s/it]"
     ]
    },
    {
     "name": "stdout",
     "output_type": "stream",
     "text": [
      "Step 125\n",
      "create_roi_mask: mask.shape=torch.Size([6, 1, 320, 320, 2])\n",
      "create_roi_mask: mask.shape=torch.Size([6, 1, 320, 320, 2])\n"
     ]
    },
    {
     "name": "stderr",
     "output_type": "stream",
     "text": [
      "Loss=0.055023:   0%|▌                                                                                                                                                                            | 126/35001 [04:16<17:59:50,  1.86s/it]"
     ]
    },
    {
     "name": "stdout",
     "output_type": "stream",
     "text": [
      "Step 126\n",
      "create_roi_mask: mask.shape=torch.Size([6, 1, 320, 320, 2])\n",
      "create_roi_mask: mask.shape=torch.Size([6, 1, 320, 320, 2])\n"
     ]
    },
    {
     "name": "stderr",
     "output_type": "stream",
     "text": [
      "Loss=0.057166:   0%|▋                                                                                                                                                                            | 127/35001 [04:17<17:50:53,  1.84s/it]"
     ]
    },
    {
     "name": "stdout",
     "output_type": "stream",
     "text": [
      "Step 127\n",
      "create_roi_mask: mask.shape=torch.Size([6, 1, 320, 320, 2])\n",
      "create_roi_mask: mask.shape=torch.Size([6, 1, 320, 320, 2])\n"
     ]
    },
    {
     "name": "stderr",
     "output_type": "stream",
     "text": [
      "Loss=0.064687:   0%|▋                                                                                                                                                                            | 128/35001 [04:19<18:13:05,  1.88s/it]"
     ]
    },
    {
     "name": "stdout",
     "output_type": "stream",
     "text": [
      "Step 128\n",
      "create_roi_mask: mask.shape=torch.Size([6, 1, 320, 320, 2])\n",
      "create_roi_mask: mask.shape=torch.Size([6, 1, 320, 320, 2])\n"
     ]
    },
    {
     "name": "stderr",
     "output_type": "stream",
     "text": [
      "Loss=0.077905:   0%|▋                                                                                                                                                                            | 129/35001 [04:21<18:35:31,  1.92s/it]"
     ]
    },
    {
     "name": "stdout",
     "output_type": "stream",
     "text": [
      "Step 129\n",
      "create_roi_mask: mask.shape=torch.Size([6, 1, 320, 320, 2])\n",
      "create_roi_mask: mask.shape=torch.Size([6, 1, 320, 320, 2])\n"
     ]
    },
    {
     "name": "stderr",
     "output_type": "stream",
     "text": [
      "Loss=0.073368:   0%|▋                                                                                                                                                                            | 130/35001 [04:23<18:37:19,  1.92s/it]"
     ]
    },
    {
     "name": "stdout",
     "output_type": "stream",
     "text": [
      "Step 130\n",
      "create_roi_mask: mask.shape=torch.Size([6, 1, 320, 320, 2])\n",
      "create_roi_mask: mask.shape=torch.Size([6, 1, 320, 320, 2])\n"
     ]
    },
    {
     "name": "stderr",
     "output_type": "stream",
     "text": [
      "Loss=0.073707:   0%|▋                                                                                                                                                                            | 131/35001 [04:25<18:35:56,  1.92s/it]"
     ]
    },
    {
     "name": "stdout",
     "output_type": "stream",
     "text": [
      "Step 131\n",
      "create_roi_mask: mask.shape=torch.Size([6, 1, 320, 320, 2])\n",
      "create_roi_mask: mask.shape=torch.Size([6, 1, 320, 320, 2])\n"
     ]
    },
    {
     "name": "stderr",
     "output_type": "stream",
     "text": [
      "Loss=0.074276:   0%|▋                                                                                                                                                                            | 132/35001 [04:27<18:24:43,  1.90s/it]"
     ]
    },
    {
     "name": "stdout",
     "output_type": "stream",
     "text": [
      "Step 132\n",
      "create_roi_mask: mask.shape=torch.Size([6, 1, 320, 320, 2])\n",
      "create_roi_mask: mask.shape=torch.Size([6, 1, 320, 320, 2])\n"
     ]
    },
    {
     "name": "stderr",
     "output_type": "stream",
     "text": [
      "Loss=0.060752:   0%|▋                                                                                                                                                                            | 133/35001 [04:29<18:09:29,  1.87s/it]"
     ]
    },
    {
     "name": "stdout",
     "output_type": "stream",
     "text": [
      "Step 133\n",
      "create_roi_mask: mask.shape=torch.Size([6, 1, 320, 320, 2])\n",
      "create_roi_mask: mask.shape=torch.Size([6, 1, 320, 320, 2])\n"
     ]
    },
    {
     "name": "stderr",
     "output_type": "stream",
     "text": [
      "Loss=0.076250:   0%|▋                                                                                                                                                                            | 134/35001 [04:31<18:05:40,  1.87s/it]"
     ]
    },
    {
     "name": "stdout",
     "output_type": "stream",
     "text": [
      "Step 134\n",
      "create_roi_mask: mask.shape=torch.Size([6, 1, 320, 320, 2])\n",
      "create_roi_mask: mask.shape=torch.Size([6, 1, 320, 320, 2])\n"
     ]
    },
    {
     "name": "stderr",
     "output_type": "stream",
     "text": [
      "Loss=0.071151:   0%|▋                                                                                                                                                                            | 135/35001 [04:33<18:37:33,  1.92s/it]"
     ]
    },
    {
     "name": "stdout",
     "output_type": "stream",
     "text": [
      "Step 135\n",
      "create_roi_mask: mask.shape=torch.Size([6, 1, 320, 320, 2])\n",
      "create_roi_mask: mask.shape=torch.Size([6, 1, 320, 320, 2])\n"
     ]
    },
    {
     "name": "stderr",
     "output_type": "stream",
     "text": [
      "Loss=0.055700:   0%|▋                                                                                                                                                                            | 136/35001 [04:35<18:19:24,  1.89s/it]"
     ]
    },
    {
     "name": "stdout",
     "output_type": "stream",
     "text": [
      "Step 136\n",
      "create_roi_mask: mask.shape=torch.Size([6, 1, 320, 320, 2])\n",
      "create_roi_mask: mask.shape=torch.Size([6, 1, 320, 320, 2])\n"
     ]
    },
    {
     "name": "stderr",
     "output_type": "stream",
     "text": [
      "Loss=0.058251:   0%|▋                                                                                                                                                                            | 137/35001 [04:37<18:22:20,  1.90s/it]"
     ]
    },
    {
     "name": "stdout",
     "output_type": "stream",
     "text": [
      "Step 137\n",
      "create_roi_mask: mask.shape=torch.Size([6, 1, 320, 320, 2])\n",
      "create_roi_mask: mask.shape=torch.Size([6, 1, 320, 320, 2])\n"
     ]
    },
    {
     "name": "stderr",
     "output_type": "stream",
     "text": [
      "Loss=0.081619:   0%|▋                                                                                                                                                                            | 138/35001 [04:38<18:08:26,  1.87s/it]"
     ]
    },
    {
     "name": "stdout",
     "output_type": "stream",
     "text": [
      "Step 138\n",
      "create_roi_mask: mask.shape=torch.Size([6, 1, 320, 320, 2])\n",
      "create_roi_mask: mask.shape=torch.Size([6, 1, 320, 320, 2])\n"
     ]
    },
    {
     "name": "stderr",
     "output_type": "stream",
     "text": [
      "Loss=0.060517:   0%|▋                                                                                                                                                                            | 139/35001 [04:40<18:09:07,  1.87s/it]"
     ]
    },
    {
     "name": "stdout",
     "output_type": "stream",
     "text": [
      "Step 139\n",
      "create_roi_mask: mask.shape=torch.Size([6, 1, 320, 320, 2])\n",
      "create_roi_mask: mask.shape=torch.Size([6, 1, 320, 320, 2])\n"
     ]
    },
    {
     "name": "stderr",
     "output_type": "stream",
     "text": [
      "Loss=0.064948:   0%|▋                                                                                                                                                                            | 140/35001 [04:42<18:16:28,  1.89s/it]"
     ]
    },
    {
     "name": "stdout",
     "output_type": "stream",
     "text": [
      "Step 140\n",
      "create_roi_mask: mask.shape=torch.Size([6, 1, 320, 320, 2])\n",
      "create_roi_mask: mask.shape=torch.Size([6, 1, 320, 320, 2])\n"
     ]
    },
    {
     "name": "stderr",
     "output_type": "stream",
     "text": [
      "Loss=0.057761:   0%|▋                                                                                                                                                                            | 141/35001 [04:44<18:20:39,  1.89s/it]"
     ]
    },
    {
     "name": "stdout",
     "output_type": "stream",
     "text": [
      "Step 141\n",
      "create_roi_mask: mask.shape=torch.Size([6, 1, 320, 320, 2])\n",
      "create_roi_mask: mask.shape=torch.Size([6, 1, 320, 320, 2])\n"
     ]
    },
    {
     "name": "stderr",
     "output_type": "stream",
     "text": [
      "Loss=0.067509:   0%|▋                                                                                                                                                                            | 142/35001 [04:46<18:14:28,  1.88s/it]"
     ]
    },
    {
     "name": "stdout",
     "output_type": "stream",
     "text": [
      "Step 142\n",
      "create_roi_mask: mask.shape=torch.Size([6, 1, 320, 320, 2])\n",
      "create_roi_mask: mask.shape=torch.Size([6, 1, 320, 320, 2])\n"
     ]
    },
    {
     "name": "stderr",
     "output_type": "stream",
     "text": [
      "Loss=0.050679:   0%|▋                                                                                                                                                                            | 143/35001 [04:48<18:18:37,  1.89s/it]"
     ]
    },
    {
     "name": "stdout",
     "output_type": "stream",
     "text": [
      "Step 143\n",
      "create_roi_mask: mask.shape=torch.Size([6, 1, 320, 320, 2])\n",
      "create_roi_mask: mask.shape=torch.Size([6, 1, 320, 320, 2])\n"
     ]
    },
    {
     "name": "stderr",
     "output_type": "stream",
     "text": [
      "Loss=0.065712:   0%|▋                                                                                                                                                                            | 144/35001 [04:50<18:15:36,  1.89s/it]"
     ]
    },
    {
     "name": "stdout",
     "output_type": "stream",
     "text": [
      "Step 144\n",
      "create_roi_mask: mask.shape=torch.Size([6, 1, 320, 320, 2])\n",
      "create_roi_mask: mask.shape=torch.Size([6, 1, 320, 320, 2])\n"
     ]
    },
    {
     "name": "stderr",
     "output_type": "stream",
     "text": [
      "Loss=0.058071:   0%|▋                                                                                                                                                                            | 145/35001 [04:52<18:21:47,  1.90s/it]"
     ]
    },
    {
     "name": "stdout",
     "output_type": "stream",
     "text": [
      "Step 145\n",
      "create_roi_mask: mask.shape=torch.Size([6, 1, 320, 320, 2])\n",
      "create_roi_mask: mask.shape=torch.Size([6, 1, 320, 320, 2])\n"
     ]
    },
    {
     "name": "stderr",
     "output_type": "stream",
     "text": [
      "Loss=0.063252:   0%|▋                                                                                                                                                                            | 146/35001 [04:54<18:49:03,  1.94s/it]"
     ]
    },
    {
     "name": "stdout",
     "output_type": "stream",
     "text": [
      "Step 146\n",
      "create_roi_mask: mask.shape=torch.Size([6, 1, 320, 320, 2])\n",
      "create_roi_mask: mask.shape=torch.Size([6, 1, 320, 320, 2])\n"
     ]
    },
    {
     "name": "stderr",
     "output_type": "stream",
     "text": [
      "Loss=0.060387:   0%|▋                                                                                                                                                                            | 147/35001 [04:56<18:27:25,  1.91s/it]"
     ]
    },
    {
     "name": "stdout",
     "output_type": "stream",
     "text": [
      "Step 147\n",
      "create_roi_mask: mask.shape=torch.Size([6, 1, 320, 320, 2])\n",
      "create_roi_mask: mask.shape=torch.Size([6, 1, 320, 320, 2])\n"
     ]
    },
    {
     "name": "stderr",
     "output_type": "stream",
     "text": [
      "Loss=0.062563:   0%|▋                                                                                                                                                                            | 148/35001 [04:57<18:28:46,  1.91s/it]"
     ]
    },
    {
     "name": "stdout",
     "output_type": "stream",
     "text": [
      "Step 148\n",
      "create_roi_mask: mask.shape=torch.Size([6, 1, 320, 320, 2])\n",
      "create_roi_mask: mask.shape=torch.Size([6, 1, 320, 320, 2])\n"
     ]
    },
    {
     "name": "stderr",
     "output_type": "stream",
     "text": [
      "Loss=0.062544:   0%|▋                                                                                                                                                                            | 149/35001 [04:59<18:19:41,  1.89s/it]"
     ]
    },
    {
     "name": "stdout",
     "output_type": "stream",
     "text": [
      "Step 149\n",
      "create_roi_mask: mask.shape=torch.Size([6, 1, 320, 320, 2])\n",
      "create_roi_mask: mask.shape=torch.Size([6, 1, 320, 320, 2])\n"
     ]
    },
    {
     "name": "stderr",
     "output_type": "stream",
     "text": [
      "Loss=0.060038:   0%|▋                                                                                                                                                                            | 150/35001 [05:01<18:24:41,  1.90s/it]"
     ]
    },
    {
     "name": "stdout",
     "output_type": "stream",
     "text": [
      "Step 150\n",
      "create_roi_mask: mask.shape=torch.Size([6, 1, 320, 320, 2])\n",
      "create_roi_mask: mask.shape=torch.Size([6, 1, 320, 320, 2])\n"
     ]
    },
    {
     "name": "stderr",
     "output_type": "stream",
     "text": [
      "Loss=0.071806:   0%|▋                                                                                                                                                                            | 151/35001 [05:03<18:32:38,  1.92s/it]"
     ]
    },
    {
     "name": "stdout",
     "output_type": "stream",
     "text": [
      "Step 151\n",
      "create_roi_mask: mask.shape=torch.Size([6, 1, 320, 320, 2])\n",
      "create_roi_mask: mask.shape=torch.Size([6, 1, 320, 320, 2])\n"
     ]
    },
    {
     "name": "stderr",
     "output_type": "stream",
     "text": [
      "Loss=0.062374:   0%|▊                                                                                                                                                                            | 152/35001 [05:05<18:44:58,  1.94s/it]"
     ]
    },
    {
     "name": "stdout",
     "output_type": "stream",
     "text": [
      "Step 152\n",
      "create_roi_mask: mask.shape=torch.Size([6, 1, 320, 320, 2])\n",
      "create_roi_mask: mask.shape=torch.Size([6, 1, 320, 320, 2])\n"
     ]
    },
    {
     "name": "stderr",
     "output_type": "stream",
     "text": [
      "Loss=0.063959:   0%|▊                                                                                                                                                                            | 153/35001 [05:07<19:09:15,  1.98s/it]"
     ]
    },
    {
     "name": "stdout",
     "output_type": "stream",
     "text": [
      "Step 153\n",
      "create_roi_mask: mask.shape=torch.Size([6, 1, 320, 320, 2])\n",
      "create_roi_mask: mask.shape=torch.Size([6, 1, 320, 320, 2])\n"
     ]
    },
    {
     "name": "stderr",
     "output_type": "stream",
     "text": [
      "Loss=0.060656:   0%|▊                                                                                                                                                                            | 154/35001 [05:09<19:10:36,  1.98s/it]"
     ]
    },
    {
     "name": "stdout",
     "output_type": "stream",
     "text": [
      "Step 154\n",
      "create_roi_mask: mask.shape=torch.Size([6, 1, 320, 320, 2])\n",
      "create_roi_mask: mask.shape=torch.Size([6, 1, 320, 320, 2])\n"
     ]
    },
    {
     "name": "stderr",
     "output_type": "stream",
     "text": [
      "Loss=0.065257:   0%|▊                                                                                                                                                                            | 155/35001 [05:11<19:00:09,  1.96s/it]"
     ]
    },
    {
     "name": "stdout",
     "output_type": "stream",
     "text": [
      "Step 155\n",
      "create_roi_mask: mask.shape=torch.Size([6, 1, 320, 320, 2])\n",
      "create_roi_mask: mask.shape=torch.Size([6, 1, 320, 320, 2])\n"
     ]
    },
    {
     "name": "stderr",
     "output_type": "stream",
     "text": [
      "Loss=0.058009:   0%|▊                                                                                                                                                                            | 156/35001 [05:13<19:15:17,  1.99s/it]"
     ]
    },
    {
     "name": "stdout",
     "output_type": "stream",
     "text": [
      "Step 156\n",
      "create_roi_mask: mask.shape=torch.Size([6, 1, 320, 320, 2])\n",
      "create_roi_mask: mask.shape=torch.Size([6, 1, 320, 320, 2])\n"
     ]
    },
    {
     "name": "stderr",
     "output_type": "stream",
     "text": [
      "Loss=0.064981:   0%|▊                                                                                                                                                                            | 157/35001 [05:15<19:05:00,  1.97s/it]"
     ]
    },
    {
     "name": "stdout",
     "output_type": "stream",
     "text": [
      "Step 157\n",
      "create_roi_mask: mask.shape=torch.Size([6, 1, 320, 320, 2])\n",
      "create_roi_mask: mask.shape=torch.Size([6, 1, 320, 320, 2])\n"
     ]
    },
    {
     "name": "stderr",
     "output_type": "stream",
     "text": [
      "Loss=0.058801:   0%|▊                                                                                                                                                                            | 158/35001 [05:17<18:53:34,  1.95s/it]"
     ]
    },
    {
     "name": "stdout",
     "output_type": "stream",
     "text": [
      "Step 158\n",
      "create_roi_mask: mask.shape=torch.Size([6, 1, 320, 320, 2])\n",
      "create_roi_mask: mask.shape=torch.Size([6, 1, 320, 320, 2])\n"
     ]
    },
    {
     "name": "stderr",
     "output_type": "stream",
     "text": [
      "Loss=0.076655:   0%|▊                                                                                                                                                                            | 159/35001 [05:19<18:28:21,  1.91s/it]"
     ]
    },
    {
     "name": "stdout",
     "output_type": "stream",
     "text": [
      "Step 159\n",
      "create_roi_mask: mask.shape=torch.Size([6, 1, 320, 320, 2])\n",
      "create_roi_mask: mask.shape=torch.Size([6, 1, 320, 320, 2])\n"
     ]
    },
    {
     "name": "stderr",
     "output_type": "stream",
     "text": [
      "Loss=0.077933:   0%|▊                                                                                                                                                                            | 160/35001 [05:21<18:48:50,  1.94s/it]"
     ]
    },
    {
     "name": "stdout",
     "output_type": "stream",
     "text": [
      "Step 160\n",
      "create_roi_mask: mask.shape=torch.Size([6, 1, 320, 320, 2])\n",
      "create_roi_mask: mask.shape=torch.Size([6, 1, 320, 320, 2])\n"
     ]
    },
    {
     "name": "stderr",
     "output_type": "stream",
     "text": [
      "Loss=0.065817:   0%|▊                                                                                                                                                                            | 161/35001 [05:23<18:46:09,  1.94s/it]"
     ]
    },
    {
     "name": "stdout",
     "output_type": "stream",
     "text": [
      "Step 161\n",
      "create_roi_mask: mask.shape=torch.Size([6, 1, 320, 320, 2])\n",
      "create_roi_mask: mask.shape=torch.Size([6, 1, 320, 320, 2])\n"
     ]
    },
    {
     "name": "stderr",
     "output_type": "stream",
     "text": [
      "Loss=0.064467:   0%|▊                                                                                                                                                                            | 162/35001 [05:25<18:29:05,  1.91s/it]"
     ]
    },
    {
     "name": "stdout",
     "output_type": "stream",
     "text": [
      "Step 162\n",
      "create_roi_mask: mask.shape=torch.Size([6, 1, 320, 320, 2])\n",
      "create_roi_mask: mask.shape=torch.Size([6, 1, 320, 320, 2])\n"
     ]
    },
    {
     "name": "stderr",
     "output_type": "stream",
     "text": [
      "Loss=0.064052:   0%|▊                                                                                                                                                                            | 163/35001 [05:27<18:33:58,  1.92s/it]"
     ]
    },
    {
     "name": "stdout",
     "output_type": "stream",
     "text": [
      "Step 163\n",
      "create_roi_mask: mask.shape=torch.Size([6, 1, 320, 320, 2])\n",
      "create_roi_mask: mask.shape=torch.Size([6, 1, 320, 320, 2])\n"
     ]
    },
    {
     "name": "stderr",
     "output_type": "stream",
     "text": [
      "Loss=0.053752:   0%|▊                                                                                                                                                                            | 164/35001 [05:29<18:59:49,  1.96s/it]"
     ]
    },
    {
     "name": "stdout",
     "output_type": "stream",
     "text": [
      "Step 164\n",
      "create_roi_mask: mask.shape=torch.Size([6, 1, 320, 320, 2])\n",
      "create_roi_mask: mask.shape=torch.Size([6, 1, 320, 320, 2])\n"
     ]
    },
    {
     "name": "stderr",
     "output_type": "stream",
     "text": [
      "Loss=0.062770:   0%|▊                                                                                                                                                                            | 165/35001 [05:31<18:38:48,  1.93s/it]"
     ]
    },
    {
     "name": "stdout",
     "output_type": "stream",
     "text": [
      "Step 165\n",
      "create_roi_mask: mask.shape=torch.Size([6, 1, 320, 320, 2])\n",
      "create_roi_mask: mask.shape=torch.Size([6, 1, 320, 320, 2])\n"
     ]
    },
    {
     "name": "stderr",
     "output_type": "stream",
     "text": [
      "Loss=0.049103:   0%|▊                                                                                                                                                                            | 166/35001 [05:32<18:35:29,  1.92s/it]"
     ]
    },
    {
     "name": "stdout",
     "output_type": "stream",
     "text": [
      "Step 166\n",
      "create_roi_mask: mask.shape=torch.Size([6, 1, 320, 320, 2])\n",
      "create_roi_mask: mask.shape=torch.Size([6, 1, 320, 320, 2])\n"
     ]
    },
    {
     "name": "stderr",
     "output_type": "stream",
     "text": [
      "Loss=0.068851:   0%|▊                                                                                                                                                                            | 167/35001 [05:34<18:24:39,  1.90s/it]"
     ]
    },
    {
     "name": "stdout",
     "output_type": "stream",
     "text": [
      "Step 167\n",
      "create_roi_mask: mask.shape=torch.Size([6, 1, 320, 320, 2])\n",
      "create_roi_mask: mask.shape=torch.Size([6, 1, 320, 320, 2])\n"
     ]
    },
    {
     "name": "stderr",
     "output_type": "stream",
     "text": [
      "Loss=0.066484:   0%|▊                                                                                                                                                                            | 168/35001 [05:36<18:37:27,  1.92s/it]"
     ]
    },
    {
     "name": "stdout",
     "output_type": "stream",
     "text": [
      "Step 168\n",
      "create_roi_mask: mask.shape=torch.Size([6, 1, 320, 320, 2])\n",
      "create_roi_mask: mask.shape=torch.Size([6, 1, 320, 320, 2])\n"
     ]
    },
    {
     "name": "stderr",
     "output_type": "stream",
     "text": [
      "Loss=0.066979:   0%|▊                                                                                                                                                                            | 169/35001 [05:38<18:32:09,  1.92s/it]"
     ]
    },
    {
     "name": "stdout",
     "output_type": "stream",
     "text": [
      "Step 169\n",
      "create_roi_mask: mask.shape=torch.Size([6, 1, 320, 320, 2])\n",
      "create_roi_mask: mask.shape=torch.Size([6, 1, 320, 320, 2])\n"
     ]
    },
    {
     "name": "stderr",
     "output_type": "stream",
     "text": [
      "Loss=0.074873:   0%|▊                                                                                                                                                                            | 170/35001 [05:40<18:16:44,  1.89s/it]"
     ]
    },
    {
     "name": "stdout",
     "output_type": "stream",
     "text": [
      "Step 170\n",
      "create_roi_mask: mask.shape=torch.Size([6, 1, 320, 320, 2])\n",
      "create_roi_mask: mask.shape=torch.Size([6, 1, 320, 320, 2])\n"
     ]
    },
    {
     "name": "stderr",
     "output_type": "stream",
     "text": [
      "Loss=0.056098:   0%|▊                                                                                                                                                                            | 171/35001 [05:42<18:43:59,  1.94s/it]"
     ]
    },
    {
     "name": "stdout",
     "output_type": "stream",
     "text": [
      "Step 171\n",
      "create_roi_mask: mask.shape=torch.Size([6, 1, 320, 320, 2])\n",
      "create_roi_mask: mask.shape=torch.Size([6, 1, 320, 320, 2])\n"
     ]
    },
    {
     "name": "stderr",
     "output_type": "stream",
     "text": [
      "Loss=0.053436:   0%|▊                                                                                                                                                                            | 172/35001 [05:44<19:02:33,  1.97s/it]"
     ]
    },
    {
     "name": "stdout",
     "output_type": "stream",
     "text": [
      "Step 172\n",
      "create_roi_mask: mask.shape=torch.Size([6, 1, 320, 320, 2])\n",
      "create_roi_mask: mask.shape=torch.Size([6, 1, 320, 320, 2])\n"
     ]
    },
    {
     "name": "stderr",
     "output_type": "stream",
     "text": [
      "Loss=0.052372:   0%|▊                                                                                                                                                                            | 173/35001 [05:46<18:35:21,  1.92s/it]"
     ]
    },
    {
     "name": "stdout",
     "output_type": "stream",
     "text": [
      "Step 173\n",
      "create_roi_mask: mask.shape=torch.Size([6, 1, 320, 320, 2])\n",
      "create_roi_mask: mask.shape=torch.Size([6, 1, 320, 320, 2])\n"
     ]
    },
    {
     "name": "stderr",
     "output_type": "stream",
     "text": [
      "Loss=0.064428:   0%|▊                                                                                                                                                                            | 174/35001 [05:48<18:45:24,  1.94s/it]"
     ]
    },
    {
     "name": "stdout",
     "output_type": "stream",
     "text": [
      "Step 174\n",
      "create_roi_mask: mask.shape=torch.Size([6, 1, 320, 320, 2])\n",
      "create_roi_mask: mask.shape=torch.Size([6, 1, 320, 320, 2])\n"
     ]
    },
    {
     "name": "stderr",
     "output_type": "stream",
     "text": [
      "Loss=0.068260:   0%|▊                                                                                                                                                                            | 175/35001 [05:50<18:27:14,  1.91s/it]"
     ]
    },
    {
     "name": "stdout",
     "output_type": "stream",
     "text": [
      "Step 175\n",
      "create_roi_mask: mask.shape=torch.Size([6, 1, 320, 320, 2])\n",
      "create_roi_mask: mask.shape=torch.Size([6, 1, 320, 320, 2])\n"
     ]
    },
    {
     "name": "stderr",
     "output_type": "stream",
     "text": [
      "Loss=0.067251:   1%|▊                                                                                                                                                                            | 176/35001 [05:52<18:46:24,  1.94s/it]"
     ]
    },
    {
     "name": "stdout",
     "output_type": "stream",
     "text": [
      "Step 176\n",
      "create_roi_mask: mask.shape=torch.Size([6, 1, 320, 320, 2])\n",
      "create_roi_mask: mask.shape=torch.Size([6, 1, 320, 320, 2])\n"
     ]
    },
    {
     "name": "stderr",
     "output_type": "stream",
     "text": [
      "Loss=0.064722:   1%|▊                                                                                                                                                                            | 177/35001 [05:54<18:29:26,  1.91s/it]"
     ]
    },
    {
     "name": "stdout",
     "output_type": "stream",
     "text": [
      "Step 177\n",
      "create_roi_mask: mask.shape=torch.Size([6, 1, 320, 320, 2])\n",
      "create_roi_mask: mask.shape=torch.Size([6, 1, 320, 320, 2])\n"
     ]
    },
    {
     "name": "stderr",
     "output_type": "stream",
     "text": [
      "Loss=0.065607:   1%|▉                                                                                                                                                                            | 178/35001 [05:55<18:31:26,  1.92s/it]"
     ]
    },
    {
     "name": "stdout",
     "output_type": "stream",
     "text": [
      "Step 178\n",
      "create_roi_mask: mask.shape=torch.Size([6, 1, 320, 320, 2])\n",
      "create_roi_mask: mask.shape=torch.Size([6, 1, 320, 320, 2])\n"
     ]
    },
    {
     "name": "stderr",
     "output_type": "stream",
     "text": [
      "Loss=0.058944:   1%|▉                                                                                                                                                                            | 179/35001 [05:58<19:02:52,  1.97s/it]"
     ]
    },
    {
     "name": "stdout",
     "output_type": "stream",
     "text": [
      "Step 179\n",
      "create_roi_mask: mask.shape=torch.Size([6, 1, 320, 320, 2])\n",
      "create_roi_mask: mask.shape=torch.Size([6, 1, 320, 320, 2])\n"
     ]
    },
    {
     "name": "stderr",
     "output_type": "stream",
     "text": [
      "Loss=0.058496:   1%|▉                                                                                                                                                                            | 180/35001 [05:59<18:47:49,  1.94s/it]"
     ]
    },
    {
     "name": "stdout",
     "output_type": "stream",
     "text": [
      "Step 180\n",
      "create_roi_mask: mask.shape=torch.Size([6, 1, 320, 320, 2])\n",
      "create_roi_mask: mask.shape=torch.Size([6, 1, 320, 320, 2])\n"
     ]
    },
    {
     "name": "stderr",
     "output_type": "stream",
     "text": [
      "Loss=0.059973:   1%|▉                                                                                                                                                                            | 181/35001 [06:01<18:48:39,  1.94s/it]"
     ]
    },
    {
     "name": "stdout",
     "output_type": "stream",
     "text": [
      "Step 181\n",
      "create_roi_mask: mask.shape=torch.Size([6, 1, 320, 320, 2])\n",
      "create_roi_mask: mask.shape=torch.Size([6, 1, 320, 320, 2])\n"
     ]
    },
    {
     "name": "stderr",
     "output_type": "stream",
     "text": [
      "Loss=0.056887:   1%|▉                                                                                                                                                                            | 182/35001 [06:03<18:50:35,  1.95s/it]"
     ]
    },
    {
     "name": "stdout",
     "output_type": "stream",
     "text": [
      "Step 182\n",
      "create_roi_mask: mask.shape=torch.Size([6, 1, 320, 320, 2])\n",
      "create_roi_mask: mask.shape=torch.Size([6, 1, 320, 320, 2])\n"
     ]
    },
    {
     "name": "stderr",
     "output_type": "stream",
     "text": [
      "Loss=0.057044:   1%|▉                                                                                                                                                                            | 183/35001 [06:05<19:09:25,  1.98s/it]"
     ]
    },
    {
     "name": "stdout",
     "output_type": "stream",
     "text": [
      "Step 183\n",
      "create_roi_mask: mask.shape=torch.Size([6, 1, 320, 320, 2])\n",
      "create_roi_mask: mask.shape=torch.Size([6, 1, 320, 320, 2])\n"
     ]
    },
    {
     "name": "stderr",
     "output_type": "stream",
     "text": [
      "Loss=0.068269:   1%|▉                                                                                                                                                                            | 184/35001 [06:07<19:19:21,  2.00s/it]"
     ]
    },
    {
     "name": "stdout",
     "output_type": "stream",
     "text": [
      "Step 184\n",
      "create_roi_mask: mask.shape=torch.Size([6, 1, 320, 320, 2])\n",
      "create_roi_mask: mask.shape=torch.Size([6, 1, 320, 320, 2])\n"
     ]
    },
    {
     "name": "stderr",
     "output_type": "stream",
     "text": [
      "Loss=0.066417:   1%|▉                                                                                                                                                                            | 185/35001 [06:09<19:03:27,  1.97s/it]"
     ]
    },
    {
     "name": "stdout",
     "output_type": "stream",
     "text": [
      "Step 185\n",
      "create_roi_mask: mask.shape=torch.Size([6, 1, 320, 320, 2])\n",
      "create_roi_mask: mask.shape=torch.Size([6, 1, 320, 320, 2])\n"
     ]
    },
    {
     "name": "stderr",
     "output_type": "stream",
     "text": [
      "Loss=0.066457:   1%|▉                                                                                                                                                                            | 186/35001 [06:11<18:45:26,  1.94s/it]"
     ]
    },
    {
     "name": "stdout",
     "output_type": "stream",
     "text": [
      "Step 186\n",
      "create_roi_mask: mask.shape=torch.Size([6, 1, 320, 320, 2])\n",
      "create_roi_mask: mask.shape=torch.Size([6, 1, 320, 320, 2])\n"
     ]
    },
    {
     "name": "stderr",
     "output_type": "stream",
     "text": [
      "Loss=0.065297:   1%|▉                                                                                                                                                                            | 187/35001 [06:13<19:08:00,  1.98s/it]"
     ]
    },
    {
     "name": "stdout",
     "output_type": "stream",
     "text": [
      "Step 187\n",
      "create_roi_mask: mask.shape=torch.Size([6, 1, 320, 320, 2])\n",
      "create_roi_mask: mask.shape=torch.Size([6, 1, 320, 320, 2])\n"
     ]
    },
    {
     "name": "stderr",
     "output_type": "stream",
     "text": [
      "Loss=0.073181:   1%|▉                                                                                                                                                                            | 188/35001 [06:16<19:49:19,  2.05s/it]"
     ]
    },
    {
     "name": "stdout",
     "output_type": "stream",
     "text": [
      "Step 188\n",
      "create_roi_mask: mask.shape=torch.Size([6, 1, 320, 320, 2])\n",
      "create_roi_mask: mask.shape=torch.Size([6, 1, 320, 320, 2])\n"
     ]
    },
    {
     "name": "stderr",
     "output_type": "stream",
     "text": [
      "Loss=0.072211:   1%|▉                                                                                                                                                                            | 189/35001 [06:17<19:23:20,  2.01s/it]"
     ]
    },
    {
     "name": "stdout",
     "output_type": "stream",
     "text": [
      "Step 189\n",
      "create_roi_mask: mask.shape=torch.Size([6, 1, 320, 320, 2])\n",
      "create_roi_mask: mask.shape=torch.Size([6, 1, 320, 320, 2])\n"
     ]
    },
    {
     "name": "stderr",
     "output_type": "stream",
     "text": [
      "Loss=0.047385:   1%|▉                                                                                                                                                                            | 190/35001 [06:19<19:10:34,  1.98s/it]"
     ]
    },
    {
     "name": "stdout",
     "output_type": "stream",
     "text": [
      "Step 190\n",
      "create_roi_mask: mask.shape=torch.Size([6, 1, 320, 320, 2])\n",
      "create_roi_mask: mask.shape=torch.Size([6, 1, 320, 320, 2])\n"
     ]
    },
    {
     "name": "stderr",
     "output_type": "stream",
     "text": [
      "Loss=0.070380:   1%|▉                                                                                                                                                                            | 191/35001 [06:21<19:24:36,  2.01s/it]"
     ]
    },
    {
     "name": "stdout",
     "output_type": "stream",
     "text": [
      "Step 191\n",
      "create_roi_mask: mask.shape=torch.Size([6, 1, 320, 320, 2])\n",
      "create_roi_mask: mask.shape=torch.Size([6, 1, 320, 320, 2])\n"
     ]
    },
    {
     "name": "stderr",
     "output_type": "stream",
     "text": [
      "Loss=0.057323:   1%|▉                                                                                                                                                                            | 192/35001 [06:23<18:57:53,  1.96s/it]"
     ]
    },
    {
     "name": "stdout",
     "output_type": "stream",
     "text": [
      "Step 192\n",
      "create_roi_mask: mask.shape=torch.Size([6, 1, 320, 320, 2])\n",
      "create_roi_mask: mask.shape=torch.Size([6, 1, 320, 320, 2])\n"
     ]
    },
    {
     "name": "stderr",
     "output_type": "stream",
     "text": [
      "Loss=0.071209:   1%|▉                                                                                                                                                                            | 193/35001 [06:25<18:50:31,  1.95s/it]"
     ]
    },
    {
     "name": "stdout",
     "output_type": "stream",
     "text": [
      "Step 193\n",
      "create_roi_mask: mask.shape=torch.Size([6, 1, 320, 320, 2])\n",
      "create_roi_mask: mask.shape=torch.Size([6, 1, 320, 320, 2])\n"
     ]
    },
    {
     "name": "stderr",
     "output_type": "stream",
     "text": [
      "Loss=0.071490:   1%|▉                                                                                                                                                                            | 194/35001 [06:27<19:17:43,  2.00s/it]"
     ]
    },
    {
     "name": "stdout",
     "output_type": "stream",
     "text": [
      "Step 194\n",
      "create_roi_mask: mask.shape=torch.Size([6, 1, 320, 320, 2])\n",
      "create_roi_mask: mask.shape=torch.Size([6, 1, 320, 320, 2])\n"
     ]
    },
    {
     "name": "stderr",
     "output_type": "stream",
     "text": [
      "Loss=0.059527:   1%|▉                                                                                                                                                                            | 195/35001 [06:29<19:33:50,  2.02s/it]"
     ]
    },
    {
     "name": "stdout",
     "output_type": "stream",
     "text": [
      "Step 195\n",
      "create_roi_mask: mask.shape=torch.Size([6, 1, 320, 320, 2])\n",
      "create_roi_mask: mask.shape=torch.Size([6, 1, 320, 320, 2])\n"
     ]
    },
    {
     "name": "stderr",
     "output_type": "stream",
     "text": [
      "Loss=0.060547:   1%|▉                                                                                                                                                                            | 196/35001 [06:31<19:32:12,  2.02s/it]"
     ]
    },
    {
     "name": "stdout",
     "output_type": "stream",
     "text": [
      "Step 196\n",
      "create_roi_mask: mask.shape=torch.Size([6, 1, 320, 320, 2])\n",
      "create_roi_mask: mask.shape=torch.Size([6, 1, 320, 320, 2])\n"
     ]
    },
    {
     "name": "stderr",
     "output_type": "stream",
     "text": [
      "Loss=0.067536:   1%|▉                                                                                                                                                                            | 197/35001 [06:33<19:28:34,  2.01s/it]"
     ]
    },
    {
     "name": "stdout",
     "output_type": "stream",
     "text": [
      "Step 197\n",
      "create_roi_mask: mask.shape=torch.Size([6, 1, 320, 320, 2])\n",
      "create_roi_mask: mask.shape=torch.Size([6, 1, 320, 320, 2])\n"
     ]
    },
    {
     "name": "stderr",
     "output_type": "stream",
     "text": [
      "Loss=0.069282:   1%|▉                                                                                                                                                                            | 198/35001 [06:35<19:07:35,  1.98s/it]"
     ]
    },
    {
     "name": "stdout",
     "output_type": "stream",
     "text": [
      "Step 198\n",
      "create_roi_mask: mask.shape=torch.Size([6, 1, 320, 320, 2])\n",
      "create_roi_mask: mask.shape=torch.Size([6, 1, 320, 320, 2])\n"
     ]
    },
    {
     "name": "stderr",
     "output_type": "stream",
     "text": [
      "Loss=0.058158:   1%|▉                                                                                                                                                                            | 199/35001 [06:37<19:12:11,  1.99s/it]"
     ]
    },
    {
     "name": "stdout",
     "output_type": "stream",
     "text": [
      "Step 199\n",
      "create_roi_mask: mask.shape=torch.Size([6, 1, 320, 320, 2])\n",
      "create_roi_mask: mask.shape=torch.Size([6, 1, 320, 320, 2])\n"
     ]
    },
    {
     "name": "stderr",
     "output_type": "stream",
     "text": [
      "Loss=0.068626:   1%|▉                                                                                                                                                                            | 200/35001 [06:39<19:28:07,  2.01s/it]"
     ]
    },
    {
     "name": "stdout",
     "output_type": "stream",
     "text": [
      "Step 200\n",
      "create_roi_mask: mask.shape=torch.Size([6, 1, 320, 320, 2])\n",
      "create_roi_mask: mask.shape=torch.Size([6, 1, 320, 320, 2])\n"
     ]
    },
    {
     "name": "stderr",
     "output_type": "stream",
     "text": [
      "Loss=0.058096:   1%|▉                                                                                                                                                                            | 200/35001 [06:41<19:28:07,  2.01s/it]"
     ]
    },
    {
     "name": "stdout",
     "output_type": "stream",
     "text": [
      "Mean LOSS of last 200: 0.07558897173782783\n"
     ]
    },
    {
     "name": "stderr",
     "output_type": "stream",
     "text": [
      "Loss=0.058096:   1%|▉                                                                                                                                                                            | 201/35001 [06:43<23:14:50,  2.40s/it]"
     ]
    },
    {
     "name": "stdout",
     "output_type": "stream",
     "text": [
      "Step 201\n",
      "create_roi_mask: mask.shape=torch.Size([6, 1, 320, 320, 2])\n",
      "create_roi_mask: mask.shape=torch.Size([6, 1, 320, 320, 2])\n"
     ]
    },
    {
     "name": "stderr",
     "output_type": "stream",
     "text": [
      "Loss=0.057870:   1%|▉                                                                                                                                                                            | 202/35001 [06:45<22:22:59,  2.32s/it]"
     ]
    },
    {
     "name": "stdout",
     "output_type": "stream",
     "text": [
      "Step 202\n",
      "create_roi_mask: mask.shape=torch.Size([6, 1, 320, 320, 2])\n",
      "create_roi_mask: mask.shape=torch.Size([6, 1, 320, 320, 2])\n"
     ]
    },
    {
     "name": "stderr",
     "output_type": "stream",
     "text": [
      "Loss=0.054568:   1%|█                                                                                                                                                                            | 203/35001 [06:47<21:21:56,  2.21s/it]"
     ]
    },
    {
     "name": "stdout",
     "output_type": "stream",
     "text": [
      "Step 203\n",
      "create_roi_mask: mask.shape=torch.Size([6, 1, 320, 320, 2])\n",
      "create_roi_mask: mask.shape=torch.Size([6, 1, 320, 320, 2])\n"
     ]
    },
    {
     "name": "stderr",
     "output_type": "stream",
     "text": [
      "Loss=0.068230:   1%|█                                                                                                                                                                            | 204/35001 [06:49<21:05:03,  2.18s/it]"
     ]
    },
    {
     "name": "stdout",
     "output_type": "stream",
     "text": [
      "Step 204\n",
      "create_roi_mask: mask.shape=torch.Size([6, 1, 320, 320, 2])\n",
      "create_roi_mask: mask.shape=torch.Size([6, 1, 320, 320, 2])\n"
     ]
    },
    {
     "name": "stderr",
     "output_type": "stream",
     "text": [
      "Loss=0.060577:   1%|█                                                                                                                                                                            | 205/35001 [06:51<20:36:24,  2.13s/it]"
     ]
    },
    {
     "name": "stdout",
     "output_type": "stream",
     "text": [
      "Step 205\n",
      "create_roi_mask: mask.shape=torch.Size([6, 1, 320, 320, 2])\n",
      "create_roi_mask: mask.shape=torch.Size([6, 1, 320, 320, 2])\n"
     ]
    },
    {
     "name": "stderr",
     "output_type": "stream",
     "text": [
      "Loss=0.060723:   1%|█                                                                                                                                                                            | 206/35001 [06:53<19:54:08,  2.06s/it]"
     ]
    },
    {
     "name": "stdout",
     "output_type": "stream",
     "text": [
      "Step 206\n",
      "create_roi_mask: mask.shape=torch.Size([6, 1, 320, 320, 2])\n",
      "create_roi_mask: mask.shape=torch.Size([6, 1, 320, 320, 2])\n"
     ]
    },
    {
     "name": "stderr",
     "output_type": "stream",
     "text": [
      "Loss=0.051673:   1%|█                                                                                                                                                                            | 207/35001 [06:55<20:34:09,  2.13s/it]"
     ]
    },
    {
     "name": "stdout",
     "output_type": "stream",
     "text": [
      "Step 207\n",
      "create_roi_mask: mask.shape=torch.Size([6, 1, 320, 320, 2])\n",
      "create_roi_mask: mask.shape=torch.Size([6, 1, 320, 320, 2])\n"
     ]
    },
    {
     "name": "stderr",
     "output_type": "stream",
     "text": [
      "Loss=0.053742:   1%|█                                                                                                                                                                            | 208/35001 [06:58<21:38:31,  2.24s/it]"
     ]
    },
    {
     "name": "stdout",
     "output_type": "stream",
     "text": [
      "Step 208\n",
      "create_roi_mask: mask.shape=torch.Size([6, 1, 320, 320, 2])\n",
      "create_roi_mask: mask.shape=torch.Size([6, 1, 320, 320, 2])\n"
     ]
    },
    {
     "name": "stderr",
     "output_type": "stream",
     "text": [
      "Loss=0.076710:   1%|█                                                                                                                                                                            | 209/35001 [07:00<21:21:50,  2.21s/it]"
     ]
    },
    {
     "name": "stdout",
     "output_type": "stream",
     "text": [
      "Step 209\n",
      "create_roi_mask: mask.shape=torch.Size([6, 1, 320, 320, 2])\n",
      "create_roi_mask: mask.shape=torch.Size([6, 1, 320, 320, 2])\n"
     ]
    },
    {
     "name": "stderr",
     "output_type": "stream",
     "text": [
      "Loss=0.062232:   1%|█                                                                                                                                                                            | 210/35001 [07:02<20:28:33,  2.12s/it]"
     ]
    },
    {
     "name": "stdout",
     "output_type": "stream",
     "text": [
      "Step 210\n",
      "create_roi_mask: mask.shape=torch.Size([6, 1, 320, 320, 2])\n",
      "create_roi_mask: mask.shape=torch.Size([6, 1, 320, 320, 2])\n"
     ]
    },
    {
     "name": "stderr",
     "output_type": "stream",
     "text": [
      "Loss=0.066215:   1%|█                                                                                                                                                                            | 211/35001 [07:04<20:29:42,  2.12s/it]"
     ]
    },
    {
     "name": "stdout",
     "output_type": "stream",
     "text": [
      "Step 211\n",
      "create_roi_mask: mask.shape=torch.Size([6, 1, 320, 320, 2])\n",
      "create_roi_mask: mask.shape=torch.Size([6, 1, 320, 320, 2])\n"
     ]
    },
    {
     "name": "stderr",
     "output_type": "stream",
     "text": [
      "Loss=0.072187:   1%|█                                                                                                                                                                            | 212/35001 [07:06<20:07:14,  2.08s/it]"
     ]
    },
    {
     "name": "stdout",
     "output_type": "stream",
     "text": [
      "Step 212\n",
      "create_roi_mask: mask.shape=torch.Size([6, 1, 320, 320, 2])\n",
      "create_roi_mask: mask.shape=torch.Size([6, 1, 320, 320, 2])\n"
     ]
    },
    {
     "name": "stderr",
     "output_type": "stream",
     "text": [
      "Loss=0.051175:   1%|█                                                                                                                                                                            | 213/35001 [07:08<20:03:16,  2.08s/it]"
     ]
    },
    {
     "name": "stdout",
     "output_type": "stream",
     "text": [
      "Step 213\n",
      "create_roi_mask: mask.shape=torch.Size([6, 1, 320, 320, 2])\n",
      "create_roi_mask: mask.shape=torch.Size([6, 1, 320, 320, 2])\n"
     ]
    },
    {
     "name": "stderr",
     "output_type": "stream",
     "text": [
      "Loss=0.070421:   1%|█                                                                                                                                                                            | 214/35001 [07:10<20:23:13,  2.11s/it]"
     ]
    },
    {
     "name": "stdout",
     "output_type": "stream",
     "text": [
      "Step 214\n",
      "create_roi_mask: mask.shape=torch.Size([6, 1, 320, 320, 2])\n",
      "create_roi_mask: mask.shape=torch.Size([6, 1, 320, 320, 2])\n"
     ]
    },
    {
     "name": "stderr",
     "output_type": "stream",
     "text": [
      "Loss=0.061988:   1%|█                                                                                                                                                                            | 215/35001 [07:12<20:01:52,  2.07s/it]"
     ]
    },
    {
     "name": "stdout",
     "output_type": "stream",
     "text": [
      "Step 215\n",
      "create_roi_mask: mask.shape=torch.Size([6, 1, 320, 320, 2])\n",
      "create_roi_mask: mask.shape=torch.Size([6, 1, 320, 320, 2])\n"
     ]
    },
    {
     "name": "stderr",
     "output_type": "stream",
     "text": [
      "Loss=0.054907:   1%|█                                                                                                                                                                            | 216/35001 [07:14<21:03:11,  2.18s/it]"
     ]
    },
    {
     "name": "stdout",
     "output_type": "stream",
     "text": [
      "Step 216\n",
      "create_roi_mask: mask.shape=torch.Size([6, 1, 320, 320, 2])\n",
      "create_roi_mask: mask.shape=torch.Size([6, 1, 320, 320, 2])\n"
     ]
    },
    {
     "name": "stderr",
     "output_type": "stream",
     "text": [
      "Loss=0.060252:   1%|█                                                                                                                                                                            | 217/35001 [07:16<20:30:11,  2.12s/it]"
     ]
    },
    {
     "name": "stdout",
     "output_type": "stream",
     "text": [
      "Step 217\n",
      "create_roi_mask: mask.shape=torch.Size([6, 1, 320, 320, 2])\n",
      "create_roi_mask: mask.shape=torch.Size([6, 1, 320, 320, 2])\n"
     ]
    },
    {
     "name": "stderr",
     "output_type": "stream",
     "text": [
      "Loss=0.059673:   1%|█                                                                                                                                                                            | 218/35001 [07:18<19:49:11,  2.05s/it]"
     ]
    },
    {
     "name": "stdout",
     "output_type": "stream",
     "text": [
      "Step 218\n",
      "create_roi_mask: mask.shape=torch.Size([6, 1, 320, 320, 2])\n",
      "create_roi_mask: mask.shape=torch.Size([6, 1, 320, 320, 2])\n"
     ]
    },
    {
     "name": "stderr",
     "output_type": "stream",
     "text": [
      "Loss=0.067347:   1%|█                                                                                                                                                                            | 219/35001 [07:20<19:09:05,  1.98s/it]"
     ]
    },
    {
     "name": "stdout",
     "output_type": "stream",
     "text": [
      "Step 219\n",
      "create_roi_mask: mask.shape=torch.Size([6, 1, 320, 320, 2])\n",
      "create_roi_mask: mask.shape=torch.Size([6, 1, 320, 320, 2])\n"
     ]
    },
    {
     "name": "stderr",
     "output_type": "stream",
     "text": [
      "Loss=0.071843:   1%|█                                                                                                                                                                            | 220/35001 [07:22<18:58:38,  1.96s/it]"
     ]
    },
    {
     "name": "stdout",
     "output_type": "stream",
     "text": [
      "Step 220\n",
      "create_roi_mask: mask.shape=torch.Size([6, 1, 320, 320, 2])\n",
      "create_roi_mask: mask.shape=torch.Size([6, 1, 320, 320, 2])\n"
     ]
    },
    {
     "name": "stderr",
     "output_type": "stream",
     "text": [
      "Loss=0.058366:   1%|█                                                                                                                                                                            | 221/35001 [07:24<18:48:24,  1.95s/it]"
     ]
    },
    {
     "name": "stdout",
     "output_type": "stream",
     "text": [
      "Step 221\n",
      "create_roi_mask: mask.shape=torch.Size([6, 1, 320, 320, 2])\n",
      "create_roi_mask: mask.shape=torch.Size([6, 1, 320, 320, 2])\n"
     ]
    },
    {
     "name": "stderr",
     "output_type": "stream",
     "text": [
      "Loss=0.055656:   1%|█                                                                                                                                                                            | 222/35001 [07:26<19:12:32,  1.99s/it]"
     ]
    },
    {
     "name": "stdout",
     "output_type": "stream",
     "text": [
      "Step 222\n",
      "create_roi_mask: mask.shape=torch.Size([6, 1, 320, 320, 2])\n",
      "create_roi_mask: mask.shape=torch.Size([6, 1, 320, 320, 2])\n"
     ]
    },
    {
     "name": "stderr",
     "output_type": "stream",
     "text": [
      "Loss=0.059163:   1%|█                                                                                                                                                                            | 223/35001 [07:28<19:23:32,  2.01s/it]"
     ]
    },
    {
     "name": "stdout",
     "output_type": "stream",
     "text": [
      "Step 223\n",
      "create_roi_mask: mask.shape=torch.Size([6, 1, 320, 320, 2])\n",
      "create_roi_mask: mask.shape=torch.Size([6, 1, 320, 320, 2])\n"
     ]
    },
    {
     "name": "stderr",
     "output_type": "stream",
     "text": [
      "Loss=0.055153:   1%|█                                                                                                                                                                            | 224/35001 [07:30<19:26:55,  2.01s/it]"
     ]
    },
    {
     "name": "stdout",
     "output_type": "stream",
     "text": [
      "Step 224\n",
      "create_roi_mask: mask.shape=torch.Size([6, 1, 320, 320, 2])\n",
      "create_roi_mask: mask.shape=torch.Size([6, 1, 320, 320, 2])\n"
     ]
    },
    {
     "name": "stderr",
     "output_type": "stream",
     "text": [
      "Loss=0.067027:   1%|█                                                                                                                                                                            | 225/35001 [07:32<18:58:25,  1.96s/it]"
     ]
    },
    {
     "name": "stdout",
     "output_type": "stream",
     "text": [
      "Step 225\n",
      "create_roi_mask: mask.shape=torch.Size([6, 1, 320, 320, 2])\n",
      "create_roi_mask: mask.shape=torch.Size([6, 1, 320, 320, 2])\n"
     ]
    },
    {
     "name": "stderr",
     "output_type": "stream",
     "text": [
      "Loss=0.059178:   1%|█                                                                                                                                                                            | 226/35001 [07:34<18:37:53,  1.93s/it]"
     ]
    },
    {
     "name": "stdout",
     "output_type": "stream",
     "text": [
      "Step 226\n",
      "create_roi_mask: mask.shape=torch.Size([6, 1, 320, 320, 2])\n",
      "create_roi_mask: mask.shape=torch.Size([6, 1, 320, 320, 2])\n"
     ]
    },
    {
     "name": "stderr",
     "output_type": "stream",
     "text": [
      "Loss=0.061225:   1%|█                                                                                                                                                                            | 227/35001 [07:36<18:18:41,  1.90s/it]"
     ]
    },
    {
     "name": "stdout",
     "output_type": "stream",
     "text": [
      "Step 227\n",
      "create_roi_mask: mask.shape=torch.Size([6, 1, 320, 320, 2])\n",
      "create_roi_mask: mask.shape=torch.Size([6, 1, 320, 320, 2])\n"
     ]
    },
    {
     "name": "stderr",
     "output_type": "stream",
     "text": [
      "Loss=0.055569:   1%|█▏                                                                                                                                                                           | 228/35001 [07:37<18:04:16,  1.87s/it]"
     ]
    },
    {
     "name": "stdout",
     "output_type": "stream",
     "text": [
      "Step 228\n",
      "create_roi_mask: mask.shape=torch.Size([6, 1, 320, 320, 2])\n",
      "create_roi_mask: mask.shape=torch.Size([6, 1, 320, 320, 2])\n"
     ]
    },
    {
     "name": "stderr",
     "output_type": "stream",
     "text": [
      "Loss=0.060627:   1%|█▏                                                                                                                                                                           | 229/35001 [07:40<18:55:24,  1.96s/it]"
     ]
    },
    {
     "name": "stdout",
     "output_type": "stream",
     "text": [
      "Step 229\n",
      "create_roi_mask: mask.shape=torch.Size([6, 1, 320, 320, 2])\n",
      "create_roi_mask: mask.shape=torch.Size([6, 1, 320, 320, 2])\n"
     ]
    },
    {
     "name": "stderr",
     "output_type": "stream",
     "text": [
      "Loss=0.066151:   1%|█▏                                                                                                                                                                           | 230/35001 [07:41<18:47:14,  1.95s/it]"
     ]
    },
    {
     "name": "stdout",
     "output_type": "stream",
     "text": [
      "Step 230\n",
      "create_roi_mask: mask.shape=torch.Size([6, 1, 320, 320, 2])\n",
      "create_roi_mask: mask.shape=torch.Size([6, 1, 320, 320, 2])\n"
     ]
    },
    {
     "name": "stderr",
     "output_type": "stream",
     "text": [
      "Loss=0.067213:   1%|█▏                                                                                                                                                                           | 231/35001 [07:43<18:43:47,  1.94s/it]"
     ]
    },
    {
     "name": "stdout",
     "output_type": "stream",
     "text": [
      "Step 231\n",
      "create_roi_mask: mask.shape=torch.Size([6, 1, 320, 320, 2])\n",
      "create_roi_mask: mask.shape=torch.Size([6, 1, 320, 320, 2])\n"
     ]
    },
    {
     "name": "stderr",
     "output_type": "stream",
     "text": [
      "Loss=0.055890:   1%|█▏                                                                                                                                                                           | 232/35001 [07:45<18:26:35,  1.91s/it]"
     ]
    },
    {
     "name": "stdout",
     "output_type": "stream",
     "text": [
      "Step 232\n",
      "create_roi_mask: mask.shape=torch.Size([6, 1, 320, 320, 2])\n",
      "create_roi_mask: mask.shape=torch.Size([6, 1, 320, 320, 2])\n"
     ]
    },
    {
     "name": "stderr",
     "output_type": "stream",
     "text": [
      "Loss=0.061676:   1%|█▏                                                                                                                                                                           | 233/35001 [07:47<18:14:38,  1.89s/it]"
     ]
    },
    {
     "name": "stdout",
     "output_type": "stream",
     "text": [
      "Step 233\n",
      "create_roi_mask: mask.shape=torch.Size([6, 1, 320, 320, 2])\n",
      "create_roi_mask: mask.shape=torch.Size([6, 1, 320, 320, 2])\n"
     ]
    },
    {
     "name": "stderr",
     "output_type": "stream",
     "text": [
      "Loss=0.062460:   1%|█▏                                                                                                                                                                           | 234/35001 [07:49<18:01:58,  1.87s/it]"
     ]
    },
    {
     "name": "stdout",
     "output_type": "stream",
     "text": [
      "Step 234\n",
      "create_roi_mask: mask.shape=torch.Size([6, 1, 320, 320, 2])\n",
      "create_roi_mask: mask.shape=torch.Size([6, 1, 320, 320, 2])\n"
     ]
    },
    {
     "name": "stderr",
     "output_type": "stream",
     "text": [
      "Loss=0.069791:   1%|█▏                                                                                                                                                                           | 235/35001 [07:51<18:04:27,  1.87s/it]"
     ]
    },
    {
     "name": "stdout",
     "output_type": "stream",
     "text": [
      "Step 235\n",
      "create_roi_mask: mask.shape=torch.Size([6, 1, 320, 320, 2])\n",
      "create_roi_mask: mask.shape=torch.Size([6, 1, 320, 320, 2])\n"
     ]
    },
    {
     "name": "stderr",
     "output_type": "stream",
     "text": [
      "Loss=0.056571:   1%|█▏                                                                                                                                                                           | 236/35001 [07:53<17:55:21,  1.86s/it]"
     ]
    },
    {
     "name": "stdout",
     "output_type": "stream",
     "text": [
      "Step 236\n",
      "create_roi_mask: mask.shape=torch.Size([6, 1, 320, 320, 2])\n",
      "create_roi_mask: mask.shape=torch.Size([6, 1, 320, 320, 2])\n"
     ]
    },
    {
     "name": "stderr",
     "output_type": "stream",
     "text": [
      "Loss=0.053697:   1%|█▏                                                                                                                                                                           | 237/35001 [07:54<17:48:39,  1.84s/it]"
     ]
    },
    {
     "name": "stdout",
     "output_type": "stream",
     "text": [
      "Step 237\n",
      "create_roi_mask: mask.shape=torch.Size([6, 1, 320, 320, 2])\n",
      "create_roi_mask: mask.shape=torch.Size([6, 1, 320, 320, 2])\n"
     ]
    },
    {
     "name": "stderr",
     "output_type": "stream",
     "text": [
      "Loss=0.067793:   1%|█▏                                                                                                                                                                           | 238/35001 [07:56<17:43:48,  1.84s/it]"
     ]
    },
    {
     "name": "stdout",
     "output_type": "stream",
     "text": [
      "Step 238\n",
      "create_roi_mask: mask.shape=torch.Size([6, 1, 320, 320, 2])\n",
      "create_roi_mask: mask.shape=torch.Size([6, 1, 320, 320, 2])\n"
     ]
    },
    {
     "name": "stderr",
     "output_type": "stream",
     "text": [
      "Loss=0.067495:   1%|█▏                                                                                                                                                                           | 239/35001 [07:58<17:43:55,  1.84s/it]"
     ]
    },
    {
     "name": "stdout",
     "output_type": "stream",
     "text": [
      "Step 239\n",
      "create_roi_mask: mask.shape=torch.Size([6, 1, 320, 320, 2])\n",
      "create_roi_mask: mask.shape=torch.Size([6, 1, 320, 320, 2])\n"
     ]
    },
    {
     "name": "stderr",
     "output_type": "stream",
     "text": [
      "Loss=0.057482:   1%|█▏                                                                                                                                                                           | 240/35001 [08:00<18:18:32,  1.90s/it]"
     ]
    },
    {
     "name": "stdout",
     "output_type": "stream",
     "text": [
      "Step 240\n",
      "create_roi_mask: mask.shape=torch.Size([6, 1, 320, 320, 2])\n",
      "create_roi_mask: mask.shape=torch.Size([6, 1, 320, 320, 2])\n"
     ]
    },
    {
     "name": "stderr",
     "output_type": "stream",
     "text": [
      "Loss=0.073069:   1%|█▏                                                                                                                                                                           | 241/35001 [08:02<18:28:38,  1.91s/it]"
     ]
    },
    {
     "name": "stdout",
     "output_type": "stream",
     "text": [
      "Step 241\n",
      "create_roi_mask: mask.shape=torch.Size([6, 1, 320, 320, 2])\n",
      "create_roi_mask: mask.shape=torch.Size([6, 1, 320, 320, 2])\n"
     ]
    },
    {
     "name": "stderr",
     "output_type": "stream",
     "text": [
      "Loss=0.054844:   1%|█▏                                                                                                                                                                           | 242/35001 [08:04<18:27:20,  1.91s/it]"
     ]
    },
    {
     "name": "stdout",
     "output_type": "stream",
     "text": [
      "Step 242\n",
      "create_roi_mask: mask.shape=torch.Size([6, 1, 320, 320, 2])\n",
      "create_roi_mask: mask.shape=torch.Size([6, 1, 320, 320, 2])\n"
     ]
    },
    {
     "name": "stderr",
     "output_type": "stream",
     "text": [
      "Loss=0.063850:   1%|█▏                                                                                                                                                                           | 243/35001 [08:06<18:11:01,  1.88s/it]"
     ]
    },
    {
     "name": "stdout",
     "output_type": "stream",
     "text": [
      "Step 243\n",
      "create_roi_mask: mask.shape=torch.Size([6, 1, 320, 320, 2])\n",
      "create_roi_mask: mask.shape=torch.Size([6, 1, 320, 320, 2])\n"
     ]
    },
    {
     "name": "stderr",
     "output_type": "stream",
     "text": [
      "Loss=0.055602:   1%|█▏                                                                                                                                                                           | 244/35001 [08:08<18:10:41,  1.88s/it]"
     ]
    },
    {
     "name": "stdout",
     "output_type": "stream",
     "text": [
      "Step 244\n",
      "create_roi_mask: mask.shape=torch.Size([6, 1, 320, 320, 2])\n",
      "create_roi_mask: mask.shape=torch.Size([6, 1, 320, 320, 2])\n"
     ]
    },
    {
     "name": "stderr",
     "output_type": "stream",
     "text": [
      "Loss=0.065408:   1%|█▏                                                                                                                                                                           | 245/35001 [08:10<18:13:29,  1.89s/it]"
     ]
    },
    {
     "name": "stdout",
     "output_type": "stream",
     "text": [
      "Step 245\n",
      "create_roi_mask: mask.shape=torch.Size([6, 1, 320, 320, 2])\n",
      "create_roi_mask: mask.shape=torch.Size([6, 1, 320, 320, 2])\n"
     ]
    },
    {
     "name": "stderr",
     "output_type": "stream",
     "text": [
      "Loss=0.066948:   1%|█▏                                                                                                                                                                           | 246/35001 [08:11<18:01:29,  1.87s/it]"
     ]
    },
    {
     "name": "stdout",
     "output_type": "stream",
     "text": [
      "Step 246\n",
      "create_roi_mask: mask.shape=torch.Size([6, 1, 320, 320, 2])\n",
      "create_roi_mask: mask.shape=torch.Size([6, 1, 320, 320, 2])\n"
     ]
    },
    {
     "name": "stderr",
     "output_type": "stream",
     "text": [
      "Loss=0.066186:   1%|█▏                                                                                                                                                                           | 247/35001 [08:13<17:52:03,  1.85s/it]"
     ]
    },
    {
     "name": "stdout",
     "output_type": "stream",
     "text": [
      "Step 247\n",
      "create_roi_mask: mask.shape=torch.Size([6, 1, 320, 320, 2])\n",
      "create_roi_mask: mask.shape=torch.Size([6, 1, 320, 320, 2])\n"
     ]
    },
    {
     "name": "stderr",
     "output_type": "stream",
     "text": [
      "Loss=0.069851:   1%|█▏                                                                                                                                                                           | 248/35001 [08:15<17:46:51,  1.84s/it]"
     ]
    },
    {
     "name": "stdout",
     "output_type": "stream",
     "text": [
      "Step 248\n",
      "create_roi_mask: mask.shape=torch.Size([6, 1, 320, 320, 2])\n",
      "create_roi_mask: mask.shape=torch.Size([6, 1, 320, 320, 2])\n"
     ]
    },
    {
     "name": "stderr",
     "output_type": "stream",
     "text": [
      "Loss=0.060070:   1%|█▏                                                                                                                                                                           | 249/35001 [08:17<17:42:22,  1.83s/it]"
     ]
    },
    {
     "name": "stdout",
     "output_type": "stream",
     "text": [
      "Step 249\n",
      "create_roi_mask: mask.shape=torch.Size([6, 1, 320, 320, 2])\n",
      "create_roi_mask: mask.shape=torch.Size([6, 1, 320, 320, 2])\n"
     ]
    },
    {
     "name": "stderr",
     "output_type": "stream",
     "text": [
      "Loss=0.057761:   1%|█▏                                                                                                                                                                           | 250/35001 [08:19<17:40:33,  1.83s/it]"
     ]
    },
    {
     "name": "stdout",
     "output_type": "stream",
     "text": [
      "Step 250\n",
      "create_roi_mask: mask.shape=torch.Size([6, 1, 320, 320, 2])\n",
      "create_roi_mask: mask.shape=torch.Size([6, 1, 320, 320, 2])\n"
     ]
    },
    {
     "name": "stderr",
     "output_type": "stream",
     "text": [
      "Loss=0.059472:   1%|█▏                                                                                                                                                                           | 251/35001 [08:21<17:46:59,  1.84s/it]"
     ]
    },
    {
     "name": "stdout",
     "output_type": "stream",
     "text": [
      "Step 251\n",
      "create_roi_mask: mask.shape=torch.Size([6, 1, 320, 320, 2])\n",
      "create_roi_mask: mask.shape=torch.Size([6, 1, 320, 320, 2])\n"
     ]
    },
    {
     "name": "stderr",
     "output_type": "stream",
     "text": [
      "Loss=0.062336:   1%|█▏                                                                                                                                                                           | 252/35001 [08:22<17:34:13,  1.82s/it]"
     ]
    },
    {
     "name": "stdout",
     "output_type": "stream",
     "text": [
      "Step 252\n",
      "create_roi_mask: mask.shape=torch.Size([6, 1, 320, 320, 2])\n",
      "create_roi_mask: mask.shape=torch.Size([6, 1, 320, 320, 2])\n"
     ]
    },
    {
     "name": "stderr",
     "output_type": "stream",
     "text": [
      "Loss=0.058857:   1%|█▎                                                                                                                                                                           | 253/35001 [08:24<17:34:26,  1.82s/it]"
     ]
    },
    {
     "name": "stdout",
     "output_type": "stream",
     "text": [
      "Step 253\n",
      "create_roi_mask: mask.shape=torch.Size([6, 1, 320, 320, 2])\n",
      "create_roi_mask: mask.shape=torch.Size([6, 1, 320, 320, 2])\n"
     ]
    },
    {
     "name": "stderr",
     "output_type": "stream",
     "text": [
      "Loss=0.062591:   1%|█▎                                                                                                                                                                           | 254/35001 [08:26<17:34:29,  1.82s/it]"
     ]
    },
    {
     "name": "stdout",
     "output_type": "stream",
     "text": [
      "Step 254\n",
      "create_roi_mask: mask.shape=torch.Size([6, 1, 320, 320, 2])\n",
      "create_roi_mask: mask.shape=torch.Size([6, 1, 320, 320, 2])\n"
     ]
    },
    {
     "name": "stderr",
     "output_type": "stream",
     "text": [
      "Loss=0.065297:   1%|█▎                                                                                                                                                                           | 255/35001 [08:28<17:36:42,  1.82s/it]"
     ]
    },
    {
     "name": "stdout",
     "output_type": "stream",
     "text": [
      "Step 255\n",
      "create_roi_mask: mask.shape=torch.Size([6, 1, 320, 320, 2])\n",
      "create_roi_mask: mask.shape=torch.Size([6, 1, 320, 320, 2])\n"
     ]
    },
    {
     "name": "stderr",
     "output_type": "stream",
     "text": [
      "Loss=0.068097:   1%|█▎                                                                                                                                                                           | 256/35001 [08:30<17:34:59,  1.82s/it]"
     ]
    },
    {
     "name": "stdout",
     "output_type": "stream",
     "text": [
      "Step 256\n",
      "create_roi_mask: mask.shape=torch.Size([6, 1, 320, 320, 2])\n",
      "create_roi_mask: mask.shape=torch.Size([6, 1, 320, 320, 2])\n"
     ]
    },
    {
     "name": "stderr",
     "output_type": "stream",
     "text": [
      "Loss=0.064502:   1%|█▎                                                                                                                                                                           | 257/35001 [08:31<17:34:25,  1.82s/it]"
     ]
    },
    {
     "name": "stdout",
     "output_type": "stream",
     "text": [
      "Step 257\n",
      "create_roi_mask: mask.shape=torch.Size([6, 1, 320, 320, 2])\n",
      "create_roi_mask: mask.shape=torch.Size([6, 1, 320, 320, 2])\n"
     ]
    },
    {
     "name": "stderr",
     "output_type": "stream",
     "text": [
      "Loss=0.061418:   1%|█▎                                                                                                                                                                           | 258/35001 [08:33<17:34:08,  1.82s/it]"
     ]
    },
    {
     "name": "stdout",
     "output_type": "stream",
     "text": [
      "Step 258\n",
      "create_roi_mask: mask.shape=torch.Size([6, 1, 320, 320, 2])\n",
      "create_roi_mask: mask.shape=torch.Size([6, 1, 320, 320, 2])\n"
     ]
    },
    {
     "name": "stderr",
     "output_type": "stream",
     "text": [
      "Loss=0.065057:   1%|█▎                                                                                                                                                                           | 259/35001 [08:35<17:32:55,  1.82s/it]"
     ]
    },
    {
     "name": "stdout",
     "output_type": "stream",
     "text": [
      "Step 259\n",
      "create_roi_mask: mask.shape=torch.Size([6, 1, 320, 320, 2])\n",
      "create_roi_mask: mask.shape=torch.Size([6, 1, 320, 320, 2])\n"
     ]
    },
    {
     "name": "stderr",
     "output_type": "stream",
     "text": [
      "Loss=0.070661:   1%|█▎                                                                                                                                                                           | 260/35001 [08:37<17:32:33,  1.82s/it]"
     ]
    },
    {
     "name": "stdout",
     "output_type": "stream",
     "text": [
      "Step 260\n",
      "create_roi_mask: mask.shape=torch.Size([6, 1, 320, 320, 2])\n",
      "create_roi_mask: mask.shape=torch.Size([6, 1, 320, 320, 2])\n"
     ]
    },
    {
     "name": "stderr",
     "output_type": "stream",
     "text": [
      "Loss=0.067005:   1%|█▎                                                                                                                                                                           | 261/35001 [08:39<17:42:37,  1.84s/it]"
     ]
    },
    {
     "name": "stdout",
     "output_type": "stream",
     "text": [
      "Step 261\n",
      "create_roi_mask: mask.shape=torch.Size([6, 1, 320, 320, 2])\n",
      "create_roi_mask: mask.shape=torch.Size([6, 1, 320, 320, 2])\n"
     ]
    },
    {
     "name": "stderr",
     "output_type": "stream",
     "text": [
      "Loss=0.055450:   1%|█▎                                                                                                                                                                           | 262/35001 [08:41<17:32:53,  1.82s/it]"
     ]
    },
    {
     "name": "stdout",
     "output_type": "stream",
     "text": [
      "Step 262\n",
      "create_roi_mask: mask.shape=torch.Size([6, 1, 320, 320, 2])\n",
      "create_roi_mask: mask.shape=torch.Size([6, 1, 320, 320, 2])\n"
     ]
    },
    {
     "name": "stderr",
     "output_type": "stream",
     "text": [
      "Loss=0.055654:   1%|█▎                                                                                                                                                                           | 263/35001 [08:42<17:37:31,  1.83s/it]"
     ]
    },
    {
     "name": "stdout",
     "output_type": "stream",
     "text": [
      "Step 263\n",
      "create_roi_mask: mask.shape=torch.Size([6, 1, 320, 320, 2])\n",
      "create_roi_mask: mask.shape=torch.Size([6, 1, 320, 320, 2])\n"
     ]
    },
    {
     "name": "stderr",
     "output_type": "stream",
     "text": [
      "Loss=0.060060:   1%|█▎                                                                                                                                                                           | 264/35001 [08:44<17:40:05,  1.83s/it]"
     ]
    },
    {
     "name": "stdout",
     "output_type": "stream",
     "text": [
      "Step 264\n",
      "create_roi_mask: mask.shape=torch.Size([6, 1, 320, 320, 2])\n",
      "create_roi_mask: mask.shape=torch.Size([6, 1, 320, 320, 2])\n"
     ]
    },
    {
     "name": "stderr",
     "output_type": "stream",
     "text": [
      "Loss=0.056325:   1%|█▎                                                                                                                                                                           | 265/35001 [08:46<17:44:20,  1.84s/it]"
     ]
    },
    {
     "name": "stdout",
     "output_type": "stream",
     "text": [
      "Step 265\n",
      "create_roi_mask: mask.shape=torch.Size([6, 1, 320, 320, 2])\n",
      "create_roi_mask: mask.shape=torch.Size([6, 1, 320, 320, 2])\n"
     ]
    },
    {
     "name": "stderr",
     "output_type": "stream",
     "text": [
      "Loss=0.055912:   1%|█▎                                                                                                                                                                           | 266/35001 [08:48<17:51:34,  1.85s/it]"
     ]
    },
    {
     "name": "stdout",
     "output_type": "stream",
     "text": [
      "Step 266\n",
      "create_roi_mask: mask.shape=torch.Size([6, 1, 320, 320, 2])\n",
      "create_roi_mask: mask.shape=torch.Size([6, 1, 320, 320, 2])\n"
     ]
    },
    {
     "name": "stderr",
     "output_type": "stream",
     "text": [
      "Loss=0.070825:   1%|█▎                                                                                                                                                                           | 267/35001 [08:50<17:45:08,  1.84s/it]"
     ]
    },
    {
     "name": "stdout",
     "output_type": "stream",
     "text": [
      "Step 267\n",
      "create_roi_mask: mask.shape=torch.Size([6, 1, 320, 320, 2])\n",
      "create_roi_mask: mask.shape=torch.Size([6, 1, 320, 320, 2])\n"
     ]
    },
    {
     "name": "stderr",
     "output_type": "stream",
     "text": [
      "Loss=0.062956:   1%|█▎                                                                                                                                                                           | 268/35001 [08:52<17:59:12,  1.86s/it]"
     ]
    },
    {
     "name": "stdout",
     "output_type": "stream",
     "text": [
      "Step 268\n",
      "create_roi_mask: mask.shape=torch.Size([6, 1, 320, 320, 2])\n",
      "create_roi_mask: mask.shape=torch.Size([6, 1, 320, 320, 2])\n"
     ]
    },
    {
     "name": "stderr",
     "output_type": "stream",
     "text": [
      "Loss=0.063744:   1%|█▎                                                                                                                                                                           | 269/35001 [08:54<17:51:55,  1.85s/it]"
     ]
    },
    {
     "name": "stdout",
     "output_type": "stream",
     "text": [
      "Step 269\n",
      "create_roi_mask: mask.shape=torch.Size([6, 1, 320, 320, 2])\n",
      "create_roi_mask: mask.shape=torch.Size([6, 1, 320, 320, 2])\n"
     ]
    },
    {
     "name": "stderr",
     "output_type": "stream",
     "text": [
      "Loss=0.066071:   1%|█▎                                                                                                                                                                           | 270/35001 [08:55<17:45:20,  1.84s/it]"
     ]
    },
    {
     "name": "stdout",
     "output_type": "stream",
     "text": [
      "Step 270\n",
      "create_roi_mask: mask.shape=torch.Size([6, 1, 320, 320, 2])\n",
      "create_roi_mask: mask.shape=torch.Size([6, 1, 320, 320, 2])\n"
     ]
    },
    {
     "name": "stderr",
     "output_type": "stream",
     "text": [
      "Loss=0.057889:   1%|█▎                                                                                                                                                                           | 271/35001 [08:57<17:48:49,  1.85s/it]"
     ]
    },
    {
     "name": "stdout",
     "output_type": "stream",
     "text": [
      "Step 271\n",
      "create_roi_mask: mask.shape=torch.Size([6, 1, 320, 320, 2])\n",
      "create_roi_mask: mask.shape=torch.Size([6, 1, 320, 320, 2])\n"
     ]
    },
    {
     "name": "stderr",
     "output_type": "stream",
     "text": [
      "Loss=0.057165:   1%|█▎                                                                                                                                                                           | 272/35001 [08:59<17:42:35,  1.84s/it]"
     ]
    },
    {
     "name": "stdout",
     "output_type": "stream",
     "text": [
      "Step 272\n",
      "create_roi_mask: mask.shape=torch.Size([6, 1, 320, 320, 2])\n",
      "create_roi_mask: mask.shape=torch.Size([6, 1, 320, 320, 2])\n"
     ]
    },
    {
     "name": "stderr",
     "output_type": "stream",
     "text": [
      "Loss=0.058662:   1%|█▎                                                                                                                                                                           | 273/35001 [09:01<17:38:15,  1.83s/it]"
     ]
    },
    {
     "name": "stdout",
     "output_type": "stream",
     "text": [
      "Step 273\n",
      "create_roi_mask: mask.shape=torch.Size([6, 1, 320, 320, 2])\n",
      "create_roi_mask: mask.shape=torch.Size([6, 1, 320, 320, 2])\n"
     ]
    },
    {
     "name": "stderr",
     "output_type": "stream",
     "text": [
      "Loss=0.078072:   1%|█▎                                                                                                                                                                           | 274/35001 [09:03<17:39:34,  1.83s/it]"
     ]
    },
    {
     "name": "stdout",
     "output_type": "stream",
     "text": [
      "Step 274\n",
      "create_roi_mask: mask.shape=torch.Size([6, 1, 320, 320, 2])\n",
      "create_roi_mask: mask.shape=torch.Size([6, 1, 320, 320, 2])\n"
     ]
    },
    {
     "name": "stderr",
     "output_type": "stream",
     "text": [
      "Loss=0.070644:   1%|█▎                                                                                                                                                                           | 275/35001 [09:04<17:43:39,  1.84s/it]"
     ]
    },
    {
     "name": "stdout",
     "output_type": "stream",
     "text": [
      "Step 275\n",
      "create_roi_mask: mask.shape=torch.Size([6, 1, 320, 320, 2])\n",
      "create_roi_mask: mask.shape=torch.Size([6, 1, 320, 320, 2])\n"
     ]
    },
    {
     "name": "stderr",
     "output_type": "stream",
     "text": [
      "Loss=0.072608:   1%|█▎                                                                                                                                                                           | 276/35001 [09:06<17:43:29,  1.84s/it]"
     ]
    },
    {
     "name": "stdout",
     "output_type": "stream",
     "text": [
      "Step 276\n",
      "create_roi_mask: mask.shape=torch.Size([6, 1, 320, 320, 2])\n",
      "create_roi_mask: mask.shape=torch.Size([6, 1, 320, 320, 2])\n"
     ]
    },
    {
     "name": "stderr",
     "output_type": "stream",
     "text": [
      "Loss=0.059424:   1%|█▎                                                                                                                                                                           | 277/35001 [09:08<17:39:37,  1.83s/it]"
     ]
    },
    {
     "name": "stdout",
     "output_type": "stream",
     "text": [
      "Step 277\n",
      "create_roi_mask: mask.shape=torch.Size([6, 1, 320, 320, 2])\n",
      "create_roi_mask: mask.shape=torch.Size([6, 1, 320, 320, 2])\n"
     ]
    },
    {
     "name": "stderr",
     "output_type": "stream",
     "text": [
      "Loss=0.066467:   1%|█▎                                                                                                                                                                           | 278/35001 [09:10<17:36:58,  1.83s/it]"
     ]
    },
    {
     "name": "stdout",
     "output_type": "stream",
     "text": [
      "Step 278\n",
      "create_roi_mask: mask.shape=torch.Size([6, 1, 320, 320, 2])\n",
      "create_roi_mask: mask.shape=torch.Size([6, 1, 320, 320, 2])\n"
     ]
    },
    {
     "name": "stderr",
     "output_type": "stream",
     "text": [
      "Loss=0.054019:   1%|█▍                                                                                                                                                                           | 279/35001 [09:12<17:34:16,  1.82s/it]"
     ]
    },
    {
     "name": "stdout",
     "output_type": "stream",
     "text": [
      "Step 279\n",
      "create_roi_mask: mask.shape=torch.Size([6, 1, 320, 320, 2])\n",
      "create_roi_mask: mask.shape=torch.Size([6, 1, 320, 320, 2])\n"
     ]
    },
    {
     "name": "stderr",
     "output_type": "stream",
     "text": [
      "Loss=0.067664:   1%|█▍                                                                                                                                                                           | 280/35001 [09:14<17:49:45,  1.85s/it]"
     ]
    },
    {
     "name": "stdout",
     "output_type": "stream",
     "text": [
      "Step 280\n",
      "create_roi_mask: mask.shape=torch.Size([6, 1, 320, 320, 2])\n",
      "create_roi_mask: mask.shape=torch.Size([6, 1, 320, 320, 2])\n"
     ]
    },
    {
     "name": "stderr",
     "output_type": "stream",
     "text": [
      "Loss=0.053959:   1%|█▍                                                                                                                                                                           | 281/35001 [09:16<17:51:58,  1.85s/it]"
     ]
    },
    {
     "name": "stdout",
     "output_type": "stream",
     "text": [
      "Step 281\n",
      "create_roi_mask: mask.shape=torch.Size([6, 1, 320, 320, 2])\n",
      "create_roi_mask: mask.shape=torch.Size([6, 1, 320, 320, 2])\n"
     ]
    },
    {
     "name": "stderr",
     "output_type": "stream",
     "text": [
      "Loss=0.056666:   1%|█▍                                                                                                                                                                           | 282/35001 [09:17<17:36:53,  1.83s/it]"
     ]
    },
    {
     "name": "stdout",
     "output_type": "stream",
     "text": [
      "Step 282\n",
      "create_roi_mask: mask.shape=torch.Size([6, 1, 320, 320, 2])\n",
      "create_roi_mask: mask.shape=torch.Size([6, 1, 320, 320, 2])\n"
     ]
    },
    {
     "name": "stderr",
     "output_type": "stream",
     "text": [
      "Loss=0.064442:   1%|█▍                                                                                                                                                                           | 283/35001 [09:19<17:35:34,  1.82s/it]"
     ]
    },
    {
     "name": "stdout",
     "output_type": "stream",
     "text": [
      "Step 283\n",
      "create_roi_mask: mask.shape=torch.Size([6, 1, 320, 320, 2])\n",
      "create_roi_mask: mask.shape=torch.Size([6, 1, 320, 320, 2])\n"
     ]
    },
    {
     "name": "stderr",
     "output_type": "stream",
     "text": [
      "Loss=0.065173:   1%|█▍                                                                                                                                                                           | 284/35001 [09:21<17:34:29,  1.82s/it]"
     ]
    },
    {
     "name": "stdout",
     "output_type": "stream",
     "text": [
      "Step 284\n",
      "create_roi_mask: mask.shape=torch.Size([6, 1, 320, 320, 2])\n",
      "create_roi_mask: mask.shape=torch.Size([6, 1, 320, 320, 2])\n"
     ]
    },
    {
     "name": "stderr",
     "output_type": "stream",
     "text": [
      "Loss=0.066351:   1%|█▍                                                                                                                                                                           | 285/35001 [09:23<17:33:39,  1.82s/it]"
     ]
    },
    {
     "name": "stdout",
     "output_type": "stream",
     "text": [
      "Step 285\n",
      "create_roi_mask: mask.shape=torch.Size([6, 1, 320, 320, 2])\n",
      "create_roi_mask: mask.shape=torch.Size([6, 1, 320, 320, 2])\n"
     ]
    },
    {
     "name": "stderr",
     "output_type": "stream",
     "text": [
      "Loss=0.060805:   1%|█▍                                                                                                                                                                           | 286/35001 [09:25<17:37:15,  1.83s/it]"
     ]
    },
    {
     "name": "stdout",
     "output_type": "stream",
     "text": [
      "Step 286\n",
      "create_roi_mask: mask.shape=torch.Size([6, 1, 320, 320, 2])\n",
      "create_roi_mask: mask.shape=torch.Size([6, 1, 320, 320, 2])\n"
     ]
    },
    {
     "name": "stderr",
     "output_type": "stream",
     "text": [
      "Loss=0.061270:   1%|█▍                                                                                                                                                                           | 287/35001 [09:26<17:36:06,  1.83s/it]"
     ]
    },
    {
     "name": "stdout",
     "output_type": "stream",
     "text": [
      "Step 287\n",
      "create_roi_mask: mask.shape=torch.Size([6, 1, 320, 320, 2])\n",
      "create_roi_mask: mask.shape=torch.Size([6, 1, 320, 320, 2])\n"
     ]
    },
    {
     "name": "stderr",
     "output_type": "stream",
     "text": [
      "Loss=0.058199:   1%|█▍                                                                                                                                                                           | 288/35001 [09:28<17:34:05,  1.82s/it]"
     ]
    },
    {
     "name": "stdout",
     "output_type": "stream",
     "text": [
      "Step 288\n",
      "create_roi_mask: mask.shape=torch.Size([6, 1, 320, 320, 2])\n",
      "create_roi_mask: mask.shape=torch.Size([6, 1, 320, 320, 2])\n"
     ]
    },
    {
     "name": "stderr",
     "output_type": "stream",
     "text": [
      "Loss=0.068256:   1%|█▍                                                                                                                                                                           | 289/35001 [09:30<17:39:13,  1.83s/it]"
     ]
    },
    {
     "name": "stdout",
     "output_type": "stream",
     "text": [
      "Step 289\n",
      "create_roi_mask: mask.shape=torch.Size([6, 1, 320, 320, 2])\n",
      "create_roi_mask: mask.shape=torch.Size([6, 1, 320, 320, 2])\n"
     ]
    },
    {
     "name": "stderr",
     "output_type": "stream",
     "text": [
      "Loss=0.060237:   1%|█▍                                                                                                                                                                           | 290/35001 [09:32<17:37:01,  1.83s/it]"
     ]
    },
    {
     "name": "stdout",
     "output_type": "stream",
     "text": [
      "Step 290\n",
      "create_roi_mask: mask.shape=torch.Size([6, 1, 320, 320, 2])\n",
      "create_roi_mask: mask.shape=torch.Size([6, 1, 320, 320, 2])\n"
     ]
    },
    {
     "name": "stderr",
     "output_type": "stream",
     "text": [
      "Loss=0.060160:   1%|█▍                                                                                                                                                                           | 291/35001 [09:34<17:45:18,  1.84s/it]"
     ]
    },
    {
     "name": "stdout",
     "output_type": "stream",
     "text": [
      "Step 291\n",
      "create_roi_mask: mask.shape=torch.Size([6, 1, 320, 320, 2])\n",
      "create_roi_mask: mask.shape=torch.Size([6, 1, 320, 320, 2])\n"
     ]
    },
    {
     "name": "stderr",
     "output_type": "stream",
     "text": [
      "Loss=0.053146:   1%|█▍                                                                                                                                                                           | 292/35001 [09:36<17:33:50,  1.82s/it]"
     ]
    },
    {
     "name": "stdout",
     "output_type": "stream",
     "text": [
      "Step 292\n",
      "create_roi_mask: mask.shape=torch.Size([6, 1, 320, 320, 2])\n",
      "create_roi_mask: mask.shape=torch.Size([6, 1, 320, 320, 2])\n"
     ]
    },
    {
     "name": "stderr",
     "output_type": "stream",
     "text": [
      "Loss=0.056140:   1%|█▍                                                                                                                                                                           | 293/35001 [09:37<17:32:08,  1.82s/it]"
     ]
    },
    {
     "name": "stdout",
     "output_type": "stream",
     "text": [
      "Step 293\n",
      "create_roi_mask: mask.shape=torch.Size([6, 1, 320, 320, 2])\n",
      "create_roi_mask: mask.shape=torch.Size([6, 1, 320, 320, 2])\n"
     ]
    },
    {
     "name": "stderr",
     "output_type": "stream",
     "text": [
      "Loss=0.060751:   1%|█▍                                                                                                                                                                           | 294/35001 [09:39<17:31:17,  1.82s/it]"
     ]
    },
    {
     "name": "stdout",
     "output_type": "stream",
     "text": [
      "Step 294\n",
      "create_roi_mask: mask.shape=torch.Size([6, 1, 320, 320, 2])\n",
      "create_roi_mask: mask.shape=torch.Size([6, 1, 320, 320, 2])\n"
     ]
    },
    {
     "name": "stderr",
     "output_type": "stream",
     "text": [
      "Loss=0.051539:   1%|█▍                                                                                                                                                                           | 295/35001 [09:41<17:35:45,  1.83s/it]"
     ]
    },
    {
     "name": "stdout",
     "output_type": "stream",
     "text": [
      "Step 295\n",
      "create_roi_mask: mask.shape=torch.Size([6, 1, 320, 320, 2])\n",
      "create_roi_mask: mask.shape=torch.Size([6, 1, 320, 320, 2])\n"
     ]
    },
    {
     "name": "stderr",
     "output_type": "stream",
     "text": [
      "Loss=0.060221:   1%|█▍                                                                                                                                                                           | 296/35001 [09:43<17:36:17,  1.83s/it]"
     ]
    },
    {
     "name": "stdout",
     "output_type": "stream",
     "text": [
      "Step 296\n",
      "create_roi_mask: mask.shape=torch.Size([6, 1, 320, 320, 2])\n",
      "create_roi_mask: mask.shape=torch.Size([6, 1, 320, 320, 2])\n"
     ]
    },
    {
     "name": "stderr",
     "output_type": "stream",
     "text": [
      "Loss=0.061309:   1%|█▍                                                                                                                                                                           | 297/35001 [09:45<17:35:39,  1.83s/it]"
     ]
    },
    {
     "name": "stdout",
     "output_type": "stream",
     "text": [
      "Step 297\n",
      "create_roi_mask: mask.shape=torch.Size([6, 1, 320, 320, 2])\n",
      "create_roi_mask: mask.shape=torch.Size([6, 1, 320, 320, 2])\n"
     ]
    },
    {
     "name": "stderr",
     "output_type": "stream",
     "text": [
      "Loss=0.061641:   1%|█▍                                                                                                                                                                           | 298/35001 [09:46<17:34:42,  1.82s/it]"
     ]
    },
    {
     "name": "stdout",
     "output_type": "stream",
     "text": [
      "Step 298\n",
      "create_roi_mask: mask.shape=torch.Size([6, 1, 320, 320, 2])\n",
      "create_roi_mask: mask.shape=torch.Size([6, 1, 320, 320, 2])\n"
     ]
    },
    {
     "name": "stderr",
     "output_type": "stream",
     "text": [
      "Loss=0.063912:   1%|█▍                                                                                                                                                                           | 299/35001 [09:48<17:33:06,  1.82s/it]"
     ]
    },
    {
     "name": "stdout",
     "output_type": "stream",
     "text": [
      "Step 299\n",
      "create_roi_mask: mask.shape=torch.Size([6, 1, 320, 320, 2])\n",
      "create_roi_mask: mask.shape=torch.Size([6, 1, 320, 320, 2])\n"
     ]
    },
    {
     "name": "stderr",
     "output_type": "stream",
     "text": [
      "Loss=0.056361:   1%|█▍                                                                                                                                                                           | 300/35001 [09:50<17:32:35,  1.82s/it]"
     ]
    },
    {
     "name": "stdout",
     "output_type": "stream",
     "text": [
      "Step 300\n",
      "create_roi_mask: mask.shape=torch.Size([6, 1, 320, 320, 2])\n",
      "create_roi_mask: mask.shape=torch.Size([6, 1, 320, 320, 2])\n"
     ]
    },
    {
     "name": "stderr",
     "output_type": "stream",
     "text": [
      "Loss=0.061368:   1%|█▍                                                                                                                                                                           | 301/35001 [09:52<17:42:14,  1.84s/it]"
     ]
    },
    {
     "name": "stdout",
     "output_type": "stream",
     "text": [
      "Step 301\n",
      "create_roi_mask: mask.shape=torch.Size([6, 1, 320, 320, 2])\n",
      "create_roi_mask: mask.shape=torch.Size([6, 1, 320, 320, 2])\n"
     ]
    },
    {
     "name": "stderr",
     "output_type": "stream",
     "text": [
      "Loss=0.061708:   1%|█▍                                                                                                                                                                           | 302/35001 [09:54<18:13:23,  1.89s/it]"
     ]
    },
    {
     "name": "stdout",
     "output_type": "stream",
     "text": [
      "Step 302\n",
      "create_roi_mask: mask.shape=torch.Size([6, 1, 320, 320, 2])\n",
      "create_roi_mask: mask.shape=torch.Size([6, 1, 320, 320, 2])\n"
     ]
    },
    {
     "name": "stderr",
     "output_type": "stream",
     "text": [
      "Loss=0.064724:   1%|█▍                                                                                                                                                                           | 303/35001 [09:56<18:00:04,  1.87s/it]"
     ]
    },
    {
     "name": "stdout",
     "output_type": "stream",
     "text": [
      "Step 303\n",
      "create_roi_mask: mask.shape=torch.Size([6, 1, 320, 320, 2])\n",
      "create_roi_mask: mask.shape=torch.Size([6, 1, 320, 320, 2])\n"
     ]
    },
    {
     "name": "stderr",
     "output_type": "stream",
     "text": [
      "Loss=0.063523:   1%|█▌                                                                                                                                                                           | 304/35001 [09:58<17:51:11,  1.85s/it]"
     ]
    },
    {
     "name": "stdout",
     "output_type": "stream",
     "text": [
      "Step 304\n",
      "create_roi_mask: mask.shape=torch.Size([6, 1, 320, 320, 2])\n",
      "create_roi_mask: mask.shape=torch.Size([6, 1, 320, 320, 2])\n"
     ]
    },
    {
     "name": "stderr",
     "output_type": "stream",
     "text": [
      "Loss=0.058408:   1%|█▌                                                                                                                                                                           | 305/35001 [09:59<17:49:38,  1.85s/it]"
     ]
    },
    {
     "name": "stdout",
     "output_type": "stream",
     "text": [
      "Step 305\n",
      "create_roi_mask: mask.shape=torch.Size([6, 1, 320, 320, 2])\n",
      "create_roi_mask: mask.shape=torch.Size([6, 1, 320, 320, 2])\n"
     ]
    },
    {
     "name": "stderr",
     "output_type": "stream",
     "text": [
      "Loss=0.052377:   1%|█▌                                                                                                                                                                           | 306/35001 [10:01<17:55:28,  1.86s/it]"
     ]
    },
    {
     "name": "stdout",
     "output_type": "stream",
     "text": [
      "Step 306\n",
      "create_roi_mask: mask.shape=torch.Size([6, 1, 320, 320, 2])\n",
      "create_roi_mask: mask.shape=torch.Size([6, 1, 320, 320, 2])\n"
     ]
    },
    {
     "name": "stderr",
     "output_type": "stream",
     "text": [
      "Loss=0.057194:   1%|█▌                                                                                                                                                                           | 307/35001 [10:03<17:48:58,  1.85s/it]"
     ]
    },
    {
     "name": "stdout",
     "output_type": "stream",
     "text": [
      "Step 307\n",
      "create_roi_mask: mask.shape=torch.Size([6, 1, 320, 320, 2])\n",
      "create_roi_mask: mask.shape=torch.Size([6, 1, 320, 320, 2])\n"
     ]
    },
    {
     "name": "stderr",
     "output_type": "stream",
     "text": [
      "Loss=0.065125:   1%|█▌                                                                                                                                                                           | 308/35001 [10:05<17:45:48,  1.84s/it]"
     ]
    },
    {
     "name": "stdout",
     "output_type": "stream",
     "text": [
      "Step 308\n",
      "create_roi_mask: mask.shape=torch.Size([6, 1, 320, 320, 2])\n",
      "create_roi_mask: mask.shape=torch.Size([6, 1, 320, 320, 2])\n"
     ]
    },
    {
     "name": "stderr",
     "output_type": "stream",
     "text": [
      "Loss=0.059201:   1%|█▌                                                                                                                                                                           | 309/35001 [10:07<17:41:52,  1.84s/it]"
     ]
    },
    {
     "name": "stdout",
     "output_type": "stream",
     "text": [
      "Step 309\n",
      "create_roi_mask: mask.shape=torch.Size([6, 1, 320, 320, 2])\n",
      "create_roi_mask: mask.shape=torch.Size([6, 1, 320, 320, 2])\n"
     ]
    },
    {
     "name": "stderr",
     "output_type": "stream",
     "text": [
      "Loss=0.059077:   1%|█▌                                                                                                                                                                           | 310/35001 [10:09<17:38:20,  1.83s/it]"
     ]
    },
    {
     "name": "stdout",
     "output_type": "stream",
     "text": [
      "Step 310\n",
      "create_roi_mask: mask.shape=torch.Size([6, 1, 320, 320, 2])\n",
      "create_roi_mask: mask.shape=torch.Size([6, 1, 320, 320, 2])\n"
     ]
    },
    {
     "name": "stderr",
     "output_type": "stream",
     "text": [
      "Loss=0.070943:   1%|█▌                                                                                                                                                                           | 311/35001 [10:11<17:44:57,  1.84s/it]"
     ]
    },
    {
     "name": "stdout",
     "output_type": "stream",
     "text": [
      "Step 311\n",
      "create_roi_mask: mask.shape=torch.Size([6, 1, 320, 320, 2])\n",
      "create_roi_mask: mask.shape=torch.Size([6, 1, 320, 320, 2])\n"
     ]
    },
    {
     "name": "stderr",
     "output_type": "stream",
     "text": [
      "Loss=0.064401:   1%|█▌                                                                                                                                                                           | 312/35001 [10:12<17:59:13,  1.87s/it]"
     ]
    },
    {
     "name": "stdout",
     "output_type": "stream",
     "text": [
      "Step 312\n",
      "create_roi_mask: mask.shape=torch.Size([6, 1, 320, 320, 2])\n",
      "create_roi_mask: mask.shape=torch.Size([6, 1, 320, 320, 2])\n"
     ]
    },
    {
     "name": "stderr",
     "output_type": "stream",
     "text": [
      "Loss=0.067968:   1%|█▌                                                                                                                                                                           | 313/35001 [10:14<17:52:49,  1.86s/it]"
     ]
    },
    {
     "name": "stdout",
     "output_type": "stream",
     "text": [
      "Step 313\n",
      "create_roi_mask: mask.shape=torch.Size([6, 1, 320, 320, 2])\n",
      "create_roi_mask: mask.shape=torch.Size([6, 1, 320, 320, 2])\n"
     ]
    },
    {
     "name": "stderr",
     "output_type": "stream",
     "text": [
      "Loss=0.061226:   1%|█▌                                                                                                                                                                           | 314/35001 [10:16<17:48:46,  1.85s/it]"
     ]
    },
    {
     "name": "stdout",
     "output_type": "stream",
     "text": [
      "Step 314\n",
      "create_roi_mask: mask.shape=torch.Size([6, 1, 320, 320, 2])\n",
      "create_roi_mask: mask.shape=torch.Size([6, 1, 320, 320, 2])\n"
     ]
    },
    {
     "name": "stderr",
     "output_type": "stream",
     "text": [
      "Loss=0.062534:   1%|█▌                                                                                                                                                                           | 315/35001 [10:18<18:07:00,  1.88s/it]"
     ]
    },
    {
     "name": "stdout",
     "output_type": "stream",
     "text": [
      "Step 315\n",
      "create_roi_mask: mask.shape=torch.Size([6, 1, 320, 320, 2])\n",
      "create_roi_mask: mask.shape=torch.Size([6, 1, 320, 320, 2])\n"
     ]
    },
    {
     "name": "stderr",
     "output_type": "stream",
     "text": [
      "Loss=0.071249:   1%|█▌                                                                                                                                                                           | 316/35001 [10:20<18:07:22,  1.88s/it]"
     ]
    },
    {
     "name": "stdout",
     "output_type": "stream",
     "text": [
      "Step 316\n",
      "create_roi_mask: mask.shape=torch.Size([6, 1, 320, 320, 2])\n",
      "create_roi_mask: mask.shape=torch.Size([6, 1, 320, 320, 2])\n"
     ]
    },
    {
     "name": "stderr",
     "output_type": "stream",
     "text": [
      "Loss=0.060385:   1%|█▌                                                                                                                                                                           | 317/35001 [10:22<17:58:42,  1.87s/it]"
     ]
    },
    {
     "name": "stdout",
     "output_type": "stream",
     "text": [
      "Step 317\n",
      "create_roi_mask: mask.shape=torch.Size([6, 1, 320, 320, 2])\n",
      "create_roi_mask: mask.shape=torch.Size([6, 1, 320, 320, 2])\n"
     ]
    },
    {
     "name": "stderr",
     "output_type": "stream",
     "text": [
      "Loss=0.047601:   1%|█▌                                                                                                                                                                           | 318/35001 [10:24<17:59:32,  1.87s/it]"
     ]
    },
    {
     "name": "stdout",
     "output_type": "stream",
     "text": [
      "Step 318\n",
      "create_roi_mask: mask.shape=torch.Size([6, 1, 320, 320, 2])\n",
      "create_roi_mask: mask.shape=torch.Size([6, 1, 320, 320, 2])\n"
     ]
    },
    {
     "name": "stderr",
     "output_type": "stream",
     "text": [
      "Loss=0.076795:   1%|█▌                                                                                                                                                                           | 319/35001 [10:26<18:01:10,  1.87s/it]"
     ]
    },
    {
     "name": "stdout",
     "output_type": "stream",
     "text": [
      "Step 319\n",
      "create_roi_mask: mask.shape=torch.Size([6, 1, 320, 320, 2])\n",
      "create_roi_mask: mask.shape=torch.Size([6, 1, 320, 320, 2])\n"
     ]
    },
    {
     "name": "stderr",
     "output_type": "stream",
     "text": [
      "Loss=0.058023:   1%|█▌                                                                                                                                                                           | 320/35001 [10:27<17:56:13,  1.86s/it]"
     ]
    },
    {
     "name": "stdout",
     "output_type": "stream",
     "text": [
      "Step 320\n",
      "create_roi_mask: mask.shape=torch.Size([6, 1, 320, 320, 2])\n",
      "create_roi_mask: mask.shape=torch.Size([6, 1, 320, 320, 2])\n"
     ]
    },
    {
     "name": "stderr",
     "output_type": "stream",
     "text": [
      "Loss=0.058999:   1%|█▌                                                                                                                                                                           | 321/35001 [10:29<17:58:22,  1.87s/it]"
     ]
    },
    {
     "name": "stdout",
     "output_type": "stream",
     "text": [
      "Step 321\n",
      "create_roi_mask: mask.shape=torch.Size([6, 1, 320, 320, 2])\n",
      "create_roi_mask: mask.shape=torch.Size([6, 1, 320, 320, 2])\n"
     ]
    },
    {
     "name": "stderr",
     "output_type": "stream",
     "text": [
      "Loss=0.051928:   1%|█▌                                                                                                                                                                           | 322/35001 [10:31<17:45:15,  1.84s/it]"
     ]
    },
    {
     "name": "stdout",
     "output_type": "stream",
     "text": [
      "Step 322\n",
      "create_roi_mask: mask.shape=torch.Size([6, 1, 320, 320, 2])\n",
      "create_roi_mask: mask.shape=torch.Size([6, 1, 320, 320, 2])\n"
     ]
    },
    {
     "name": "stderr",
     "output_type": "stream",
     "text": [
      "Loss=0.061853:   1%|█▌                                                                                                                                                                           | 323/35001 [10:33<18:02:57,  1.87s/it]"
     ]
    },
    {
     "name": "stdout",
     "output_type": "stream",
     "text": [
      "Step 323\n",
      "create_roi_mask: mask.shape=torch.Size([6, 1, 320, 320, 2])\n",
      "create_roi_mask: mask.shape=torch.Size([6, 1, 320, 320, 2])\n"
     ]
    },
    {
     "name": "stderr",
     "output_type": "stream",
     "text": [
      "Loss=0.056563:   1%|█▌                                                                                                                                                                           | 324/35001 [10:35<17:53:28,  1.86s/it]"
     ]
    },
    {
     "name": "stdout",
     "output_type": "stream",
     "text": [
      "Step 324\n",
      "create_roi_mask: mask.shape=torch.Size([6, 1, 320, 320, 2])\n",
      "create_roi_mask: mask.shape=torch.Size([6, 1, 320, 320, 2])\n"
     ]
    },
    {
     "name": "stderr",
     "output_type": "stream",
     "text": [
      "Loss=0.060523:   1%|█▌                                                                                                                                                                           | 325/35001 [10:37<17:59:25,  1.87s/it]"
     ]
    },
    {
     "name": "stdout",
     "output_type": "stream",
     "text": [
      "Step 325\n",
      "create_roi_mask: mask.shape=torch.Size([6, 1, 320, 320, 2])\n",
      "create_roi_mask: mask.shape=torch.Size([6, 1, 320, 320, 2])\n"
     ]
    },
    {
     "name": "stderr",
     "output_type": "stream",
     "text": [
      "Loss=0.059513:   1%|█▌                                                                                                                                                                           | 326/35001 [10:39<19:42:39,  2.05s/it]"
     ]
    },
    {
     "name": "stdout",
     "output_type": "stream",
     "text": [
      "Step 326\n",
      "create_roi_mask: mask.shape=torch.Size([6, 1, 320, 320, 2])\n",
      "create_roi_mask: mask.shape=torch.Size([6, 1, 320, 320, 2])\n"
     ]
    },
    {
     "name": "stderr",
     "output_type": "stream",
     "text": [
      "Loss=0.053075:   1%|█▌                                                                                                                                                                           | 327/35001 [10:41<19:51:44,  2.06s/it]"
     ]
    },
    {
     "name": "stdout",
     "output_type": "stream",
     "text": [
      "Step 327\n",
      "create_roi_mask: mask.shape=torch.Size([6, 1, 320, 320, 2])\n",
      "create_roi_mask: mask.shape=torch.Size([6, 1, 320, 320, 2])\n"
     ]
    },
    {
     "name": "stderr",
     "output_type": "stream",
     "text": [
      "Loss=0.054729:   1%|█▌                                                                                                                                                                           | 328/35001 [10:43<19:09:39,  1.99s/it]"
     ]
    },
    {
     "name": "stdout",
     "output_type": "stream",
     "text": [
      "Step 328\n",
      "create_roi_mask: mask.shape=torch.Size([6, 1, 320, 320, 2])\n",
      "create_roi_mask: mask.shape=torch.Size([6, 1, 320, 320, 2])\n"
     ]
    },
    {
     "name": "stderr",
     "output_type": "stream",
     "text": [
      "Loss=0.064460:   1%|█▋                                                                                                                                                                           | 329/35001 [10:45<18:44:13,  1.95s/it]"
     ]
    },
    {
     "name": "stdout",
     "output_type": "stream",
     "text": [
      "Step 329\n",
      "create_roi_mask: mask.shape=torch.Size([6, 1, 320, 320, 2])\n",
      "create_roi_mask: mask.shape=torch.Size([6, 1, 320, 320, 2])\n"
     ]
    },
    {
     "name": "stderr",
     "output_type": "stream",
     "text": [
      "Loss=0.055819:   1%|█▋                                                                                                                                                                           | 330/35001 [10:47<18:29:54,  1.92s/it]"
     ]
    },
    {
     "name": "stdout",
     "output_type": "stream",
     "text": [
      "Step 330\n",
      "create_roi_mask: mask.shape=torch.Size([6, 1, 320, 320, 2])\n",
      "create_roi_mask: mask.shape=torch.Size([6, 1, 320, 320, 2])\n"
     ]
    },
    {
     "name": "stderr",
     "output_type": "stream",
     "text": [
      "Loss=0.064923:   1%|█▋                                                                                                                                                                           | 331/35001 [10:49<18:29:15,  1.92s/it]"
     ]
    },
    {
     "name": "stdout",
     "output_type": "stream",
     "text": [
      "Step 331\n",
      "create_roi_mask: mask.shape=torch.Size([6, 1, 320, 320, 2])\n",
      "create_roi_mask: mask.shape=torch.Size([6, 1, 320, 320, 2])\n"
     ]
    },
    {
     "name": "stderr",
     "output_type": "stream",
     "text": [
      "Loss=0.068987:   1%|█▋                                                                                                                                                                           | 332/35001 [10:50<18:02:59,  1.87s/it]"
     ]
    },
    {
     "name": "stdout",
     "output_type": "stream",
     "text": [
      "Step 332\n",
      "create_roi_mask: mask.shape=torch.Size([6, 1, 320, 320, 2])\n",
      "create_roi_mask: mask.shape=torch.Size([6, 1, 320, 320, 2])\n"
     ]
    },
    {
     "name": "stderr",
     "output_type": "stream",
     "text": [
      "Loss=0.054184:   1%|█▋                                                                                                                                                                           | 333/35001 [10:52<17:58:40,  1.87s/it]"
     ]
    },
    {
     "name": "stdout",
     "output_type": "stream",
     "text": [
      "Step 333\n",
      "create_roi_mask: mask.shape=torch.Size([6, 1, 320, 320, 2])\n",
      "create_roi_mask: mask.shape=torch.Size([6, 1, 320, 320, 2])\n"
     ]
    },
    {
     "name": "stderr",
     "output_type": "stream",
     "text": [
      "Loss=0.057393:   1%|█▋                                                                                                                                                                           | 334/35001 [10:54<17:55:34,  1.86s/it]"
     ]
    },
    {
     "name": "stdout",
     "output_type": "stream",
     "text": [
      "Step 334\n",
      "create_roi_mask: mask.shape=torch.Size([6, 1, 320, 320, 2])\n",
      "create_roi_mask: mask.shape=torch.Size([6, 1, 320, 320, 2])\n"
     ]
    },
    {
     "name": "stderr",
     "output_type": "stream",
     "text": [
      "Loss=0.063164:   1%|█▋                                                                                                                                                                           | 335/35001 [10:56<17:46:29,  1.85s/it]"
     ]
    },
    {
     "name": "stdout",
     "output_type": "stream",
     "text": [
      "Step 335\n",
      "create_roi_mask: mask.shape=torch.Size([6, 1, 320, 320, 2])\n",
      "create_roi_mask: mask.shape=torch.Size([6, 1, 320, 320, 2])\n"
     ]
    },
    {
     "name": "stderr",
     "output_type": "stream",
     "text": [
      "Loss=0.064231:   1%|█▋                                                                                                                                                                           | 336/35001 [10:58<17:41:55,  1.84s/it]"
     ]
    },
    {
     "name": "stdout",
     "output_type": "stream",
     "text": [
      "Step 336\n",
      "create_roi_mask: mask.shape=torch.Size([6, 1, 320, 320, 2])\n",
      "create_roi_mask: mask.shape=torch.Size([6, 1, 320, 320, 2])\n"
     ]
    },
    {
     "name": "stderr",
     "output_type": "stream",
     "text": [
      "Loss=0.069617:   1%|█▋                                                                                                                                                                           | 337/35001 [11:00<17:45:41,  1.84s/it]"
     ]
    },
    {
     "name": "stdout",
     "output_type": "stream",
     "text": [
      "Step 337\n",
      "create_roi_mask: mask.shape=torch.Size([6, 1, 320, 320, 2])\n",
      "create_roi_mask: mask.shape=torch.Size([6, 1, 320, 320, 2])\n"
     ]
    },
    {
     "name": "stderr",
     "output_type": "stream",
     "text": [
      "Loss=0.057020:   1%|█▋                                                                                                                                                                           | 338/35001 [11:01<17:42:04,  1.84s/it]"
     ]
    },
    {
     "name": "stdout",
     "output_type": "stream",
     "text": [
      "Step 338\n",
      "create_roi_mask: mask.shape=torch.Size([6, 1, 320, 320, 2])\n",
      "create_roi_mask: mask.shape=torch.Size([6, 1, 320, 320, 2])\n"
     ]
    },
    {
     "name": "stderr",
     "output_type": "stream",
     "text": [
      "Loss=0.050757:   1%|█▋                                                                                                                                                                           | 339/35001 [11:03<17:39:35,  1.83s/it]"
     ]
    },
    {
     "name": "stdout",
     "output_type": "stream",
     "text": [
      "Step 339\n",
      "create_roi_mask: mask.shape=torch.Size([6, 1, 320, 320, 2])\n",
      "create_roi_mask: mask.shape=torch.Size([6, 1, 320, 320, 2])\n"
     ]
    },
    {
     "name": "stderr",
     "output_type": "stream",
     "text": [
      "Loss=0.052546:   1%|█▋                                                                                                                                                                           | 340/35001 [11:05<17:45:24,  1.84s/it]"
     ]
    },
    {
     "name": "stdout",
     "output_type": "stream",
     "text": [
      "Step 340\n",
      "create_roi_mask: mask.shape=torch.Size([6, 1, 320, 320, 2])\n",
      "create_roi_mask: mask.shape=torch.Size([6, 1, 320, 320, 2])\n"
     ]
    },
    {
     "name": "stderr",
     "output_type": "stream",
     "text": [
      "Loss=0.062566:   1%|█▋                                                                                                                                                                           | 341/35001 [11:07<18:00:57,  1.87s/it]"
     ]
    },
    {
     "name": "stdout",
     "output_type": "stream",
     "text": [
      "Step 341\n",
      "create_roi_mask: mask.shape=torch.Size([6, 1, 320, 320, 2])\n",
      "create_roi_mask: mask.shape=torch.Size([6, 1, 320, 320, 2])\n"
     ]
    },
    {
     "name": "stderr",
     "output_type": "stream",
     "text": [
      "Loss=0.050326:   1%|█▋                                                                                                                                                                           | 342/35001 [11:09<18:03:26,  1.88s/it]"
     ]
    },
    {
     "name": "stdout",
     "output_type": "stream",
     "text": [
      "Step 342\n",
      "create_roi_mask: mask.shape=torch.Size([6, 1, 320, 320, 2])\n",
      "create_roi_mask: mask.shape=torch.Size([6, 1, 320, 320, 2])\n"
     ]
    },
    {
     "name": "stderr",
     "output_type": "stream",
     "text": [
      "Loss=0.053250:   1%|█▋                                                                                                                                                                           | 343/35001 [11:11<17:52:52,  1.86s/it]"
     ]
    },
    {
     "name": "stdout",
     "output_type": "stream",
     "text": [
      "Step 343\n",
      "create_roi_mask: mask.shape=torch.Size([6, 1, 320, 320, 2])\n",
      "create_roi_mask: mask.shape=torch.Size([6, 1, 320, 320, 2])\n"
     ]
    },
    {
     "name": "stderr",
     "output_type": "stream",
     "text": [
      "Loss=0.058345:   1%|█▋                                                                                                                                                                           | 344/35001 [11:13<17:46:51,  1.85s/it]"
     ]
    },
    {
     "name": "stdout",
     "output_type": "stream",
     "text": [
      "Step 344\n",
      "create_roi_mask: mask.shape=torch.Size([6, 1, 320, 320, 2])\n",
      "create_roi_mask: mask.shape=torch.Size([6, 1, 320, 320, 2])\n"
     ]
    },
    {
     "name": "stderr",
     "output_type": "stream",
     "text": [
      "Loss=0.051701:   1%|█▋                                                                                                                                                                           | 345/35001 [11:15<18:01:16,  1.87s/it]"
     ]
    },
    {
     "name": "stdout",
     "output_type": "stream",
     "text": [
      "Step 345\n",
      "create_roi_mask: mask.shape=torch.Size([6, 1, 320, 320, 2])\n",
      "create_roi_mask: mask.shape=torch.Size([6, 1, 320, 320, 2])\n"
     ]
    },
    {
     "name": "stderr",
     "output_type": "stream",
     "text": [
      "Loss=0.051515:   1%|█▋                                                                                                                                                                           | 346/35001 [11:16<18:02:17,  1.87s/it]"
     ]
    },
    {
     "name": "stdout",
     "output_type": "stream",
     "text": [
      "Step 346\n",
      "create_roi_mask: mask.shape=torch.Size([6, 1, 320, 320, 2])\n",
      "create_roi_mask: mask.shape=torch.Size([6, 1, 320, 320, 2])\n"
     ]
    },
    {
     "name": "stderr",
     "output_type": "stream",
     "text": [
      "Loss=0.048171:   1%|█▋                                                                                                                                                                           | 347/35001 [11:18<17:52:09,  1.86s/it]"
     ]
    },
    {
     "name": "stdout",
     "output_type": "stream",
     "text": [
      "Step 347\n",
      "create_roi_mask: mask.shape=torch.Size([6, 1, 320, 320, 2])\n",
      "create_roi_mask: mask.shape=torch.Size([6, 1, 320, 320, 2])\n"
     ]
    },
    {
     "name": "stderr",
     "output_type": "stream",
     "text": [
      "Loss=0.051805:   1%|█▋                                                                                                                                                                           | 348/35001 [11:20<17:45:15,  1.84s/it]"
     ]
    },
    {
     "name": "stdout",
     "output_type": "stream",
     "text": [
      "Step 348\n",
      "create_roi_mask: mask.shape=torch.Size([6, 1, 320, 320, 2])\n",
      "create_roi_mask: mask.shape=torch.Size([6, 1, 320, 320, 2])\n"
     ]
    },
    {
     "name": "stderr",
     "output_type": "stream",
     "text": [
      "Loss=0.056064:   1%|█▋                                                                                                                                                                           | 349/35001 [11:22<17:41:36,  1.84s/it]"
     ]
    },
    {
     "name": "stdout",
     "output_type": "stream",
     "text": [
      "Step 349\n",
      "create_roi_mask: mask.shape=torch.Size([6, 1, 320, 320, 2])\n",
      "create_roi_mask: mask.shape=torch.Size([6, 1, 320, 320, 2])\n"
     ]
    },
    {
     "name": "stderr",
     "output_type": "stream",
     "text": [
      "Loss=0.049292:   1%|█▋                                                                                                                                                                           | 350/35001 [11:24<17:39:53,  1.84s/it]"
     ]
    },
    {
     "name": "stdout",
     "output_type": "stream",
     "text": [
      "Step 350\n",
      "create_roi_mask: mask.shape=torch.Size([6, 1, 320, 320, 2])\n",
      "create_roi_mask: mask.shape=torch.Size([6, 1, 320, 320, 2])\n"
     ]
    },
    {
     "name": "stderr",
     "output_type": "stream",
     "text": [
      "Loss=0.063187:   1%|█▋                                                                                                                                                                           | 351/35001 [11:26<17:49:34,  1.85s/it]"
     ]
    },
    {
     "name": "stdout",
     "output_type": "stream",
     "text": [
      "Step 351\n",
      "create_roi_mask: mask.shape=torch.Size([6, 1, 320, 320, 2])\n",
      "create_roi_mask: mask.shape=torch.Size([6, 1, 320, 320, 2])\n"
     ]
    },
    {
     "name": "stderr",
     "output_type": "stream",
     "text": [
      "Loss=0.049521:   1%|█▋                                                                                                                                                                           | 352/35001 [11:27<17:37:14,  1.83s/it]"
     ]
    },
    {
     "name": "stdout",
     "output_type": "stream",
     "text": [
      "Step 352\n",
      "create_roi_mask: mask.shape=torch.Size([6, 1, 320, 320, 2])\n",
      "create_roi_mask: mask.shape=torch.Size([6, 1, 320, 320, 2])\n"
     ]
    },
    {
     "name": "stderr",
     "output_type": "stream",
     "text": [
      "Loss=0.067123:   1%|█▋                                                                                                                                                                           | 353/35001 [11:29<17:34:15,  1.83s/it]"
     ]
    },
    {
     "name": "stdout",
     "output_type": "stream",
     "text": [
      "Step 353\n",
      "create_roi_mask: mask.shape=torch.Size([6, 1, 320, 320, 2])\n",
      "create_roi_mask: mask.shape=torch.Size([6, 1, 320, 320, 2])\n"
     ]
    },
    {
     "name": "stderr",
     "output_type": "stream",
     "text": [
      "Loss=0.068364:   1%|█▋                                                                                                                                                                           | 354/35001 [11:31<17:49:21,  1.85s/it]"
     ]
    },
    {
     "name": "stdout",
     "output_type": "stream",
     "text": [
      "Step 354\n",
      "create_roi_mask: mask.shape=torch.Size([6, 1, 320, 320, 2])\n",
      "create_roi_mask: mask.shape=torch.Size([6, 1, 320, 320, 2])\n"
     ]
    },
    {
     "name": "stderr",
     "output_type": "stream",
     "text": [
      "Loss=0.068544:   1%|█▊                                                                                                                                                                           | 355/35001 [11:33<17:47:22,  1.85s/it]"
     ]
    },
    {
     "name": "stdout",
     "output_type": "stream",
     "text": [
      "Step 355\n",
      "create_roi_mask: mask.shape=torch.Size([6, 1, 320, 320, 2])\n",
      "create_roi_mask: mask.shape=torch.Size([6, 1, 320, 320, 2])\n"
     ]
    },
    {
     "name": "stderr",
     "output_type": "stream",
     "text": [
      "Loss=0.063048:   1%|█▊                                                                                                                                                                           | 356/35001 [11:35<18:01:32,  1.87s/it]"
     ]
    },
    {
     "name": "stdout",
     "output_type": "stream",
     "text": [
      "Step 356\n",
      "create_roi_mask: mask.shape=torch.Size([6, 1, 320, 320, 2])\n",
      "create_roi_mask: mask.shape=torch.Size([6, 1, 320, 320, 2])\n"
     ]
    },
    {
     "name": "stderr",
     "output_type": "stream",
     "text": [
      "Loss=0.063790:   1%|█▊                                                                                                                                                                           | 357/35001 [11:37<17:57:07,  1.87s/it]"
     ]
    },
    {
     "name": "stdout",
     "output_type": "stream",
     "text": [
      "Step 357\n",
      "create_roi_mask: mask.shape=torch.Size([6, 1, 320, 320, 2])\n",
      "create_roi_mask: mask.shape=torch.Size([6, 1, 320, 320, 2])\n"
     ]
    },
    {
     "name": "stderr",
     "output_type": "stream",
     "text": [
      "Loss=0.056973:   1%|█▊                                                                                                                                                                           | 358/35001 [11:39<17:59:10,  1.87s/it]"
     ]
    },
    {
     "name": "stdout",
     "output_type": "stream",
     "text": [
      "Step 358\n",
      "create_roi_mask: mask.shape=torch.Size([6, 1, 320, 320, 2])\n",
      "create_roi_mask: mask.shape=torch.Size([6, 1, 320, 320, 2])\n"
     ]
    },
    {
     "name": "stderr",
     "output_type": "stream",
     "text": [
      "Loss=0.073192:   1%|█▊                                                                                                                                                                           | 359/35001 [11:41<18:02:01,  1.87s/it]"
     ]
    },
    {
     "name": "stdout",
     "output_type": "stream",
     "text": [
      "Step 359\n",
      "create_roi_mask: mask.shape=torch.Size([6, 1, 320, 320, 2])\n",
      "create_roi_mask: mask.shape=torch.Size([6, 1, 320, 320, 2])\n"
     ]
    },
    {
     "name": "stderr",
     "output_type": "stream",
     "text": [
      "Loss=0.061123:   1%|█▊                                                                                                                                                                           | 360/35001 [11:42<17:52:53,  1.86s/it]"
     ]
    },
    {
     "name": "stdout",
     "output_type": "stream",
     "text": [
      "Step 360\n",
      "create_roi_mask: mask.shape=torch.Size([6, 1, 320, 320, 2])\n",
      "create_roi_mask: mask.shape=torch.Size([6, 1, 320, 320, 2])\n"
     ]
    },
    {
     "name": "stderr",
     "output_type": "stream",
     "text": [
      "Loss=0.060073:   1%|█▊                                                                                                                                                                           | 361/35001 [11:44<17:54:05,  1.86s/it]"
     ]
    },
    {
     "name": "stdout",
     "output_type": "stream",
     "text": [
      "Step 361\n",
      "create_roi_mask: mask.shape=torch.Size([6, 1, 320, 320, 2])\n",
      "create_roi_mask: mask.shape=torch.Size([6, 1, 320, 320, 2])\n"
     ]
    },
    {
     "name": "stderr",
     "output_type": "stream",
     "text": [
      "Loss=0.065801:   1%|█▊                                                                                                                                                                           | 362/35001 [11:46<17:46:03,  1.85s/it]"
     ]
    },
    {
     "name": "stdout",
     "output_type": "stream",
     "text": [
      "Step 362\n",
      "create_roi_mask: mask.shape=torch.Size([6, 1, 320, 320, 2])\n",
      "create_roi_mask: mask.shape=torch.Size([6, 1, 320, 320, 2])\n"
     ]
    },
    {
     "name": "stderr",
     "output_type": "stream",
     "text": [
      "Loss=0.058828:   1%|█▊                                                                                                                                                                           | 363/35001 [11:48<17:41:32,  1.84s/it]"
     ]
    },
    {
     "name": "stdout",
     "output_type": "stream",
     "text": [
      "Step 363\n",
      "create_roi_mask: mask.shape=torch.Size([6, 1, 320, 320, 2])\n",
      "create_roi_mask: mask.shape=torch.Size([6, 1, 320, 320, 2])\n"
     ]
    },
    {
     "name": "stderr",
     "output_type": "stream",
     "text": [
      "Loss=0.070571:   1%|█▊                                                                                                                                                                           | 364/35001 [11:50<17:51:48,  1.86s/it]"
     ]
    },
    {
     "name": "stdout",
     "output_type": "stream",
     "text": [
      "Step 364\n",
      "create_roi_mask: mask.shape=torch.Size([6, 1, 320, 320, 2])\n",
      "create_roi_mask: mask.shape=torch.Size([6, 1, 320, 320, 2])\n"
     ]
    },
    {
     "name": "stderr",
     "output_type": "stream",
     "text": [
      "Loss=0.053114:   1%|█▊                                                                                                                                                                           | 365/35001 [11:52<17:58:16,  1.87s/it]"
     ]
    },
    {
     "name": "stdout",
     "output_type": "stream",
     "text": [
      "Step 365\n",
      "create_roi_mask: mask.shape=torch.Size([6, 1, 320, 320, 2])\n",
      "create_roi_mask: mask.shape=torch.Size([6, 1, 320, 320, 2])\n"
     ]
    },
    {
     "name": "stderr",
     "output_type": "stream",
     "text": [
      "Loss=0.061474:   1%|█▊                                                                                                                                                                           | 366/35001 [11:53<17:49:55,  1.85s/it]"
     ]
    },
    {
     "name": "stdout",
     "output_type": "stream",
     "text": [
      "Step 366\n",
      "create_roi_mask: mask.shape=torch.Size([6, 1, 320, 320, 2])\n",
      "create_roi_mask: mask.shape=torch.Size([6, 1, 320, 320, 2])\n"
     ]
    },
    {
     "name": "stderr",
     "output_type": "stream",
     "text": [
      "Loss=0.052815:   1%|█▊                                                                                                                                                                           | 367/35001 [11:55<17:53:29,  1.86s/it]"
     ]
    },
    {
     "name": "stdout",
     "output_type": "stream",
     "text": [
      "Step 367\n",
      "create_roi_mask: mask.shape=torch.Size([6, 1, 320, 320, 2])\n",
      "create_roi_mask: mask.shape=torch.Size([6, 1, 320, 320, 2])\n"
     ]
    },
    {
     "name": "stderr",
     "output_type": "stream",
     "text": [
      "Loss=0.054032:   1%|█▊                                                                                                                                                                           | 368/35001 [11:57<18:09:26,  1.89s/it]"
     ]
    },
    {
     "name": "stdout",
     "output_type": "stream",
     "text": [
      "Step 368\n",
      "create_roi_mask: mask.shape=torch.Size([6, 1, 320, 320, 2])\n",
      "create_roi_mask: mask.shape=torch.Size([6, 1, 320, 320, 2])\n"
     ]
    },
    {
     "name": "stderr",
     "output_type": "stream",
     "text": [
      "Loss=0.063265:   1%|█▊                                                                                                                                                                           | 369/35001 [11:59<18:02:01,  1.87s/it]"
     ]
    },
    {
     "name": "stdout",
     "output_type": "stream",
     "text": [
      "Step 369\n",
      "create_roi_mask: mask.shape=torch.Size([6, 1, 320, 320, 2])\n",
      "create_roi_mask: mask.shape=torch.Size([6, 1, 320, 320, 2])\n"
     ]
    },
    {
     "name": "stderr",
     "output_type": "stream",
     "text": [
      "Loss=0.064557:   1%|█▊                                                                                                                                                                           | 370/35001 [12:01<17:52:26,  1.86s/it]"
     ]
    },
    {
     "name": "stdout",
     "output_type": "stream",
     "text": [
      "Step 370\n",
      "create_roi_mask: mask.shape=torch.Size([6, 1, 320, 320, 2])\n",
      "create_roi_mask: mask.shape=torch.Size([6, 1, 320, 320, 2])\n"
     ]
    },
    {
     "name": "stderr",
     "output_type": "stream",
     "text": [
      "Loss=0.050410:   1%|█▊                                                                                                                                                                           | 371/35001 [12:03<17:57:45,  1.87s/it]"
     ]
    },
    {
     "name": "stdout",
     "output_type": "stream",
     "text": [
      "Step 371\n",
      "create_roi_mask: mask.shape=torch.Size([6, 1, 320, 320, 2])\n",
      "create_roi_mask: mask.shape=torch.Size([6, 1, 320, 320, 2])\n"
     ]
    },
    {
     "name": "stderr",
     "output_type": "stream",
     "text": [
      "Loss=0.066014:   1%|█▊                                                                                                                                                                           | 372/35001 [12:05<17:43:41,  1.84s/it]"
     ]
    },
    {
     "name": "stdout",
     "output_type": "stream",
     "text": [
      "Step 372\n",
      "create_roi_mask: mask.shape=torch.Size([6, 1, 320, 320, 2])\n",
      "create_roi_mask: mask.shape=torch.Size([6, 1, 320, 320, 2])\n"
     ]
    },
    {
     "name": "stderr",
     "output_type": "stream",
     "text": [
      "Loss=0.066815:   1%|█▊                                                                                                                                                                           | 373/35001 [12:06<17:39:50,  1.84s/it]"
     ]
    },
    {
     "name": "stdout",
     "output_type": "stream",
     "text": [
      "Step 373\n",
      "create_roi_mask: mask.shape=torch.Size([6, 1, 320, 320, 2])\n",
      "create_roi_mask: mask.shape=torch.Size([6, 1, 320, 320, 2])\n"
     ]
    },
    {
     "name": "stderr",
     "output_type": "stream",
     "text": [
      "Loss=0.056001:   1%|█▊                                                                                                                                                                           | 374/35001 [12:08<17:37:55,  1.83s/it]"
     ]
    },
    {
     "name": "stdout",
     "output_type": "stream",
     "text": [
      "Step 374\n",
      "create_roi_mask: mask.shape=torch.Size([6, 1, 320, 320, 2])\n",
      "create_roi_mask: mask.shape=torch.Size([6, 1, 320, 320, 2])\n"
     ]
    },
    {
     "name": "stderr",
     "output_type": "stream",
     "text": [
      "Loss=0.054566:   1%|█▊                                                                                                                                                                           | 375/35001 [12:10<17:36:18,  1.83s/it]"
     ]
    },
    {
     "name": "stdout",
     "output_type": "stream",
     "text": [
      "Step 375\n",
      "create_roi_mask: mask.shape=torch.Size([6, 1, 320, 320, 2])\n",
      "create_roi_mask: mask.shape=torch.Size([6, 1, 320, 320, 2])\n"
     ]
    },
    {
     "name": "stderr",
     "output_type": "stream",
     "text": [
      "Loss=0.050304:   1%|█▊                                                                                                                                                                           | 376/35001 [12:12<17:34:53,  1.83s/it]"
     ]
    },
    {
     "name": "stdout",
     "output_type": "stream",
     "text": [
      "Step 376\n",
      "create_roi_mask: mask.shape=torch.Size([6, 1, 320, 320, 2])\n",
      "create_roi_mask: mask.shape=torch.Size([6, 1, 320, 320, 2])\n"
     ]
    },
    {
     "name": "stderr",
     "output_type": "stream",
     "text": [
      "Loss=0.052200:   1%|█▊                                                                                                                                                                           | 377/35001 [12:14<17:46:45,  1.85s/it]"
     ]
    },
    {
     "name": "stdout",
     "output_type": "stream",
     "text": [
      "Step 377\n",
      "create_roi_mask: mask.shape=torch.Size([6, 1, 320, 320, 2])\n",
      "create_roi_mask: mask.shape=torch.Size([6, 1, 320, 320, 2])\n"
     ]
    },
    {
     "name": "stderr",
     "output_type": "stream",
     "text": [
      "Loss=0.059950:   1%|█▊                                                                                                                                                                           | 378/35001 [12:16<17:51:25,  1.86s/it]"
     ]
    },
    {
     "name": "stdout",
     "output_type": "stream",
     "text": [
      "Step 378\n",
      "create_roi_mask: mask.shape=torch.Size([6, 1, 320, 320, 2])\n",
      "create_roi_mask: mask.shape=torch.Size([6, 1, 320, 320, 2])\n"
     ]
    },
    {
     "name": "stderr",
     "output_type": "stream",
     "text": [
      "Loss=0.064189:   1%|█▊                                                                                                                                                                           | 379/35001 [12:18<17:46:02,  1.85s/it]"
     ]
    },
    {
     "name": "stdout",
     "output_type": "stream",
     "text": [
      "Step 379\n",
      "create_roi_mask: mask.shape=torch.Size([6, 1, 320, 320, 2])\n",
      "create_roi_mask: mask.shape=torch.Size([6, 1, 320, 320, 2])\n"
     ]
    },
    {
     "name": "stderr",
     "output_type": "stream",
     "text": [
      "Loss=0.056093:   1%|█▉                                                                                                                                                                           | 380/35001 [12:19<17:43:02,  1.84s/it]"
     ]
    },
    {
     "name": "stdout",
     "output_type": "stream",
     "text": [
      "Step 380\n",
      "create_roi_mask: mask.shape=torch.Size([6, 1, 320, 320, 2])\n",
      "create_roi_mask: mask.shape=torch.Size([6, 1, 320, 320, 2])\n"
     ]
    },
    {
     "name": "stderr",
     "output_type": "stream",
     "text": [
      "Loss=0.060101:   1%|█▉                                                                                                                                                                           | 381/35001 [12:21<17:48:48,  1.85s/it]"
     ]
    },
    {
     "name": "stdout",
     "output_type": "stream",
     "text": [
      "Step 381\n",
      "create_roi_mask: mask.shape=torch.Size([6, 1, 320, 320, 2])\n",
      "create_roi_mask: mask.shape=torch.Size([6, 1, 320, 320, 2])\n"
     ]
    },
    {
     "name": "stderr",
     "output_type": "stream",
     "text": [
      "Loss=0.056336:   1%|█▉                                                                                                                                                                           | 382/35001 [12:23<17:39:32,  1.84s/it]"
     ]
    },
    {
     "name": "stdout",
     "output_type": "stream",
     "text": [
      "Step 382\n",
      "create_roi_mask: mask.shape=torch.Size([6, 1, 320, 320, 2])\n",
      "create_roi_mask: mask.shape=torch.Size([6, 1, 320, 320, 2])\n"
     ]
    },
    {
     "name": "stderr",
     "output_type": "stream",
     "text": [
      "Loss=0.062150:   1%|█▉                                                                                                                                                                           | 383/35001 [12:25<17:50:23,  1.86s/it]"
     ]
    },
    {
     "name": "stdout",
     "output_type": "stream",
     "text": [
      "Step 383\n",
      "create_roi_mask: mask.shape=torch.Size([6, 1, 320, 320, 2])\n",
      "create_roi_mask: mask.shape=torch.Size([6, 1, 320, 320, 2])\n"
     ]
    },
    {
     "name": "stderr",
     "output_type": "stream",
     "text": [
      "Loss=0.053686:   1%|█▉                                                                                                                                                                           | 384/35001 [12:27<18:02:25,  1.88s/it]"
     ]
    },
    {
     "name": "stdout",
     "output_type": "stream",
     "text": [
      "Step 384\n",
      "create_roi_mask: mask.shape=torch.Size([6, 1, 320, 320, 2])\n",
      "create_roi_mask: mask.shape=torch.Size([6, 1, 320, 320, 2])\n"
     ]
    },
    {
     "name": "stderr",
     "output_type": "stream",
     "text": [
      "Loss=0.071039:   1%|█▉                                                                                                                                                                           | 385/35001 [12:29<18:12:44,  1.89s/it]"
     ]
    },
    {
     "name": "stdout",
     "output_type": "stream",
     "text": [
      "Step 385\n",
      "create_roi_mask: mask.shape=torch.Size([6, 1, 320, 320, 2])\n",
      "create_roi_mask: mask.shape=torch.Size([6, 1, 320, 320, 2])\n"
     ]
    },
    {
     "name": "stderr",
     "output_type": "stream",
     "text": [
      "Loss=0.041663:   1%|█▉                                                                                                                                                                           | 386/35001 [12:31<18:07:46,  1.89s/it]"
     ]
    },
    {
     "name": "stdout",
     "output_type": "stream",
     "text": [
      "Step 386\n",
      "create_roi_mask: mask.shape=torch.Size([6, 1, 320, 320, 2])\n",
      "create_roi_mask: mask.shape=torch.Size([6, 1, 320, 320, 2])\n"
     ]
    },
    {
     "name": "stderr",
     "output_type": "stream",
     "text": [
      "Loss=0.053582:   1%|█▉                                                                                                                                                                           | 387/35001 [12:32<18:02:53,  1.88s/it]"
     ]
    },
    {
     "name": "stdout",
     "output_type": "stream",
     "text": [
      "Step 387\n",
      "create_roi_mask: mask.shape=torch.Size([6, 1, 320, 320, 2])\n",
      "create_roi_mask: mask.shape=torch.Size([6, 1, 320, 320, 2])\n"
     ]
    },
    {
     "name": "stderr",
     "output_type": "stream",
     "text": [
      "Loss=0.054935:   1%|█▉                                                                                                                                                                           | 388/35001 [12:34<17:52:54,  1.86s/it]"
     ]
    },
    {
     "name": "stdout",
     "output_type": "stream",
     "text": [
      "Step 388\n",
      "create_roi_mask: mask.shape=torch.Size([6, 1, 320, 320, 2])\n",
      "create_roi_mask: mask.shape=torch.Size([6, 1, 320, 320, 2])\n"
     ]
    },
    {
     "name": "stderr",
     "output_type": "stream",
     "text": [
      "Loss=0.053662:   1%|█▉                                                                                                                                                                           | 389/35001 [12:36<17:53:50,  1.86s/it]"
     ]
    },
    {
     "name": "stdout",
     "output_type": "stream",
     "text": [
      "Step 389\n",
      "create_roi_mask: mask.shape=torch.Size([6, 1, 320, 320, 2])\n",
      "create_roi_mask: mask.shape=torch.Size([6, 1, 320, 320, 2])\n"
     ]
    },
    {
     "name": "stderr",
     "output_type": "stream",
     "text": [
      "Loss=0.064600:   1%|█▉                                                                                                                                                                           | 390/35001 [12:38<18:19:53,  1.91s/it]"
     ]
    },
    {
     "name": "stdout",
     "output_type": "stream",
     "text": [
      "Step 390\n",
      "create_roi_mask: mask.shape=torch.Size([6, 1, 320, 320, 2])\n",
      "create_roi_mask: mask.shape=torch.Size([6, 1, 320, 320, 2])\n"
     ]
    },
    {
     "name": "stderr",
     "output_type": "stream",
     "text": [
      "Loss=0.058621:   1%|█▉                                                                                                                                                                           | 391/35001 [12:40<18:14:13,  1.90s/it]"
     ]
    },
    {
     "name": "stdout",
     "output_type": "stream",
     "text": [
      "Step 391\n",
      "create_roi_mask: mask.shape=torch.Size([6, 1, 320, 320, 2])\n",
      "create_roi_mask: mask.shape=torch.Size([6, 1, 320, 320, 2])\n"
     ]
    },
    {
     "name": "stderr",
     "output_type": "stream",
     "text": [
      "Loss=0.062240:   1%|█▉                                                                                                                                                                           | 392/35001 [12:42<17:59:27,  1.87s/it]"
     ]
    },
    {
     "name": "stdout",
     "output_type": "stream",
     "text": [
      "Step 392\n",
      "create_roi_mask: mask.shape=torch.Size([6, 1, 320, 320, 2])\n",
      "create_roi_mask: mask.shape=torch.Size([6, 1, 320, 320, 2])\n"
     ]
    },
    {
     "name": "stderr",
     "output_type": "stream",
     "text": [
      "Loss=0.054594:   1%|█▉                                                                                                                                                                           | 393/35001 [12:44<17:51:14,  1.86s/it]"
     ]
    },
    {
     "name": "stdout",
     "output_type": "stream",
     "text": [
      "Step 393\n",
      "create_roi_mask: mask.shape=torch.Size([6, 1, 320, 320, 2])\n",
      "create_roi_mask: mask.shape=torch.Size([6, 1, 320, 320, 2])\n"
     ]
    },
    {
     "name": "stderr",
     "output_type": "stream",
     "text": [
      "Loss=0.058913:   1%|█▉                                                                                                                                                                           | 394/35001 [12:46<17:47:56,  1.85s/it]"
     ]
    },
    {
     "name": "stdout",
     "output_type": "stream",
     "text": [
      "Step 394\n",
      "create_roi_mask: mask.shape=torch.Size([6, 1, 320, 320, 2])\n",
      "create_roi_mask: mask.shape=torch.Size([6, 1, 320, 320, 2])\n"
     ]
    },
    {
     "name": "stderr",
     "output_type": "stream",
     "text": [
      "Loss=0.054834:   1%|█▉                                                                                                                                                                           | 395/35001 [12:47<18:01:53,  1.88s/it]"
     ]
    },
    {
     "name": "stdout",
     "output_type": "stream",
     "text": [
      "Step 395\n",
      "create_roi_mask: mask.shape=torch.Size([6, 1, 320, 320, 2])\n",
      "create_roi_mask: mask.shape=torch.Size([6, 1, 320, 320, 2])\n"
     ]
    },
    {
     "name": "stderr",
     "output_type": "stream",
     "text": [
      "Loss=0.056510:   1%|█▉                                                                                                                                                                           | 396/35001 [12:49<17:51:37,  1.86s/it]"
     ]
    },
    {
     "name": "stdout",
     "output_type": "stream",
     "text": [
      "Step 396\n",
      "create_roi_mask: mask.shape=torch.Size([6, 1, 320, 320, 2])\n",
      "create_roi_mask: mask.shape=torch.Size([6, 1, 320, 320, 2])\n"
     ]
    },
    {
     "name": "stderr",
     "output_type": "stream",
     "text": [
      "Loss=0.046404:   1%|█▉                                                                                                                                                                           | 397/35001 [12:51<17:47:08,  1.85s/it]"
     ]
    },
    {
     "name": "stdout",
     "output_type": "stream",
     "text": [
      "Step 397\n",
      "create_roi_mask: mask.shape=torch.Size([6, 1, 320, 320, 2])\n",
      "create_roi_mask: mask.shape=torch.Size([6, 1, 320, 320, 2])\n"
     ]
    },
    {
     "name": "stderr",
     "output_type": "stream",
     "text": [
      "Loss=0.067525:   1%|█▉                                                                                                                                                                           | 398/35001 [12:53<18:05:02,  1.88s/it]"
     ]
    },
    {
     "name": "stdout",
     "output_type": "stream",
     "text": [
      "Step 398\n",
      "create_roi_mask: mask.shape=torch.Size([6, 1, 320, 320, 2])\n",
      "create_roi_mask: mask.shape=torch.Size([6, 1, 320, 320, 2])\n"
     ]
    },
    {
     "name": "stderr",
     "output_type": "stream",
     "text": [
      "Loss=0.054713:   1%|█▉                                                                                                                                                                           | 399/35001 [12:55<17:55:57,  1.87s/it]"
     ]
    },
    {
     "name": "stdout",
     "output_type": "stream",
     "text": [
      "Step 399\n",
      "create_roi_mask: mask.shape=torch.Size([6, 1, 320, 320, 2])\n",
      "create_roi_mask: mask.shape=torch.Size([6, 1, 320, 320, 2])\n"
     ]
    },
    {
     "name": "stderr",
     "output_type": "stream",
     "text": [
      "Loss=0.057061:   1%|█▉                                                                                                                                                                           | 400/35001 [12:57<17:48:35,  1.85s/it]"
     ]
    },
    {
     "name": "stdout",
     "output_type": "stream",
     "text": [
      "Step 400\n",
      "create_roi_mask: mask.shape=torch.Size([6, 1, 320, 320, 2])\n",
      "create_roi_mask: mask.shape=torch.Size([6, 1, 320, 320, 2])\n"
     ]
    },
    {
     "name": "stderr",
     "output_type": "stream",
     "text": [
      "Loss=0.066129:   1%|█▉                                                                                                                                                                           | 400/35001 [12:59<17:48:35,  1.85s/it]"
     ]
    },
    {
     "name": "stdout",
     "output_type": "stream",
     "text": [
      "Mean LOSS of last 400: 0.06025836763171414\n"
     ]
    },
    {
     "name": "stderr",
     "output_type": "stream",
     "text": [
      "Loss=0.066129:   1%|█▉                                                                                                                                                                           | 401/35001 [13:00<21:33:11,  2.24s/it]"
     ]
    },
    {
     "name": "stdout",
     "output_type": "stream",
     "text": [
      "Step 401\n",
      "create_roi_mask: mask.shape=torch.Size([6, 1, 320, 320, 2])\n",
      "create_roi_mask: mask.shape=torch.Size([6, 1, 320, 320, 2])\n"
     ]
    },
    {
     "name": "stderr",
     "output_type": "stream",
     "text": [
      "Loss=0.051986:   1%|█▉                                                                                                                                                                           | 402/35001 [13:02<20:16:47,  2.11s/it]"
     ]
    },
    {
     "name": "stdout",
     "output_type": "stream",
     "text": [
      "Step 402\n",
      "create_roi_mask: mask.shape=torch.Size([6, 1, 320, 320, 2])\n",
      "create_roi_mask: mask.shape=torch.Size([6, 1, 320, 320, 2])\n"
     ]
    },
    {
     "name": "stderr",
     "output_type": "stream",
     "text": [
      "Loss=0.057865:   1%|█▉                                                                                                                                                                           | 403/35001 [13:04<19:40:15,  2.05s/it]"
     ]
    },
    {
     "name": "stdout",
     "output_type": "stream",
     "text": [
      "Step 403\n",
      "create_roi_mask: mask.shape=torch.Size([6, 1, 320, 320, 2])\n",
      "create_roi_mask: mask.shape=torch.Size([6, 1, 320, 320, 2])\n"
     ]
    },
    {
     "name": "stderr",
     "output_type": "stream",
     "text": [
      "Loss=0.050314:   1%|█▉                                                                                                                                                                           | 404/35001 [13:05<19:02:06,  1.98s/it]"
     ]
    },
    {
     "name": "stdout",
     "output_type": "stream",
     "text": [
      "Step 404\n",
      "create_roi_mask: mask.shape=torch.Size([6, 1, 320, 320, 2])\n",
      "create_roi_mask: mask.shape=torch.Size([6, 1, 320, 320, 2])\n"
     ]
    },
    {
     "name": "stderr",
     "output_type": "stream",
     "text": [
      "Loss=0.053253:   1%|██                                                                                                                                                                           | 405/35001 [13:07<18:34:44,  1.93s/it]"
     ]
    },
    {
     "name": "stdout",
     "output_type": "stream",
     "text": [
      "Step 405\n",
      "create_roi_mask: mask.shape=torch.Size([6, 1, 320, 320, 2])\n",
      "create_roi_mask: mask.shape=torch.Size([6, 1, 320, 320, 2])\n"
     ]
    },
    {
     "name": "stderr",
     "output_type": "stream",
     "text": [
      "Loss=0.073327:   1%|██                                                                                                                                                                           | 406/35001 [13:09<18:20:42,  1.91s/it]"
     ]
    },
    {
     "name": "stdout",
     "output_type": "stream",
     "text": [
      "Step 406\n",
      "create_roi_mask: mask.shape=torch.Size([6, 1, 320, 320, 2])\n",
      "create_roi_mask: mask.shape=torch.Size([6, 1, 320, 320, 2])\n"
     ]
    },
    {
     "name": "stderr",
     "output_type": "stream",
     "text": [
      "Loss=0.061306:   1%|██                                                                                                                                                                           | 407/35001 [13:11<18:05:25,  1.88s/it]"
     ]
    },
    {
     "name": "stdout",
     "output_type": "stream",
     "text": [
      "Step 407\n",
      "create_roi_mask: mask.shape=torch.Size([6, 1, 320, 320, 2])\n",
      "create_roi_mask: mask.shape=torch.Size([6, 1, 320, 320, 2])\n"
     ]
    },
    {
     "name": "stderr",
     "output_type": "stream",
     "text": [
      "Loss=0.063908:   1%|██                                                                                                                                                                           | 408/35001 [13:13<18:02:32,  1.88s/it]"
     ]
    },
    {
     "name": "stdout",
     "output_type": "stream",
     "text": [
      "Step 408\n",
      "create_roi_mask: mask.shape=torch.Size([6, 1, 320, 320, 2])\n",
      "create_roi_mask: mask.shape=torch.Size([6, 1, 320, 320, 2])\n"
     ]
    },
    {
     "name": "stderr",
     "output_type": "stream",
     "text": [
      "Loss=0.055650:   1%|██                                                                                                                                                                           | 409/35001 [13:15<17:56:45,  1.87s/it]"
     ]
    },
    {
     "name": "stdout",
     "output_type": "stream",
     "text": [
      "Step 409\n",
      "create_roi_mask: mask.shape=torch.Size([6, 1, 320, 320, 2])\n",
      "create_roi_mask: mask.shape=torch.Size([6, 1, 320, 320, 2])\n"
     ]
    },
    {
     "name": "stderr",
     "output_type": "stream",
     "text": [
      "Loss=0.056319:   1%|██                                                                                                                                                                           | 410/35001 [13:16<17:57:29,  1.87s/it]"
     ]
    },
    {
     "name": "stdout",
     "output_type": "stream",
     "text": [
      "Step 410\n",
      "create_roi_mask: mask.shape=torch.Size([6, 1, 320, 320, 2])\n",
      "create_roi_mask: mask.shape=torch.Size([6, 1, 320, 320, 2])\n"
     ]
    },
    {
     "name": "stderr",
     "output_type": "stream",
     "text": [
      "Loss=0.066666:   1%|██                                                                                                                                                                           | 411/35001 [13:18<18:08:20,  1.89s/it]"
     ]
    },
    {
     "name": "stdout",
     "output_type": "stream",
     "text": [
      "Step 411\n",
      "create_roi_mask: mask.shape=torch.Size([6, 1, 320, 320, 2])\n",
      "create_roi_mask: mask.shape=torch.Size([6, 1, 320, 320, 2])\n"
     ]
    },
    {
     "name": "stderr",
     "output_type": "stream",
     "text": [
      "Loss=0.056083:   1%|██                                                                                                                                                                           | 412/35001 [13:20<17:56:42,  1.87s/it]"
     ]
    },
    {
     "name": "stdout",
     "output_type": "stream",
     "text": [
      "Step 412\n",
      "create_roi_mask: mask.shape=torch.Size([6, 1, 320, 320, 2])\n",
      "create_roi_mask: mask.shape=torch.Size([6, 1, 320, 320, 2])\n"
     ]
    },
    {
     "name": "stderr",
     "output_type": "stream",
     "text": [
      "Loss=0.058167:   1%|██                                                                                                                                                                           | 413/35001 [13:22<17:49:41,  1.86s/it]"
     ]
    },
    {
     "name": "stdout",
     "output_type": "stream",
     "text": [
      "Step 413\n",
      "create_roi_mask: mask.shape=torch.Size([6, 1, 320, 320, 2])\n",
      "create_roi_mask: mask.shape=torch.Size([6, 1, 320, 320, 2])\n"
     ]
    },
    {
     "name": "stderr",
     "output_type": "stream",
     "text": [
      "Loss=0.072734:   1%|██                                                                                                                                                                           | 414/35001 [13:24<17:45:04,  1.85s/it]"
     ]
    },
    {
     "name": "stdout",
     "output_type": "stream",
     "text": [
      "Step 414\n",
      "create_roi_mask: mask.shape=torch.Size([6, 1, 320, 320, 2])\n",
      "create_roi_mask: mask.shape=torch.Size([6, 1, 320, 320, 2])\n"
     ]
    },
    {
     "name": "stderr",
     "output_type": "stream",
     "text": [
      "Loss=0.055402:   1%|██                                                                                                                                                                           | 415/35001 [13:26<17:51:06,  1.86s/it]"
     ]
    },
    {
     "name": "stdout",
     "output_type": "stream",
     "text": [
      "Step 415\n",
      "create_roi_mask: mask.shape=torch.Size([6, 1, 320, 320, 2])\n",
      "create_roi_mask: mask.shape=torch.Size([6, 1, 320, 320, 2])\n"
     ]
    },
    {
     "name": "stderr",
     "output_type": "stream",
     "text": [
      "Loss=0.066303:   1%|██                                                                                                                                                                           | 416/35001 [13:28<17:47:20,  1.85s/it]"
     ]
    },
    {
     "name": "stdout",
     "output_type": "stream",
     "text": [
      "Step 416\n",
      "create_roi_mask: mask.shape=torch.Size([6, 1, 320, 320, 2])\n",
      "create_roi_mask: mask.shape=torch.Size([6, 1, 320, 320, 2])\n"
     ]
    },
    {
     "name": "stderr",
     "output_type": "stream",
     "text": [
      "Loss=0.050674:   1%|██                                                                                                                                                                           | 417/35001 [13:29<17:42:03,  1.84s/it]"
     ]
    },
    {
     "name": "stdout",
     "output_type": "stream",
     "text": [
      "Step 417\n",
      "create_roi_mask: mask.shape=torch.Size([6, 1, 320, 320, 2])\n",
      "create_roi_mask: mask.shape=torch.Size([6, 1, 320, 320, 2])\n"
     ]
    },
    {
     "name": "stderr",
     "output_type": "stream",
     "text": [
      "Loss=0.049160:   1%|██                                                                                                                                                                           | 418/35001 [13:31<17:50:33,  1.86s/it]"
     ]
    },
    {
     "name": "stdout",
     "output_type": "stream",
     "text": [
      "Step 418\n",
      "create_roi_mask: mask.shape=torch.Size([6, 1, 320, 320, 2])\n",
      "create_roi_mask: mask.shape=torch.Size([6, 1, 320, 320, 2])\n"
     ]
    },
    {
     "name": "stderr",
     "output_type": "stream",
     "text": [
      "Loss=0.056895:   1%|██                                                                                                                                                                           | 419/35001 [13:33<17:44:12,  1.85s/it]"
     ]
    },
    {
     "name": "stdout",
     "output_type": "stream",
     "text": [
      "Step 419\n",
      "create_roi_mask: mask.shape=torch.Size([6, 1, 320, 320, 2])\n",
      "create_roi_mask: mask.shape=torch.Size([6, 1, 320, 320, 2])\n"
     ]
    },
    {
     "name": "stderr",
     "output_type": "stream",
     "text": [
      "Loss=0.061615:   1%|██                                                                                                                                                                           | 420/35001 [13:35<17:41:55,  1.84s/it]"
     ]
    },
    {
     "name": "stdout",
     "output_type": "stream",
     "text": [
      "Step 420\n",
      "create_roi_mask: mask.shape=torch.Size([6, 1, 320, 320, 2])\n",
      "create_roi_mask: mask.shape=torch.Size([6, 1, 320, 320, 2])\n"
     ]
    },
    {
     "name": "stderr",
     "output_type": "stream",
     "text": [
      "Loss=0.073126:   1%|██                                                                                                                                                                           | 421/35001 [13:37<17:46:22,  1.85s/it]"
     ]
    },
    {
     "name": "stdout",
     "output_type": "stream",
     "text": [
      "Step 421\n",
      "create_roi_mask: mask.shape=torch.Size([6, 1, 320, 320, 2])\n",
      "create_roi_mask: mask.shape=torch.Size([6, 1, 320, 320, 2])\n"
     ]
    },
    {
     "name": "stderr",
     "output_type": "stream",
     "text": [
      "Loss=0.056185:   1%|██                                                                                                                                                                           | 422/35001 [13:39<18:33:09,  1.93s/it]"
     ]
    },
    {
     "name": "stdout",
     "output_type": "stream",
     "text": [
      "Step 422\n",
      "create_roi_mask: mask.shape=torch.Size([6, 1, 320, 320, 2])\n",
      "create_roi_mask: mask.shape=torch.Size([6, 1, 320, 320, 2])\n"
     ]
    },
    {
     "name": "stderr",
     "output_type": "stream",
     "text": [
      "Loss=0.068720:   1%|██                                                                                                                                                                           | 423/35001 [13:41<18:26:40,  1.92s/it]"
     ]
    },
    {
     "name": "stdout",
     "output_type": "stream",
     "text": [
      "Step 423\n",
      "create_roi_mask: mask.shape=torch.Size([6, 1, 320, 320, 2])\n",
      "create_roi_mask: mask.shape=torch.Size([6, 1, 320, 320, 2])\n"
     ]
    },
    {
     "name": "stderr",
     "output_type": "stream",
     "text": [
      "Loss=0.056058:   1%|██                                                                                                                                                                           | 424/35001 [13:43<18:18:28,  1.91s/it]"
     ]
    },
    {
     "name": "stdout",
     "output_type": "stream",
     "text": [
      "Step 424\n",
      "create_roi_mask: mask.shape=torch.Size([6, 1, 320, 320, 2])\n",
      "create_roi_mask: mask.shape=torch.Size([6, 1, 320, 320, 2])\n"
     ]
    },
    {
     "name": "stderr",
     "output_type": "stream",
     "text": [
      "Loss=0.072710:   1%|██                                                                                                                                                                           | 425/35001 [13:45<18:19:23,  1.91s/it]"
     ]
    },
    {
     "name": "stdout",
     "output_type": "stream",
     "text": [
      "Step 425\n",
      "create_roi_mask: mask.shape=torch.Size([6, 1, 320, 320, 2])\n",
      "create_roi_mask: mask.shape=torch.Size([6, 1, 320, 320, 2])\n"
     ]
    },
    {
     "name": "stderr",
     "output_type": "stream",
     "text": [
      "Loss=0.060048:   1%|██                                                                                                                                                                           | 426/35001 [13:47<18:29:14,  1.92s/it]"
     ]
    },
    {
     "name": "stdout",
     "output_type": "stream",
     "text": [
      "Step 426\n",
      "create_roi_mask: mask.shape=torch.Size([6, 1, 320, 320, 2])\n",
      "create_roi_mask: mask.shape=torch.Size([6, 1, 320, 320, 2])\n"
     ]
    },
    {
     "name": "stderr",
     "output_type": "stream",
     "text": [
      "Loss=0.056449:   1%|██                                                                                                                                                                           | 427/35001 [13:48<18:09:39,  1.89s/it]"
     ]
    },
    {
     "name": "stdout",
     "output_type": "stream",
     "text": [
      "Step 427\n",
      "create_roi_mask: mask.shape=torch.Size([6, 1, 320, 320, 2])\n",
      "create_roi_mask: mask.shape=torch.Size([6, 1, 320, 320, 2])\n"
     ]
    },
    {
     "name": "stderr",
     "output_type": "stream",
     "text": [
      "Loss=0.052679:   1%|██                                                                                                                                                                           | 428/35001 [13:50<17:55:17,  1.87s/it]"
     ]
    },
    {
     "name": "stdout",
     "output_type": "stream",
     "text": [
      "Step 428\n",
      "create_roi_mask: mask.shape=torch.Size([6, 1, 320, 320, 2])\n",
      "create_roi_mask: mask.shape=torch.Size([6, 1, 320, 320, 2])\n"
     ]
    },
    {
     "name": "stderr",
     "output_type": "stream",
     "text": [
      "Loss=0.059870:   1%|██                                                                                                                                                                           | 429/35001 [13:52<17:51:10,  1.86s/it]"
     ]
    },
    {
     "name": "stdout",
     "output_type": "stream",
     "text": [
      "Step 429\n",
      "create_roi_mask: mask.shape=torch.Size([6, 1, 320, 320, 2])\n",
      "create_roi_mask: mask.shape=torch.Size([6, 1, 320, 320, 2])\n"
     ]
    },
    {
     "name": "stderr",
     "output_type": "stream",
     "text": [
      "Loss=0.066125:   1%|██▏                                                                                                                                                                          | 430/35001 [13:54<17:45:00,  1.85s/it]"
     ]
    },
    {
     "name": "stdout",
     "output_type": "stream",
     "text": [
      "Step 430\n",
      "create_roi_mask: mask.shape=torch.Size([6, 1, 320, 320, 2])\n",
      "create_roi_mask: mask.shape=torch.Size([6, 1, 320, 320, 2])\n"
     ]
    },
    {
     "name": "stderr",
     "output_type": "stream",
     "text": [
      "Loss=0.052515:   1%|██▏                                                                                                                                                                          | 431/35001 [13:56<17:49:00,  1.86s/it]"
     ]
    },
    {
     "name": "stdout",
     "output_type": "stream",
     "text": [
      "Step 431\n",
      "create_roi_mask: mask.shape=torch.Size([6, 1, 320, 320, 2])\n",
      "create_roi_mask: mask.shape=torch.Size([6, 1, 320, 320, 2])\n"
     ]
    },
    {
     "name": "stderr",
     "output_type": "stream",
     "text": [
      "Loss=0.066934:   1%|██▏                                                                                                                                                                          | 432/35001 [13:58<17:56:40,  1.87s/it]"
     ]
    },
    {
     "name": "stdout",
     "output_type": "stream",
     "text": [
      "Step 432\n",
      "create_roi_mask: mask.shape=torch.Size([6, 1, 320, 320, 2])\n",
      "create_roi_mask: mask.shape=torch.Size([6, 1, 320, 320, 2])\n"
     ]
    },
    {
     "name": "stderr",
     "output_type": "stream",
     "text": [
      "Loss=0.056702:   1%|██▏                                                                                                                                                                          | 433/35001 [14:00<18:10:34,  1.89s/it]"
     ]
    },
    {
     "name": "stdout",
     "output_type": "stream",
     "text": [
      "Step 433\n",
      "create_roi_mask: mask.shape=torch.Size([6, 1, 320, 320, 2])\n",
      "create_roi_mask: mask.shape=torch.Size([6, 1, 320, 320, 2])\n"
     ]
    },
    {
     "name": "stderr",
     "output_type": "stream",
     "text": [
      "Loss=0.067154:   1%|██▏                                                                                                                                                                          | 434/35001 [14:01<18:06:35,  1.89s/it]"
     ]
    },
    {
     "name": "stdout",
     "output_type": "stream",
     "text": [
      "Step 434\n",
      "create_roi_mask: mask.shape=torch.Size([6, 1, 320, 320, 2])\n",
      "create_roi_mask: mask.shape=torch.Size([6, 1, 320, 320, 2])\n"
     ]
    },
    {
     "name": "stderr",
     "output_type": "stream",
     "text": [
      "Loss=0.070587:   1%|██▏                                                                                                                                                                          | 435/35001 [14:03<17:55:18,  1.87s/it]"
     ]
    },
    {
     "name": "stdout",
     "output_type": "stream",
     "text": [
      "Step 435\n",
      "create_roi_mask: mask.shape=torch.Size([6, 1, 320, 320, 2])\n",
      "create_roi_mask: mask.shape=torch.Size([6, 1, 320, 320, 2])\n"
     ]
    },
    {
     "name": "stderr",
     "output_type": "stream",
     "text": [
      "Loss=0.054973:   1%|██▏                                                                                                                                                                          | 436/35001 [14:05<17:47:41,  1.85s/it]"
     ]
    },
    {
     "name": "stdout",
     "output_type": "stream",
     "text": [
      "Step 436\n",
      "create_roi_mask: mask.shape=torch.Size([6, 1, 320, 320, 2])\n",
      "create_roi_mask: mask.shape=torch.Size([6, 1, 320, 320, 2])\n"
     ]
    },
    {
     "name": "stderr",
     "output_type": "stream",
     "text": [
      "Loss=0.074527:   1%|██▏                                                                                                                                                                          | 437/35001 [14:07<17:42:16,  1.84s/it]"
     ]
    },
    {
     "name": "stdout",
     "output_type": "stream",
     "text": [
      "Step 437\n",
      "create_roi_mask: mask.shape=torch.Size([6, 1, 320, 320, 2])\n",
      "create_roi_mask: mask.shape=torch.Size([6, 1, 320, 320, 2])\n"
     ]
    },
    {
     "name": "stderr",
     "output_type": "stream",
     "text": [
      "Loss=0.051669:   1%|██▏                                                                                                                                                                          | 438/35001 [14:09<17:39:31,  1.84s/it]"
     ]
    },
    {
     "name": "stdout",
     "output_type": "stream",
     "text": [
      "Step 438\n",
      "create_roi_mask: mask.shape=torch.Size([6, 1, 320, 320, 2])\n",
      "create_roi_mask: mask.shape=torch.Size([6, 1, 320, 320, 2])\n"
     ]
    },
    {
     "name": "stderr",
     "output_type": "stream",
     "text": [
      "Loss=0.060674:   1%|██▏                                                                                                                                                                          | 439/35001 [14:11<17:36:17,  1.83s/it]"
     ]
    },
    {
     "name": "stdout",
     "output_type": "stream",
     "text": [
      "Step 439\n",
      "create_roi_mask: mask.shape=torch.Size([6, 1, 320, 320, 2])\n",
      "create_roi_mask: mask.shape=torch.Size([6, 1, 320, 320, 2])\n"
     ]
    },
    {
     "name": "stderr",
     "output_type": "stream",
     "text": [
      "Loss=0.051094:   1%|██▏                                                                                                                                                                          | 440/35001 [14:12<17:34:11,  1.83s/it]"
     ]
    },
    {
     "name": "stdout",
     "output_type": "stream",
     "text": [
      "Step 440\n",
      "create_roi_mask: mask.shape=torch.Size([6, 1, 320, 320, 2])\n",
      "create_roi_mask: mask.shape=torch.Size([6, 1, 320, 320, 2])\n"
     ]
    },
    {
     "name": "stderr",
     "output_type": "stream",
     "text": [
      "Loss=0.057866:   1%|██▏                                                                                                                                                                          | 441/35001 [14:14<17:40:26,  1.84s/it]"
     ]
    },
    {
     "name": "stdout",
     "output_type": "stream",
     "text": [
      "Step 441\n",
      "create_roi_mask: mask.shape=torch.Size([6, 1, 320, 320, 2])\n",
      "create_roi_mask: mask.shape=torch.Size([6, 1, 320, 320, 2])\n"
     ]
    },
    {
     "name": "stderr",
     "output_type": "stream",
     "text": [
      "Loss=0.062232:   1%|██▏                                                                                                                                                                          | 442/35001 [14:16<17:38:18,  1.84s/it]"
     ]
    },
    {
     "name": "stdout",
     "output_type": "stream",
     "text": [
      "Step 442\n",
      "create_roi_mask: mask.shape=torch.Size([6, 1, 320, 320, 2])\n",
      "create_roi_mask: mask.shape=torch.Size([6, 1, 320, 320, 2])\n"
     ]
    },
    {
     "name": "stderr",
     "output_type": "stream",
     "text": [
      "Loss=0.050534:   1%|██▏                                                                                                                                                                          | 443/35001 [14:18<17:36:11,  1.83s/it]"
     ]
    },
    {
     "name": "stdout",
     "output_type": "stream",
     "text": [
      "Step 443\n",
      "create_roi_mask: mask.shape=torch.Size([6, 1, 320, 320, 2])\n",
      "create_roi_mask: mask.shape=torch.Size([6, 1, 320, 320, 2])\n"
     ]
    },
    {
     "name": "stderr",
     "output_type": "stream",
     "text": [
      "Loss=0.058785:   1%|██▏                                                                                                                                                                          | 444/35001 [14:20<17:53:56,  1.86s/it]"
     ]
    },
    {
     "name": "stdout",
     "output_type": "stream",
     "text": [
      "Step 444\n",
      "create_roi_mask: mask.shape=torch.Size([6, 1, 320, 320, 2])\n",
      "create_roi_mask: mask.shape=torch.Size([6, 1, 320, 320, 2])\n"
     ]
    },
    {
     "name": "stderr",
     "output_type": "stream",
     "text": [
      "Loss=0.055288:   1%|██▏                                                                                                                                                                          | 445/35001 [14:22<17:47:08,  1.85s/it]"
     ]
    },
    {
     "name": "stdout",
     "output_type": "stream",
     "text": [
      "Step 445\n",
      "create_roi_mask: mask.shape=torch.Size([6, 1, 320, 320, 2])\n",
      "create_roi_mask: mask.shape=torch.Size([6, 1, 320, 320, 2])\n"
     ]
    },
    {
     "name": "stderr",
     "output_type": "stream",
     "text": [
      "Loss=0.058393:   1%|██▏                                                                                                                                                                          | 446/35001 [14:24<17:51:58,  1.86s/it]"
     ]
    },
    {
     "name": "stdout",
     "output_type": "stream",
     "text": [
      "Step 446\n",
      "create_roi_mask: mask.shape=torch.Size([6, 1, 320, 320, 2])\n",
      "create_roi_mask: mask.shape=torch.Size([6, 1, 320, 320, 2])\n"
     ]
    },
    {
     "name": "stderr",
     "output_type": "stream",
     "text": [
      "Loss=0.057377:   1%|██▏                                                                                                                                                                          | 447/35001 [14:25<17:43:32,  1.85s/it]"
     ]
    },
    {
     "name": "stdout",
     "output_type": "stream",
     "text": [
      "Step 447\n",
      "create_roi_mask: mask.shape=torch.Size([6, 1, 320, 320, 2])\n",
      "create_roi_mask: mask.shape=torch.Size([6, 1, 320, 320, 2])\n"
     ]
    },
    {
     "name": "stderr",
     "output_type": "stream",
     "text": [
      "Loss=0.050007:   1%|██▏                                                                                                                                                                          | 448/35001 [14:27<18:00:49,  1.88s/it]"
     ]
    },
    {
     "name": "stdout",
     "output_type": "stream",
     "text": [
      "Step 448\n",
      "create_roi_mask: mask.shape=torch.Size([6, 1, 320, 320, 2])\n",
      "create_roi_mask: mask.shape=torch.Size([6, 1, 320, 320, 2])\n"
     ]
    },
    {
     "name": "stderr",
     "output_type": "stream",
     "text": [
      "Loss=0.054783:   1%|██▏                                                                                                                                                                          | 449/35001 [14:29<17:51:22,  1.86s/it]"
     ]
    },
    {
     "name": "stdout",
     "output_type": "stream",
     "text": [
      "Step 449\n",
      "create_roi_mask: mask.shape=torch.Size([6, 1, 320, 320, 2])\n",
      "create_roi_mask: mask.shape=torch.Size([6, 1, 320, 320, 2])\n"
     ]
    },
    {
     "name": "stderr",
     "output_type": "stream",
     "text": [
      "Loss=0.054193:   1%|██▏                                                                                                                                                                          | 450/35001 [14:31<17:44:01,  1.85s/it]"
     ]
    },
    {
     "name": "stdout",
     "output_type": "stream",
     "text": [
      "Step 450\n",
      "create_roi_mask: mask.shape=torch.Size([6, 1, 320, 320, 2])\n",
      "create_roi_mask: mask.shape=torch.Size([6, 1, 320, 320, 2])\n"
     ]
    },
    {
     "name": "stderr",
     "output_type": "stream",
     "text": [
      "Loss=0.057744:   1%|██▏                                                                                                                                                                          | 451/35001 [14:33<17:47:47,  1.85s/it]"
     ]
    },
    {
     "name": "stdout",
     "output_type": "stream",
     "text": [
      "Step 451\n",
      "create_roi_mask: mask.shape=torch.Size([6, 1, 320, 320, 2])\n",
      "create_roi_mask: mask.shape=torch.Size([6, 1, 320, 320, 2])\n"
     ]
    },
    {
     "name": "stderr",
     "output_type": "stream",
     "text": [
      "Loss=0.063656:   1%|██▏                                                                                                                                                                          | 452/35001 [14:35<17:35:38,  1.83s/it]"
     ]
    },
    {
     "name": "stdout",
     "output_type": "stream",
     "text": [
      "Step 452\n",
      "create_roi_mask: mask.shape=torch.Size([6, 1, 320, 320, 2])\n",
      "create_roi_mask: mask.shape=torch.Size([6, 1, 320, 320, 2])\n"
     ]
    },
    {
     "name": "stderr",
     "output_type": "stream",
     "text": [
      "Loss=0.056610:   1%|██▏                                                                                                                                                                          | 453/35001 [14:37<17:42:33,  1.85s/it]"
     ]
    },
    {
     "name": "stdout",
     "output_type": "stream",
     "text": [
      "Step 453\n",
      "create_roi_mask: mask.shape=torch.Size([6, 1, 320, 320, 2])\n",
      "create_roi_mask: mask.shape=torch.Size([6, 1, 320, 320, 2])\n"
     ]
    },
    {
     "name": "stderr",
     "output_type": "stream",
     "text": [
      "Loss=0.072471:   1%|██▏                                                                                                                                                                          | 454/35001 [14:38<17:46:20,  1.85s/it]"
     ]
    },
    {
     "name": "stdout",
     "output_type": "stream",
     "text": [
      "Step 454\n",
      "create_roi_mask: mask.shape=torch.Size([6, 1, 320, 320, 2])\n",
      "create_roi_mask: mask.shape=torch.Size([6, 1, 320, 320, 2])\n"
     ]
    },
    {
     "name": "stderr",
     "output_type": "stream",
     "text": [
      "Loss=0.069146:   1%|██▏                                                                                                                                                                          | 455/35001 [14:40<17:41:02,  1.84s/it]"
     ]
    },
    {
     "name": "stdout",
     "output_type": "stream",
     "text": [
      "Step 455\n",
      "create_roi_mask: mask.shape=torch.Size([6, 1, 320, 320, 2])\n",
      "create_roi_mask: mask.shape=torch.Size([6, 1, 320, 320, 2])\n"
     ]
    },
    {
     "name": "stderr",
     "output_type": "stream",
     "text": [
      "Loss=0.047175:   1%|██▎                                                                                                                                                                          | 456/35001 [14:42<17:36:55,  1.84s/it]"
     ]
    },
    {
     "name": "stdout",
     "output_type": "stream",
     "text": [
      "Step 456\n",
      "create_roi_mask: mask.shape=torch.Size([6, 1, 320, 320, 2])\n",
      "create_roi_mask: mask.shape=torch.Size([6, 1, 320, 320, 2])\n"
     ]
    },
    {
     "name": "stderr",
     "output_type": "stream",
     "text": [
      "Loss=0.062990:   1%|██▎                                                                                                                                                                          | 457/35001 [14:44<17:34:43,  1.83s/it]"
     ]
    },
    {
     "name": "stdout",
     "output_type": "stream",
     "text": [
      "Step 457\n",
      "create_roi_mask: mask.shape=torch.Size([6, 1, 320, 320, 2])\n",
      "create_roi_mask: mask.shape=torch.Size([6, 1, 320, 320, 2])\n"
     ]
    },
    {
     "name": "stderr",
     "output_type": "stream",
     "text": [
      "Loss=0.064322:   1%|██▎                                                                                                                                                                          | 458/35001 [14:46<17:31:48,  1.83s/it]"
     ]
    },
    {
     "name": "stdout",
     "output_type": "stream",
     "text": [
      "Step 458\n",
      "create_roi_mask: mask.shape=torch.Size([6, 1, 320, 320, 2])\n",
      "create_roi_mask: mask.shape=torch.Size([6, 1, 320, 320, 2])\n"
     ]
    },
    {
     "name": "stderr",
     "output_type": "stream",
     "text": [
      "Loss=0.044638:   1%|██▎                                                                                                                                                                          | 459/35001 [14:47<17:31:23,  1.83s/it]"
     ]
    },
    {
     "name": "stdout",
     "output_type": "stream",
     "text": [
      "Step 459\n",
      "create_roi_mask: mask.shape=torch.Size([6, 1, 320, 320, 2])\n",
      "create_roi_mask: mask.shape=torch.Size([6, 1, 320, 320, 2])\n"
     ]
    },
    {
     "name": "stderr",
     "output_type": "stream",
     "text": [
      "Loss=0.061850:   1%|██▎                                                                                                                                                                          | 460/35001 [14:49<17:30:25,  1.82s/it]"
     ]
    },
    {
     "name": "stdout",
     "output_type": "stream",
     "text": [
      "Step 460\n",
      "create_roi_mask: mask.shape=torch.Size([6, 1, 320, 320, 2])\n",
      "create_roi_mask: mask.shape=torch.Size([6, 1, 320, 320, 2])\n"
     ]
    },
    {
     "name": "stderr",
     "output_type": "stream",
     "text": [
      "Loss=0.056814:   1%|██▎                                                                                                                                                                          | 461/35001 [14:51<17:38:35,  1.84s/it]"
     ]
    },
    {
     "name": "stdout",
     "output_type": "stream",
     "text": [
      "Step 461\n",
      "create_roi_mask: mask.shape=torch.Size([6, 1, 320, 320, 2])\n",
      "create_roi_mask: mask.shape=torch.Size([6, 1, 320, 320, 2])\n"
     ]
    },
    {
     "name": "stderr",
     "output_type": "stream",
     "text": [
      "Loss=0.065884:   1%|██▎                                                                                                                                                                          | 462/35001 [14:53<17:26:44,  1.82s/it]"
     ]
    },
    {
     "name": "stdout",
     "output_type": "stream",
     "text": [
      "Step 462\n",
      "create_roi_mask: mask.shape=torch.Size([6, 1, 320, 320, 2])\n",
      "create_roi_mask: mask.shape=torch.Size([6, 1, 320, 320, 2])\n"
     ]
    },
    {
     "name": "stderr",
     "output_type": "stream",
     "text": [
      "Loss=0.061601:   1%|██▎                                                                                                                                                                          | 463/35001 [14:55<17:27:46,  1.82s/it]"
     ]
    },
    {
     "name": "stdout",
     "output_type": "stream",
     "text": [
      "Step 463\n",
      "create_roi_mask: mask.shape=torch.Size([6, 1, 320, 320, 2])\n",
      "create_roi_mask: mask.shape=torch.Size([6, 1, 320, 320, 2])\n"
     ]
    },
    {
     "name": "stderr",
     "output_type": "stream",
     "text": [
      "Loss=0.057159:   1%|██▎                                                                                                                                                                          | 464/35001 [14:57<17:27:52,  1.82s/it]"
     ]
    },
    {
     "name": "stdout",
     "output_type": "stream",
     "text": [
      "Step 464\n",
      "create_roi_mask: mask.shape=torch.Size([6, 1, 320, 320, 2])\n",
      "create_roi_mask: mask.shape=torch.Size([6, 1, 320, 320, 2])\n"
     ]
    },
    {
     "name": "stderr",
     "output_type": "stream",
     "text": [
      "Loss=0.061985:   1%|██▎                                                                                                                                                                          | 465/35001 [14:58<17:27:41,  1.82s/it]"
     ]
    },
    {
     "name": "stdout",
     "output_type": "stream",
     "text": [
      "Step 465\n",
      "create_roi_mask: mask.shape=torch.Size([6, 1, 320, 320, 2])\n",
      "create_roi_mask: mask.shape=torch.Size([6, 1, 320, 320, 2])\n"
     ]
    },
    {
     "name": "stderr",
     "output_type": "stream",
     "text": [
      "Loss=0.057438:   1%|██▎                                                                                                                                                                          | 466/35001 [15:00<17:27:29,  1.82s/it]"
     ]
    },
    {
     "name": "stdout",
     "output_type": "stream",
     "text": [
      "Step 466\n",
      "create_roi_mask: mask.shape=torch.Size([6, 1, 320, 320, 2])\n",
      "create_roi_mask: mask.shape=torch.Size([6, 1, 320, 320, 2])\n"
     ]
    },
    {
     "name": "stderr",
     "output_type": "stream",
     "text": [
      "Loss=0.063455:   1%|██▎                                                                                                                                                                          | 467/35001 [15:02<18:05:10,  1.89s/it]"
     ]
    },
    {
     "name": "stdout",
     "output_type": "stream",
     "text": [
      "Step 467\n",
      "create_roi_mask: mask.shape=torch.Size([6, 1, 320, 320, 2])\n",
      "create_roi_mask: mask.shape=torch.Size([6, 1, 320, 320, 2])\n"
     ]
    },
    {
     "name": "stderr",
     "output_type": "stream",
     "text": [
      "Loss=0.053086:   1%|██▎                                                                                                                                                                          | 468/35001 [15:04<17:53:45,  1.87s/it]"
     ]
    },
    {
     "name": "stdout",
     "output_type": "stream",
     "text": [
      "Step 468\n",
      "create_roi_mask: mask.shape=torch.Size([6, 1, 320, 320, 2])\n",
      "create_roi_mask: mask.shape=torch.Size([6, 1, 320, 320, 2])\n"
     ]
    },
    {
     "name": "stderr",
     "output_type": "stream",
     "text": [
      "Loss=0.074198:   1%|██▎                                                                                                                                                                          | 469/35001 [15:06<17:44:19,  1.85s/it]"
     ]
    },
    {
     "name": "stdout",
     "output_type": "stream",
     "text": [
      "Step 469\n",
      "create_roi_mask: mask.shape=torch.Size([6, 1, 320, 320, 2])\n",
      "create_roi_mask: mask.shape=torch.Size([6, 1, 320, 320, 2])\n"
     ]
    },
    {
     "name": "stderr",
     "output_type": "stream",
     "text": [
      "Loss=0.053955:   1%|██▎                                                                                                                                                                          | 470/35001 [15:08<17:38:44,  1.84s/it]"
     ]
    },
    {
     "name": "stdout",
     "output_type": "stream",
     "text": [
      "Step 470\n",
      "create_roi_mask: mask.shape=torch.Size([6, 1, 320, 320, 2])\n",
      "create_roi_mask: mask.shape=torch.Size([6, 1, 320, 320, 2])\n"
     ]
    },
    {
     "name": "stderr",
     "output_type": "stream",
     "text": [
      "Loss=0.061252:   1%|██▎                                                                                                                                                                          | 471/35001 [15:10<17:43:04,  1.85s/it]"
     ]
    },
    {
     "name": "stdout",
     "output_type": "stream",
     "text": [
      "Step 471\n",
      "create_roi_mask: mask.shape=torch.Size([6, 1, 320, 320, 2])\n",
      "create_roi_mask: mask.shape=torch.Size([6, 1, 320, 320, 2])\n"
     ]
    },
    {
     "name": "stderr",
     "output_type": "stream",
     "text": [
      "Loss=0.055401:   1%|██▎                                                                                                                                                                          | 472/35001 [15:11<17:30:15,  1.82s/it]"
     ]
    },
    {
     "name": "stdout",
     "output_type": "stream",
     "text": [
      "Step 472\n",
      "create_roi_mask: mask.shape=torch.Size([6, 1, 320, 320, 2])\n",
      "create_roi_mask: mask.shape=torch.Size([6, 1, 320, 320, 2])\n"
     ]
    },
    {
     "name": "stderr",
     "output_type": "stream",
     "text": [
      "Loss=0.063985:   1%|██▎                                                                                                                                                                          | 473/35001 [15:13<17:29:14,  1.82s/it]"
     ]
    },
    {
     "name": "stdout",
     "output_type": "stream",
     "text": [
      "Step 473\n",
      "create_roi_mask: mask.shape=torch.Size([6, 1, 320, 320, 2])\n",
      "create_roi_mask: mask.shape=torch.Size([6, 1, 320, 320, 2])\n"
     ]
    },
    {
     "name": "stderr",
     "output_type": "stream",
     "text": [
      "Loss=0.054882:   1%|██▎                                                                                                                                                                          | 474/35001 [15:15<17:30:03,  1.82s/it]"
     ]
    },
    {
     "name": "stdout",
     "output_type": "stream",
     "text": [
      "Step 474\n",
      "create_roi_mask: mask.shape=torch.Size([6, 1, 320, 320, 2])\n",
      "create_roi_mask: mask.shape=torch.Size([6, 1, 320, 320, 2])\n"
     ]
    },
    {
     "name": "stderr",
     "output_type": "stream",
     "text": [
      "Loss=0.056510:   1%|██▎                                                                                                                                                                          | 475/35001 [15:17<17:31:00,  1.83s/it]"
     ]
    },
    {
     "name": "stdout",
     "output_type": "stream",
     "text": [
      "Step 475\n",
      "create_roi_mask: mask.shape=torch.Size([6, 1, 320, 320, 2])\n",
      "create_roi_mask: mask.shape=torch.Size([6, 1, 320, 320, 2])\n"
     ]
    },
    {
     "name": "stderr",
     "output_type": "stream",
     "text": [
      "Loss=0.065948:   1%|██▎                                                                                                                                                                          | 476/35001 [15:19<17:32:43,  1.83s/it]"
     ]
    },
    {
     "name": "stdout",
     "output_type": "stream",
     "text": [
      "Step 476\n",
      "create_roi_mask: mask.shape=torch.Size([6, 1, 320, 320, 2])\n",
      "create_roi_mask: mask.shape=torch.Size([6, 1, 320, 320, 2])\n"
     ]
    },
    {
     "name": "stderr",
     "output_type": "stream",
     "text": [
      "Loss=0.070185:   1%|██▎                                                                                                                                                                          | 477/35001 [15:20<17:30:02,  1.82s/it]"
     ]
    },
    {
     "name": "stdout",
     "output_type": "stream",
     "text": [
      "Step 477\n",
      "create_roi_mask: mask.shape=torch.Size([6, 1, 320, 320, 2])\n",
      "create_roi_mask: mask.shape=torch.Size([6, 1, 320, 320, 2])\n"
     ]
    },
    {
     "name": "stderr",
     "output_type": "stream",
     "text": [
      "Loss=0.055314:   1%|██▎                                                                                                                                                                          | 478/35001 [15:22<17:29:26,  1.82s/it]"
     ]
    },
    {
     "name": "stdout",
     "output_type": "stream",
     "text": [
      "Step 478\n",
      "create_roi_mask: mask.shape=torch.Size([6, 1, 320, 320, 2])\n",
      "create_roi_mask: mask.shape=torch.Size([6, 1, 320, 320, 2])\n"
     ]
    },
    {
     "name": "stderr",
     "output_type": "stream",
     "text": [
      "Loss=0.051722:   1%|██▎                                                                                                                                                                          | 479/35001 [15:24<17:38:46,  1.84s/it]"
     ]
    },
    {
     "name": "stdout",
     "output_type": "stream",
     "text": [
      "Step 479\n",
      "create_roi_mask: mask.shape=torch.Size([6, 1, 320, 320, 2])\n",
      "create_roi_mask: mask.shape=torch.Size([6, 1, 320, 320, 2])\n"
     ]
    },
    {
     "name": "stderr",
     "output_type": "stream",
     "text": [
      "Loss=0.053270:   1%|██▎                                                                                                                                                                          | 480/35001 [15:26<17:39:54,  1.84s/it]"
     ]
    },
    {
     "name": "stdout",
     "output_type": "stream",
     "text": [
      "Step 480\n",
      "create_roi_mask: mask.shape=torch.Size([6, 1, 320, 320, 2])\n",
      "create_roi_mask: mask.shape=torch.Size([6, 1, 320, 320, 2])\n"
     ]
    },
    {
     "name": "stderr",
     "output_type": "stream",
     "text": [
      "Loss=0.051637:   1%|██▍                                                                                                                                                                          | 481/35001 [15:28<17:44:39,  1.85s/it]"
     ]
    },
    {
     "name": "stdout",
     "output_type": "stream",
     "text": [
      "Step 481\n",
      "create_roi_mask: mask.shape=torch.Size([6, 1, 320, 320, 2])\n",
      "create_roi_mask: mask.shape=torch.Size([6, 1, 320, 320, 2])\n"
     ]
    },
    {
     "name": "stderr",
     "output_type": "stream",
     "text": [
      "Loss=0.054611:   1%|██▍                                                                                                                                                                          | 482/35001 [15:30<17:31:51,  1.83s/it]"
     ]
    },
    {
     "name": "stdout",
     "output_type": "stream",
     "text": [
      "Step 482\n",
      "create_roi_mask: mask.shape=torch.Size([6, 1, 320, 320, 2])\n",
      "create_roi_mask: mask.shape=torch.Size([6, 1, 320, 320, 2])\n"
     ]
    },
    {
     "name": "stderr",
     "output_type": "stream",
     "text": [
      "Loss=0.056289:   1%|██▍                                                                                                                                                                          | 483/35001 [15:32<17:33:47,  1.83s/it]"
     ]
    },
    {
     "name": "stdout",
     "output_type": "stream",
     "text": [
      "Step 483\n",
      "create_roi_mask: mask.shape=torch.Size([6, 1, 320, 320, 2])\n",
      "create_roi_mask: mask.shape=torch.Size([6, 1, 320, 320, 2])\n"
     ]
    },
    {
     "name": "stderr",
     "output_type": "stream",
     "text": [
      "Loss=0.056717:   1%|██▍                                                                                                                                                                          | 484/35001 [15:33<17:31:48,  1.83s/it]"
     ]
    },
    {
     "name": "stdout",
     "output_type": "stream",
     "text": [
      "Step 484\n",
      "create_roi_mask: mask.shape=torch.Size([6, 1, 320, 320, 2])\n",
      "create_roi_mask: mask.shape=torch.Size([6, 1, 320, 320, 2])\n"
     ]
    },
    {
     "name": "stderr",
     "output_type": "stream",
     "text": [
      "Loss=0.057041:   1%|██▍                                                                                                                                                                          | 485/35001 [15:35<17:29:52,  1.83s/it]"
     ]
    },
    {
     "name": "stdout",
     "output_type": "stream",
     "text": [
      "Step 485\n",
      "create_roi_mask: mask.shape=torch.Size([6, 1, 320, 320, 2])\n",
      "create_roi_mask: mask.shape=torch.Size([6, 1, 320, 320, 2])\n"
     ]
    },
    {
     "name": "stderr",
     "output_type": "stream",
     "text": [
      "Loss=0.055754:   1%|██▍                                                                                                                                                                          | 486/35001 [15:37<17:32:53,  1.83s/it]"
     ]
    },
    {
     "name": "stdout",
     "output_type": "stream",
     "text": [
      "Step 486\n",
      "create_roi_mask: mask.shape=torch.Size([6, 1, 320, 320, 2])\n",
      "create_roi_mask: mask.shape=torch.Size([6, 1, 320, 320, 2])\n"
     ]
    },
    {
     "name": "stderr",
     "output_type": "stream",
     "text": [
      "Loss=0.053654:   1%|██▍                                                                                                                                                                          | 487/35001 [15:39<18:09:05,  1.89s/it]"
     ]
    },
    {
     "name": "stdout",
     "output_type": "stream",
     "text": [
      "Step 487\n",
      "create_roi_mask: mask.shape=torch.Size([6, 1, 320, 320, 2])\n",
      "create_roi_mask: mask.shape=torch.Size([6, 1, 320, 320, 2])\n"
     ]
    },
    {
     "name": "stderr",
     "output_type": "stream",
     "text": [
      "Loss=0.043910:   1%|██▍                                                                                                                                                                          | 488/35001 [15:41<18:02:18,  1.88s/it]"
     ]
    },
    {
     "name": "stdout",
     "output_type": "stream",
     "text": [
      "Step 488\n",
      "create_roi_mask: mask.shape=torch.Size([6, 1, 320, 320, 2])\n",
      "create_roi_mask: mask.shape=torch.Size([6, 1, 320, 320, 2])\n"
     ]
    },
    {
     "name": "stderr",
     "output_type": "stream",
     "text": [
      "Loss=0.050507:   1%|██▍                                                                                                                                                                          | 489/35001 [15:43<18:00:22,  1.88s/it]"
     ]
    },
    {
     "name": "stdout",
     "output_type": "stream",
     "text": [
      "Step 489\n",
      "create_roi_mask: mask.shape=torch.Size([6, 1, 320, 320, 2])\n",
      "create_roi_mask: mask.shape=torch.Size([6, 1, 320, 320, 2])\n"
     ]
    },
    {
     "name": "stderr",
     "output_type": "stream",
     "text": [
      "Loss=0.054900:   1%|██▍                                                                                                                                                                          | 490/35001 [15:45<18:09:23,  1.89s/it]"
     ]
    },
    {
     "name": "stdout",
     "output_type": "stream",
     "text": [
      "Step 490\n",
      "create_roi_mask: mask.shape=torch.Size([6, 1, 320, 320, 2])\n",
      "create_roi_mask: mask.shape=torch.Size([6, 1, 320, 320, 2])\n"
     ]
    },
    {
     "name": "stderr",
     "output_type": "stream",
     "text": [
      "Loss=0.055067:   1%|██▍                                                                                                                                                                          | 491/35001 [15:47<18:05:05,  1.89s/it]"
     ]
    },
    {
     "name": "stdout",
     "output_type": "stream",
     "text": [
      "Step 491\n",
      "create_roi_mask: mask.shape=torch.Size([6, 1, 320, 320, 2])\n",
      "create_roi_mask: mask.shape=torch.Size([6, 1, 320, 320, 2])\n"
     ]
    },
    {
     "name": "stderr",
     "output_type": "stream",
     "text": [
      "Loss=0.050364:   1%|██▍                                                                                                                                                                          | 492/35001 [15:48<17:44:57,  1.85s/it]"
     ]
    },
    {
     "name": "stdout",
     "output_type": "stream",
     "text": [
      "Step 492\n",
      "create_roi_mask: mask.shape=torch.Size([6, 1, 320, 320, 2])\n",
      "create_roi_mask: mask.shape=torch.Size([6, 1, 320, 320, 2])\n"
     ]
    },
    {
     "name": "stderr",
     "output_type": "stream",
     "text": [
      "Loss=0.054232:   1%|██▍                                                                                                                                                                          | 493/35001 [15:50<17:44:03,  1.85s/it]"
     ]
    },
    {
     "name": "stdout",
     "output_type": "stream",
     "text": [
      "Step 493\n",
      "create_roi_mask: mask.shape=torch.Size([6, 1, 320, 320, 2])\n",
      "create_roi_mask: mask.shape=torch.Size([6, 1, 320, 320, 2])\n"
     ]
    },
    {
     "name": "stderr",
     "output_type": "stream",
     "text": [
      "Loss=0.052322:   1%|██▍                                                                                                                                                                          | 494/35001 [15:52<17:39:09,  1.84s/it]"
     ]
    },
    {
     "name": "stdout",
     "output_type": "stream",
     "text": [
      "Step 494\n",
      "create_roi_mask: mask.shape=torch.Size([6, 1, 320, 320, 2])\n",
      "create_roi_mask: mask.shape=torch.Size([6, 1, 320, 320, 2])\n"
     ]
    },
    {
     "name": "stderr",
     "output_type": "stream",
     "text": [
      "Loss=0.059897:   1%|██▍                                                                                                                                                                          | 495/35001 [15:54<17:47:32,  1.86s/it]"
     ]
    },
    {
     "name": "stdout",
     "output_type": "stream",
     "text": [
      "Step 495\n",
      "create_roi_mask: mask.shape=torch.Size([6, 1, 320, 320, 2])\n",
      "create_roi_mask: mask.shape=torch.Size([6, 1, 320, 320, 2])\n"
     ]
    },
    {
     "name": "stderr",
     "output_type": "stream",
     "text": [
      "Loss=0.053906:   1%|██▍                                                                                                                                                                          | 496/35001 [15:56<17:42:34,  1.85s/it]"
     ]
    },
    {
     "name": "stdout",
     "output_type": "stream",
     "text": [
      "Step 496\n",
      "create_roi_mask: mask.shape=torch.Size([6, 1, 320, 320, 2])\n",
      "create_roi_mask: mask.shape=torch.Size([6, 1, 320, 320, 2])\n"
     ]
    },
    {
     "name": "stderr",
     "output_type": "stream",
     "text": [
      "Loss=0.069654:   1%|██▍                                                                                                                                                                          | 497/35001 [15:58<17:39:28,  1.84s/it]"
     ]
    },
    {
     "name": "stdout",
     "output_type": "stream",
     "text": [
      "Step 497\n",
      "create_roi_mask: mask.shape=torch.Size([6, 1, 320, 320, 2])\n",
      "create_roi_mask: mask.shape=torch.Size([6, 1, 320, 320, 2])\n"
     ]
    },
    {
     "name": "stderr",
     "output_type": "stream",
     "text": [
      "Loss=0.059698:   1%|██▍                                                                                                                                                                          | 498/35001 [15:59<17:41:11,  1.85s/it]"
     ]
    },
    {
     "name": "stdout",
     "output_type": "stream",
     "text": [
      "Step 498\n",
      "create_roi_mask: mask.shape=torch.Size([6, 1, 320, 320, 2])\n",
      "create_roi_mask: mask.shape=torch.Size([6, 1, 320, 320, 2])\n"
     ]
    },
    {
     "name": "stderr",
     "output_type": "stream",
     "text": [
      "Loss=0.041828:   1%|██▍                                                                                                                                                                          | 499/35001 [16:01<17:36:27,  1.84s/it]"
     ]
    },
    {
     "name": "stdout",
     "output_type": "stream",
     "text": [
      "Step 499\n",
      "create_roi_mask: mask.shape=torch.Size([6, 1, 320, 320, 2])\n",
      "create_roi_mask: mask.shape=torch.Size([6, 1, 320, 320, 2])\n"
     ]
    },
    {
     "name": "stderr",
     "output_type": "stream",
     "text": [
      "Loss=0.043906:   1%|██▍                                                                                                                                                                          | 500/35001 [16:03<17:34:06,  1.83s/it]"
     ]
    },
    {
     "name": "stdout",
     "output_type": "stream",
     "text": [
      "Step 500\n",
      "create_roi_mask: mask.shape=torch.Size([6, 1, 320, 320, 2])\n",
      "create_roi_mask: mask.shape=torch.Size([6, 1, 320, 320, 2])\n"
     ]
    },
    {
     "name": "stderr",
     "output_type": "stream",
     "text": [
      "Loss=0.059898:   1%|██▍                                                                                                                                                                          | 501/35001 [16:05<17:40:36,  1.84s/it]"
     ]
    },
    {
     "name": "stdout",
     "output_type": "stream",
     "text": [
      "Step 501\n",
      "create_roi_mask: mask.shape=torch.Size([6, 1, 320, 320, 2])\n",
      "create_roi_mask: mask.shape=torch.Size([6, 1, 320, 320, 2])\n"
     ]
    },
    {
     "name": "stderr",
     "output_type": "stream",
     "text": [
      "Loss=0.064077:   1%|██▍                                                                                                                                                                          | 502/35001 [16:07<17:27:32,  1.82s/it]"
     ]
    },
    {
     "name": "stdout",
     "output_type": "stream",
     "text": [
      "Step 502\n",
      "create_roi_mask: mask.shape=torch.Size([6, 1, 320, 320, 2])\n",
      "create_roi_mask: mask.shape=torch.Size([6, 1, 320, 320, 2])\n"
     ]
    },
    {
     "name": "stderr",
     "output_type": "stream",
     "text": [
      "Loss=0.058097:   1%|██▍                                                                                                                                                                          | 503/35001 [16:09<17:26:54,  1.82s/it]"
     ]
    },
    {
     "name": "stdout",
     "output_type": "stream",
     "text": [
      "Step 503\n",
      "create_roi_mask: mask.shape=torch.Size([6, 1, 320, 320, 2])\n",
      "create_roi_mask: mask.shape=torch.Size([6, 1, 320, 320, 2])\n"
     ]
    },
    {
     "name": "stderr",
     "output_type": "stream",
     "text": [
      "Loss=0.054364:   1%|██▍                                                                                                                                                                          | 504/35001 [16:10<17:27:44,  1.82s/it]"
     ]
    },
    {
     "name": "stdout",
     "output_type": "stream",
     "text": [
      "Step 504\n",
      "create_roi_mask: mask.shape=torch.Size([6, 1, 320, 320, 2])\n",
      "create_roi_mask: mask.shape=torch.Size([6, 1, 320, 320, 2])\n"
     ]
    },
    {
     "name": "stderr",
     "output_type": "stream",
     "text": [
      "Loss=0.067876:   1%|██▍                                                                                                                                                                          | 505/35001 [16:12<17:28:16,  1.82s/it]"
     ]
    },
    {
     "name": "stdout",
     "output_type": "stream",
     "text": [
      "Step 505\n",
      "create_roi_mask: mask.shape=torch.Size([6, 1, 320, 320, 2])\n",
      "create_roi_mask: mask.shape=torch.Size([6, 1, 320, 320, 2])\n"
     ]
    },
    {
     "name": "stderr",
     "output_type": "stream",
     "text": [
      "Loss=0.060742:   1%|██▌                                                                                                                                                                          | 506/35001 [16:14<17:26:28,  1.82s/it]"
     ]
    },
    {
     "name": "stdout",
     "output_type": "stream",
     "text": [
      "Step 506\n",
      "create_roi_mask: mask.shape=torch.Size([6, 1, 320, 320, 2])\n",
      "create_roi_mask: mask.shape=torch.Size([6, 1, 320, 320, 2])\n"
     ]
    },
    {
     "name": "stderr",
     "output_type": "stream",
     "text": [
      "Loss=0.048379:   1%|██▌                                                                                                                                                                          | 507/35001 [16:16<17:26:54,  1.82s/it]"
     ]
    },
    {
     "name": "stdout",
     "output_type": "stream",
     "text": [
      "Step 507\n",
      "create_roi_mask: mask.shape=torch.Size([6, 1, 320, 320, 2])\n",
      "create_roi_mask: mask.shape=torch.Size([6, 1, 320, 320, 2])\n"
     ]
    },
    {
     "name": "stderr",
     "output_type": "stream",
     "text": [
      "Loss=0.060623:   1%|██▌                                                                                                                                                                          | 508/35001 [16:18<17:35:18,  1.84s/it]"
     ]
    },
    {
     "name": "stdout",
     "output_type": "stream",
     "text": [
      "Step 508\n",
      "create_roi_mask: mask.shape=torch.Size([6, 1, 320, 320, 2])\n",
      "create_roi_mask: mask.shape=torch.Size([6, 1, 320, 320, 2])\n"
     ]
    },
    {
     "name": "stderr",
     "output_type": "stream",
     "text": [
      "Loss=0.073803:   1%|██▌                                                                                                                                                                          | 509/35001 [16:19<17:32:07,  1.83s/it]"
     ]
    },
    {
     "name": "stdout",
     "output_type": "stream",
     "text": [
      "Step 509\n",
      "create_roi_mask: mask.shape=torch.Size([6, 1, 320, 320, 2])\n",
      "create_roi_mask: mask.shape=torch.Size([6, 1, 320, 320, 2])\n"
     ]
    },
    {
     "name": "stderr",
     "output_type": "stream",
     "text": [
      "Loss=0.061676:   1%|██▌                                                                                                                                                                          | 510/35001 [16:21<17:30:56,  1.83s/it]"
     ]
    },
    {
     "name": "stdout",
     "output_type": "stream",
     "text": [
      "Step 510\n",
      "create_roi_mask: mask.shape=torch.Size([6, 1, 320, 320, 2])\n",
      "create_roi_mask: mask.shape=torch.Size([6, 1, 320, 320, 2])\n"
     ]
    },
    {
     "name": "stderr",
     "output_type": "stream",
     "text": [
      "Loss=0.062341:   1%|██▌                                                                                                                                                                          | 511/35001 [16:23<17:37:34,  1.84s/it]"
     ]
    },
    {
     "name": "stdout",
     "output_type": "stream",
     "text": [
      "Step 511\n",
      "create_roi_mask: mask.shape=torch.Size([6, 1, 320, 320, 2])\n",
      "create_roi_mask: mask.shape=torch.Size([6, 1, 320, 320, 2])\n"
     ]
    },
    {
     "name": "stderr",
     "output_type": "stream",
     "text": [
      "Loss=0.055356:   1%|██▌                                                                                                                                                                          | 512/35001 [16:25<17:31:32,  1.83s/it]"
     ]
    },
    {
     "name": "stdout",
     "output_type": "stream",
     "text": [
      "Step 512\n",
      "create_roi_mask: mask.shape=torch.Size([6, 1, 320, 320, 2])\n",
      "create_roi_mask: mask.shape=torch.Size([6, 1, 320, 320, 2])\n"
     ]
    },
    {
     "name": "stderr",
     "output_type": "stream",
     "text": [
      "Loss=0.054258:   1%|██▌                                                                                                                                                                          | 513/35001 [16:27<17:31:17,  1.83s/it]"
     ]
    },
    {
     "name": "stdout",
     "output_type": "stream",
     "text": [
      "Step 513\n",
      "create_roi_mask: mask.shape=torch.Size([6, 1, 320, 320, 2])\n",
      "create_roi_mask: mask.shape=torch.Size([6, 1, 320, 320, 2])\n"
     ]
    },
    {
     "name": "stderr",
     "output_type": "stream",
     "text": [
      "Loss=0.051164:   1%|██▌                                                                                                                                                                          | 514/35001 [16:29<17:46:25,  1.86s/it]"
     ]
    },
    {
     "name": "stdout",
     "output_type": "stream",
     "text": [
      "Step 514\n",
      "create_roi_mask: mask.shape=torch.Size([6, 1, 320, 320, 2])\n",
      "create_roi_mask: mask.shape=torch.Size([6, 1, 320, 320, 2])\n"
     ]
    },
    {
     "name": "stderr",
     "output_type": "stream",
     "text": [
      "Loss=0.055060:   1%|██▌                                                                                                                                                                          | 515/35001 [16:31<17:40:27,  1.85s/it]"
     ]
    },
    {
     "name": "stdout",
     "output_type": "stream",
     "text": [
      "Step 515\n",
      "create_roi_mask: mask.shape=torch.Size([6, 1, 320, 320, 2])\n",
      "create_roi_mask: mask.shape=torch.Size([6, 1, 320, 320, 2])\n"
     ]
    },
    {
     "name": "stderr",
     "output_type": "stream",
     "text": [
      "Loss=0.052304:   1%|██▌                                                                                                                                                                          | 516/35001 [16:32<17:38:37,  1.84s/it]"
     ]
    },
    {
     "name": "stdout",
     "output_type": "stream",
     "text": [
      "Step 516\n",
      "create_roi_mask: mask.shape=torch.Size([6, 1, 320, 320, 2])\n",
      "create_roi_mask: mask.shape=torch.Size([6, 1, 320, 320, 2])\n"
     ]
    },
    {
     "name": "stderr",
     "output_type": "stream",
     "text": [
      "Loss=0.046469:   1%|██▌                                                                                                                                                                          | 517/35001 [16:34<17:35:40,  1.84s/it]"
     ]
    },
    {
     "name": "stdout",
     "output_type": "stream",
     "text": [
      "Step 517\n",
      "create_roi_mask: mask.shape=torch.Size([6, 1, 320, 320, 2])\n",
      "create_roi_mask: mask.shape=torch.Size([6, 1, 320, 320, 2])\n"
     ]
    },
    {
     "name": "stderr",
     "output_type": "stream",
     "text": [
      "Loss=0.052462:   1%|██▌                                                                                                                                                                          | 518/35001 [16:36<17:31:11,  1.83s/it]"
     ]
    },
    {
     "name": "stdout",
     "output_type": "stream",
     "text": [
      "Step 518\n",
      "create_roi_mask: mask.shape=torch.Size([6, 1, 320, 320, 2])\n",
      "create_roi_mask: mask.shape=torch.Size([6, 1, 320, 320, 2])\n"
     ]
    },
    {
     "name": "stderr",
     "output_type": "stream",
     "text": [
      "Loss=0.058916:   1%|██▌                                                                                                                                                                          | 519/35001 [16:38<17:29:50,  1.83s/it]"
     ]
    },
    {
     "name": "stdout",
     "output_type": "stream",
     "text": [
      "Step 519\n",
      "create_roi_mask: mask.shape=torch.Size([6, 1, 320, 320, 2])\n",
      "create_roi_mask: mask.shape=torch.Size([6, 1, 320, 320, 2])\n"
     ]
    },
    {
     "name": "stderr",
     "output_type": "stream",
     "text": [
      "Loss=0.053204:   1%|██▌                                                                                                                                                                          | 520/35001 [16:40<17:28:50,  1.83s/it]"
     ]
    },
    {
     "name": "stdout",
     "output_type": "stream",
     "text": [
      "Step 520\n",
      "create_roi_mask: mask.shape=torch.Size([6, 1, 320, 320, 2])\n",
      "create_roi_mask: mask.shape=torch.Size([6, 1, 320, 320, 2])\n"
     ]
    },
    {
     "name": "stderr",
     "output_type": "stream",
     "text": [
      "Loss=0.072138:   1%|██▌                                                                                                                                                                          | 521/35001 [16:42<17:45:35,  1.85s/it]"
     ]
    },
    {
     "name": "stdout",
     "output_type": "stream",
     "text": [
      "Step 521\n",
      "create_roi_mask: mask.shape=torch.Size([6, 1, 320, 320, 2])\n",
      "create_roi_mask: mask.shape=torch.Size([6, 1, 320, 320, 2])\n"
     ]
    },
    {
     "name": "stderr",
     "output_type": "stream",
     "text": [
      "Loss=0.050425:   1%|██▌                                                                                                                                                                          | 522/35001 [16:43<17:32:45,  1.83s/it]"
     ]
    },
    {
     "name": "stdout",
     "output_type": "stream",
     "text": [
      "Step 522\n",
      "create_roi_mask: mask.shape=torch.Size([6, 1, 320, 320, 2])\n",
      "create_roi_mask: mask.shape=torch.Size([6, 1, 320, 320, 2])\n"
     ]
    },
    {
     "name": "stderr",
     "output_type": "stream",
     "text": [
      "Loss=0.056383:   1%|██▌                                                                                                                                                                          | 523/35001 [16:45<17:38:57,  1.84s/it]"
     ]
    },
    {
     "name": "stdout",
     "output_type": "stream",
     "text": [
      "Step 523\n",
      "create_roi_mask: mask.shape=torch.Size([6, 1, 320, 320, 2])\n",
      "create_roi_mask: mask.shape=torch.Size([6, 1, 320, 320, 2])\n"
     ]
    },
    {
     "name": "stderr",
     "output_type": "stream",
     "text": [
      "Loss=0.053471:   1%|██▌                                                                                                                                                                          | 524/35001 [16:47<17:35:04,  1.84s/it]"
     ]
    },
    {
     "name": "stdout",
     "output_type": "stream",
     "text": [
      "Step 524\n",
      "create_roi_mask: mask.shape=torch.Size([6, 1, 320, 320, 2])\n",
      "create_roi_mask: mask.shape=torch.Size([6, 1, 320, 320, 2])\n"
     ]
    },
    {
     "name": "stderr",
     "output_type": "stream",
     "text": [
      "Loss=0.058087:   1%|██▌                                                                                                                                                                          | 525/35001 [16:49<17:42:55,  1.85s/it]"
     ]
    },
    {
     "name": "stdout",
     "output_type": "stream",
     "text": [
      "Step 525\n",
      "create_roi_mask: mask.shape=torch.Size([6, 1, 320, 320, 2])\n",
      "create_roi_mask: mask.shape=torch.Size([6, 1, 320, 320, 2])\n"
     ]
    },
    {
     "name": "stderr",
     "output_type": "stream",
     "text": [
      "Loss=0.058818:   2%|██▌                                                                                                                                                                          | 526/35001 [16:51<17:39:08,  1.84s/it]"
     ]
    },
    {
     "name": "stdout",
     "output_type": "stream",
     "text": [
      "Step 526\n",
      "create_roi_mask: mask.shape=torch.Size([6, 1, 320, 320, 2])\n",
      "create_roi_mask: mask.shape=torch.Size([6, 1, 320, 320, 2])\n"
     ]
    },
    {
     "name": "stderr",
     "output_type": "stream",
     "text": [
      "Loss=0.063147:   2%|██▌                                                                                                                                                                          | 527/35001 [16:53<17:36:12,  1.84s/it]"
     ]
    },
    {
     "name": "stdout",
     "output_type": "stream",
     "text": [
      "Step 527\n",
      "create_roi_mask: mask.shape=torch.Size([6, 1, 320, 320, 2])\n",
      "create_roi_mask: mask.shape=torch.Size([6, 1, 320, 320, 2])\n"
     ]
    },
    {
     "name": "stderr",
     "output_type": "stream",
     "text": [
      "Loss=0.058049:   2%|██▌                                                                                                                                                                          | 528/35001 [16:54<17:34:00,  1.83s/it]"
     ]
    },
    {
     "name": "stdout",
     "output_type": "stream",
     "text": [
      "Step 528\n",
      "create_roi_mask: mask.shape=torch.Size([6, 1, 320, 320, 2])\n",
      "create_roi_mask: mask.shape=torch.Size([6, 1, 320, 320, 2])\n"
     ]
    },
    {
     "name": "stderr",
     "output_type": "stream",
     "text": [
      "Loss=0.059388:   2%|██▌                                                                                                                                                                          | 529/35001 [16:56<17:30:56,  1.83s/it]"
     ]
    },
    {
     "name": "stdout",
     "output_type": "stream",
     "text": [
      "Step 529\n",
      "create_roi_mask: mask.shape=torch.Size([6, 1, 320, 320, 2])\n",
      "create_roi_mask: mask.shape=torch.Size([6, 1, 320, 320, 2])\n"
     ]
    },
    {
     "name": "stderr",
     "output_type": "stream",
     "text": [
      "Loss=0.054080:   2%|██▌                                                                                                                                                                          | 530/35001 [16:58<17:33:40,  1.83s/it]"
     ]
    },
    {
     "name": "stdout",
     "output_type": "stream",
     "text": [
      "Step 530\n",
      "create_roi_mask: mask.shape=torch.Size([6, 1, 320, 320, 2])\n",
      "create_roi_mask: mask.shape=torch.Size([6, 1, 320, 320, 2])\n"
     ]
    },
    {
     "name": "stderr",
     "output_type": "stream",
     "text": [
      "Loss=0.053127:   2%|██▌                                                                                                                                                                          | 531/35001 [17:00<17:40:08,  1.85s/it]"
     ]
    },
    {
     "name": "stdout",
     "output_type": "stream",
     "text": [
      "Step 531\n",
      "create_roi_mask: mask.shape=torch.Size([6, 1, 320, 320, 2])\n",
      "create_roi_mask: mask.shape=torch.Size([6, 1, 320, 320, 2])\n"
     ]
    },
    {
     "name": "stderr",
     "output_type": "stream",
     "text": [
      "Loss=0.051880:   2%|██▋                                                                                                                                                                          | 532/35001 [17:02<17:36:45,  1.84s/it]"
     ]
    },
    {
     "name": "stdout",
     "output_type": "stream",
     "text": [
      "Step 532\n",
      "create_roi_mask: mask.shape=torch.Size([6, 1, 320, 320, 2])\n",
      "create_roi_mask: mask.shape=torch.Size([6, 1, 320, 320, 2])\n"
     ]
    },
    {
     "name": "stderr",
     "output_type": "stream",
     "text": [
      "Loss=0.061333:   2%|██▋                                                                                                                                                                          | 533/35001 [17:04<17:34:19,  1.84s/it]"
     ]
    },
    {
     "name": "stdout",
     "output_type": "stream",
     "text": [
      "Step 533\n",
      "create_roi_mask: mask.shape=torch.Size([6, 1, 320, 320, 2])\n",
      "create_roi_mask: mask.shape=torch.Size([6, 1, 320, 320, 2])\n"
     ]
    },
    {
     "name": "stderr",
     "output_type": "stream",
     "text": [
      "Loss=0.062661:   2%|██▋                                                                                                                                                                          | 534/35001 [17:05<17:32:18,  1.83s/it]"
     ]
    },
    {
     "name": "stdout",
     "output_type": "stream",
     "text": [
      "Step 534\n",
      "create_roi_mask: mask.shape=torch.Size([6, 1, 320, 320, 2])\n",
      "create_roi_mask: mask.shape=torch.Size([6, 1, 320, 320, 2])\n"
     ]
    },
    {
     "name": "stderr",
     "output_type": "stream",
     "text": [
      "Loss=0.061879:   2%|██▋                                                                                                                                                                          | 535/35001 [17:07<17:31:07,  1.83s/it]"
     ]
    },
    {
     "name": "stdout",
     "output_type": "stream",
     "text": [
      "Step 535\n",
      "create_roi_mask: mask.shape=torch.Size([6, 1, 320, 320, 2])\n",
      "create_roi_mask: mask.shape=torch.Size([6, 1, 320, 320, 2])\n"
     ]
    },
    {
     "name": "stderr",
     "output_type": "stream",
     "text": [
      "Loss=0.055968:   2%|██▋                                                                                                                                                                          | 536/35001 [17:09<17:30:10,  1.83s/it]"
     ]
    },
    {
     "name": "stdout",
     "output_type": "stream",
     "text": [
      "Step 536\n",
      "create_roi_mask: mask.shape=torch.Size([6, 1, 320, 320, 2])\n",
      "create_roi_mask: mask.shape=torch.Size([6, 1, 320, 320, 2])\n"
     ]
    },
    {
     "name": "stderr",
     "output_type": "stream",
     "text": [
      "Loss=0.053407:   2%|██▋                                                                                                                                                                          | 537/35001 [17:11<17:41:37,  1.85s/it]"
     ]
    },
    {
     "name": "stdout",
     "output_type": "stream",
     "text": [
      "Step 537\n",
      "create_roi_mask: mask.shape=torch.Size([6, 1, 320, 320, 2])\n",
      "create_roi_mask: mask.shape=torch.Size([6, 1, 320, 320, 2])\n"
     ]
    },
    {
     "name": "stderr",
     "output_type": "stream",
     "text": [
      "Loss=0.055468:   2%|██▋                                                                                                                                                                          | 538/35001 [17:13<17:36:43,  1.84s/it]"
     ]
    },
    {
     "name": "stdout",
     "output_type": "stream",
     "text": [
      "Step 538\n",
      "create_roi_mask: mask.shape=torch.Size([6, 1, 320, 320, 2])\n",
      "create_roi_mask: mask.shape=torch.Size([6, 1, 320, 320, 2])\n"
     ]
    },
    {
     "name": "stderr",
     "output_type": "stream",
     "text": [
      "Loss=0.049850:   2%|██▋                                                                                                                                                                          | 539/35001 [17:15<17:34:31,  1.84s/it]"
     ]
    },
    {
     "name": "stdout",
     "output_type": "stream",
     "text": [
      "Step 539\n",
      "create_roi_mask: mask.shape=torch.Size([6, 1, 320, 320, 2])\n",
      "create_roi_mask: mask.shape=torch.Size([6, 1, 320, 320, 2])\n"
     ]
    },
    {
     "name": "stderr",
     "output_type": "stream",
     "text": [
      "Loss=0.047851:   2%|██▋                                                                                                                                                                          | 540/35001 [17:16<17:32:56,  1.83s/it]"
     ]
    },
    {
     "name": "stdout",
     "output_type": "stream",
     "text": [
      "Step 540\n",
      "create_roi_mask: mask.shape=torch.Size([6, 1, 320, 320, 2])\n",
      "create_roi_mask: mask.shape=torch.Size([6, 1, 320, 320, 2])\n"
     ]
    },
    {
     "name": "stderr",
     "output_type": "stream",
     "text": [
      "Loss=0.062398:   2%|██▋                                                                                                                                                                          | 541/35001 [17:18<17:40:30,  1.85s/it]"
     ]
    },
    {
     "name": "stdout",
     "output_type": "stream",
     "text": [
      "Step 541\n",
      "create_roi_mask: mask.shape=torch.Size([6, 1, 320, 320, 2])\n",
      "create_roi_mask: mask.shape=torch.Size([6, 1, 320, 320, 2])\n"
     ]
    },
    {
     "name": "stderr",
     "output_type": "stream",
     "text": [
      "Loss=0.051968:   2%|██▋                                                                                                                                                                          | 542/35001 [17:20<17:46:34,  1.86s/it]"
     ]
    },
    {
     "name": "stdout",
     "output_type": "stream",
     "text": [
      "Step 542\n",
      "create_roi_mask: mask.shape=torch.Size([6, 1, 320, 320, 2])\n",
      "create_roi_mask: mask.shape=torch.Size([6, 1, 320, 320, 2])\n"
     ]
    },
    {
     "name": "stderr",
     "output_type": "stream",
     "text": [
      "Loss=0.050504:   2%|██▋                                                                                                                                                                          | 543/35001 [17:22<17:48:47,  1.86s/it]"
     ]
    },
    {
     "name": "stdout",
     "output_type": "stream",
     "text": [
      "Step 543\n",
      "create_roi_mask: mask.shape=torch.Size([6, 1, 320, 320, 2])\n",
      "create_roi_mask: mask.shape=torch.Size([6, 1, 320, 320, 2])\n"
     ]
    },
    {
     "name": "stderr",
     "output_type": "stream",
     "text": [
      "Loss=0.061471:   2%|██▋                                                                                                                                                                          | 544/35001 [17:24<17:51:22,  1.87s/it]"
     ]
    },
    {
     "name": "stdout",
     "output_type": "stream",
     "text": [
      "Step 544\n",
      "create_roi_mask: mask.shape=torch.Size([6, 1, 320, 320, 2])\n",
      "create_roi_mask: mask.shape=torch.Size([6, 1, 320, 320, 2])\n"
     ]
    },
    {
     "name": "stderr",
     "output_type": "stream",
     "text": [
      "Loss=0.067844:   2%|██▋                                                                                                                                                                          | 545/35001 [17:26<17:59:27,  1.88s/it]"
     ]
    },
    {
     "name": "stdout",
     "output_type": "stream",
     "text": [
      "Step 545\n",
      "create_roi_mask: mask.shape=torch.Size([6, 1, 320, 320, 2])\n",
      "create_roi_mask: mask.shape=torch.Size([6, 1, 320, 320, 2])\n"
     ]
    },
    {
     "name": "stderr",
     "output_type": "stream",
     "text": [
      "Loss=0.062875:   2%|██▋                                                                                                                                                                          | 546/35001 [17:28<17:50:33,  1.86s/it]"
     ]
    },
    {
     "name": "stdout",
     "output_type": "stream",
     "text": [
      "Step 546\n",
      "create_roi_mask: mask.shape=torch.Size([6, 1, 320, 320, 2])\n",
      "create_roi_mask: mask.shape=torch.Size([6, 1, 320, 320, 2])\n"
     ]
    },
    {
     "name": "stderr",
     "output_type": "stream",
     "text": [
      "Loss=0.051394:   2%|██▋                                                                                                                                                                          | 547/35001 [17:30<17:53:57,  1.87s/it]"
     ]
    },
    {
     "name": "stdout",
     "output_type": "stream",
     "text": [
      "Step 547\n",
      "create_roi_mask: mask.shape=torch.Size([6, 1, 320, 320, 2])\n",
      "create_roi_mask: mask.shape=torch.Size([6, 1, 320, 320, 2])\n"
     ]
    },
    {
     "name": "stderr",
     "output_type": "stream",
     "text": [
      "Loss=0.054169:   2%|██▋                                                                                                                                                                          | 548/35001 [17:31<17:45:46,  1.86s/it]"
     ]
    },
    {
     "name": "stdout",
     "output_type": "stream",
     "text": [
      "Step 548\n",
      "create_roi_mask: mask.shape=torch.Size([6, 1, 320, 320, 2])\n",
      "create_roi_mask: mask.shape=torch.Size([6, 1, 320, 320, 2])\n"
     ]
    },
    {
     "name": "stderr",
     "output_type": "stream",
     "text": [
      "Loss=0.058345:   2%|██▋                                                                                                                                                                          | 549/35001 [17:33<17:38:58,  1.84s/it]"
     ]
    },
    {
     "name": "stdout",
     "output_type": "stream",
     "text": [
      "Step 549\n",
      "create_roi_mask: mask.shape=torch.Size([6, 1, 320, 320, 2])\n",
      "create_roi_mask: mask.shape=torch.Size([6, 1, 320, 320, 2])\n"
     ]
    },
    {
     "name": "stderr",
     "output_type": "stream",
     "text": [
      "Loss=0.058223:   2%|██▋                                                                                                                                                                          | 550/35001 [17:35<17:36:58,  1.84s/it]"
     ]
    },
    {
     "name": "stdout",
     "output_type": "stream",
     "text": [
      "Step 550\n",
      "create_roi_mask: mask.shape=torch.Size([6, 1, 320, 320, 2])\n",
      "create_roi_mask: mask.shape=torch.Size([6, 1, 320, 320, 2])\n"
     ]
    },
    {
     "name": "stderr",
     "output_type": "stream",
     "text": [
      "Loss=0.052650:   2%|██▋                                                                                                                                                                          | 551/35001 [17:37<17:49:13,  1.86s/it]"
     ]
    },
    {
     "name": "stdout",
     "output_type": "stream",
     "text": [
      "Step 551\n",
      "create_roi_mask: mask.shape=torch.Size([6, 1, 320, 320, 2])\n",
      "create_roi_mask: mask.shape=torch.Size([6, 1, 320, 320, 2])\n"
     ]
    },
    {
     "name": "stderr",
     "output_type": "stream",
     "text": [
      "Loss=0.054499:   2%|██▋                                                                                                                                                                          | 552/35001 [17:39<17:44:09,  1.85s/it]"
     ]
    },
    {
     "name": "stdout",
     "output_type": "stream",
     "text": [
      "Step 552\n",
      "create_roi_mask: mask.shape=torch.Size([6, 1, 320, 320, 2])\n",
      "create_roi_mask: mask.shape=torch.Size([6, 1, 320, 320, 2])\n"
     ]
    },
    {
     "name": "stderr",
     "output_type": "stream",
     "text": [
      "Loss=0.051670:   2%|██▋                                                                                                                                                                          | 553/35001 [17:41<17:37:07,  1.84s/it]"
     ]
    },
    {
     "name": "stdout",
     "output_type": "stream",
     "text": [
      "Step 553\n",
      "create_roi_mask: mask.shape=torch.Size([6, 1, 320, 320, 2])\n",
      "create_roi_mask: mask.shape=torch.Size([6, 1, 320, 320, 2])\n"
     ]
    },
    {
     "name": "stderr",
     "output_type": "stream",
     "text": [
      "Loss=0.064840:   2%|██▋                                                                                                                                                                          | 554/35001 [17:43<17:48:16,  1.86s/it]"
     ]
    },
    {
     "name": "stdout",
     "output_type": "stream",
     "text": [
      "Step 554\n",
      "create_roi_mask: mask.shape=torch.Size([6, 1, 320, 320, 2])\n",
      "create_roi_mask: mask.shape=torch.Size([6, 1, 320, 320, 2])\n"
     ]
    },
    {
     "name": "stderr",
     "output_type": "stream",
     "text": [
      "Loss=0.047620:   2%|██▋                                                                                                                                                                          | 555/35001 [17:44<17:41:23,  1.85s/it]"
     ]
    },
    {
     "name": "stdout",
     "output_type": "stream",
     "text": [
      "Step 555\n",
      "create_roi_mask: mask.shape=torch.Size([6, 1, 320, 320, 2])\n",
      "create_roi_mask: mask.shape=torch.Size([6, 1, 320, 320, 2])\n"
     ]
    },
    {
     "name": "stderr",
     "output_type": "stream",
     "text": [
      "Loss=0.061923:   2%|██▋                                                                                                                                                                          | 556/35001 [17:46<17:43:43,  1.85s/it]"
     ]
    },
    {
     "name": "stdout",
     "output_type": "stream",
     "text": [
      "Step 556\n",
      "create_roi_mask: mask.shape=torch.Size([6, 1, 320, 320, 2])\n",
      "create_roi_mask: mask.shape=torch.Size([6, 1, 320, 320, 2])\n"
     ]
    },
    {
     "name": "stderr",
     "output_type": "stream",
     "text": [
      "Loss=0.050093:   2%|██▊                                                                                                                                                                          | 557/35001 [17:48<17:39:56,  1.85s/it]"
     ]
    },
    {
     "name": "stdout",
     "output_type": "stream",
     "text": [
      "Step 557\n",
      "create_roi_mask: mask.shape=torch.Size([6, 1, 320, 320, 2])\n",
      "create_roi_mask: mask.shape=torch.Size([6, 1, 320, 320, 2])\n"
     ]
    },
    {
     "name": "stderr",
     "output_type": "stream",
     "text": [
      "Loss=0.058608:   2%|██▊                                                                                                                                                                          | 558/35001 [17:50<17:42:45,  1.85s/it]"
     ]
    },
    {
     "name": "stdout",
     "output_type": "stream",
     "text": [
      "Step 558\n",
      "create_roi_mask: mask.shape=torch.Size([6, 1, 320, 320, 2])\n",
      "create_roi_mask: mask.shape=torch.Size([6, 1, 320, 320, 2])\n"
     ]
    },
    {
     "name": "stderr",
     "output_type": "stream",
     "text": [
      "Loss=0.059964:   2%|██▊                                                                                                                                                                          | 559/35001 [17:52<17:36:22,  1.84s/it]"
     ]
    },
    {
     "name": "stdout",
     "output_type": "stream",
     "text": [
      "Step 559\n",
      "create_roi_mask: mask.shape=torch.Size([6, 1, 320, 320, 2])\n",
      "create_roi_mask: mask.shape=torch.Size([6, 1, 320, 320, 2])\n"
     ]
    },
    {
     "name": "stderr",
     "output_type": "stream",
     "text": [
      "Loss=0.067116:   2%|██▊                                                                                                                                                                          | 560/35001 [17:54<17:49:20,  1.86s/it]"
     ]
    },
    {
     "name": "stdout",
     "output_type": "stream",
     "text": [
      "Step 560\n",
      "create_roi_mask: mask.shape=torch.Size([6, 1, 320, 320, 2])\n",
      "create_roi_mask: mask.shape=torch.Size([6, 1, 320, 320, 2])\n"
     ]
    },
    {
     "name": "stderr",
     "output_type": "stream",
     "text": [
      "Loss=0.052299:   2%|██▊                                                                                                                                                                          | 561/35001 [17:55<17:50:29,  1.86s/it]"
     ]
    },
    {
     "name": "stdout",
     "output_type": "stream",
     "text": [
      "Step 561\n",
      "create_roi_mask: mask.shape=torch.Size([6, 1, 320, 320, 2])\n",
      "create_roi_mask: mask.shape=torch.Size([6, 1, 320, 320, 2])\n"
     ]
    },
    {
     "name": "stderr",
     "output_type": "stream",
     "text": [
      "Loss=0.060042:   2%|██▊                                                                                                                                                                          | 562/35001 [17:57<17:59:06,  1.88s/it]"
     ]
    },
    {
     "name": "stdout",
     "output_type": "stream",
     "text": [
      "Step 562\n",
      "create_roi_mask: mask.shape=torch.Size([6, 1, 320, 320, 2])\n",
      "create_roi_mask: mask.shape=torch.Size([6, 1, 320, 320, 2])\n"
     ]
    },
    {
     "name": "stderr",
     "output_type": "stream",
     "text": [
      "Loss=0.063543:   2%|██▊                                                                                                                                                                          | 563/35001 [17:59<17:49:00,  1.86s/it]"
     ]
    },
    {
     "name": "stdout",
     "output_type": "stream",
     "text": [
      "Step 563\n",
      "create_roi_mask: mask.shape=torch.Size([6, 1, 320, 320, 2])\n",
      "create_roi_mask: mask.shape=torch.Size([6, 1, 320, 320, 2])\n"
     ]
    },
    {
     "name": "stderr",
     "output_type": "stream",
     "text": [
      "Loss=0.053752:   2%|██▊                                                                                                                                                                          | 564/35001 [18:01<17:41:03,  1.85s/it]"
     ]
    },
    {
     "name": "stdout",
     "output_type": "stream",
     "text": [
      "Step 564\n",
      "create_roi_mask: mask.shape=torch.Size([6, 1, 320, 320, 2])\n",
      "create_roi_mask: mask.shape=torch.Size([6, 1, 320, 320, 2])\n"
     ]
    },
    {
     "name": "stderr",
     "output_type": "stream",
     "text": [
      "Loss=0.059299:   2%|██▊                                                                                                                                                                          | 565/35001 [18:03<17:38:06,  1.84s/it]"
     ]
    },
    {
     "name": "stdout",
     "output_type": "stream",
     "text": [
      "Step 565\n",
      "create_roi_mask: mask.shape=torch.Size([6, 1, 320, 320, 2])\n",
      "create_roi_mask: mask.shape=torch.Size([6, 1, 320, 320, 2])\n"
     ]
    },
    {
     "name": "stderr",
     "output_type": "stream",
     "text": [
      "Loss=0.056455:   2%|██▊                                                                                                                                                                          | 566/35001 [18:05<17:51:25,  1.87s/it]"
     ]
    },
    {
     "name": "stdout",
     "output_type": "stream",
     "text": [
      "Step 566\n",
      "create_roi_mask: mask.shape=torch.Size([6, 1, 320, 320, 2])\n",
      "create_roi_mask: mask.shape=torch.Size([6, 1, 320, 320, 2])\n"
     ]
    },
    {
     "name": "stderr",
     "output_type": "stream",
     "text": [
      "Loss=0.050202:   2%|██▊                                                                                                                                                                          | 567/35001 [18:07<17:44:00,  1.85s/it]"
     ]
    },
    {
     "name": "stdout",
     "output_type": "stream",
     "text": [
      "Step 567\n",
      "create_roi_mask: mask.shape=torch.Size([6, 1, 320, 320, 2])\n",
      "create_roi_mask: mask.shape=torch.Size([6, 1, 320, 320, 2])\n"
     ]
    },
    {
     "name": "stderr",
     "output_type": "stream",
     "text": [
      "Loss=0.062921:   2%|██▊                                                                                                                                                                          | 568/35001 [18:08<17:45:17,  1.86s/it]"
     ]
    },
    {
     "name": "stdout",
     "output_type": "stream",
     "text": [
      "Step 568\n",
      "create_roi_mask: mask.shape=torch.Size([6, 1, 320, 320, 2])\n",
      "create_roi_mask: mask.shape=torch.Size([6, 1, 320, 320, 2])\n"
     ]
    },
    {
     "name": "stderr",
     "output_type": "stream",
     "text": [
      "Loss=0.054676:   2%|██▊                                                                                                                                                                          | 569/35001 [18:10<17:41:25,  1.85s/it]"
     ]
    },
    {
     "name": "stdout",
     "output_type": "stream",
     "text": [
      "Step 569\n",
      "create_roi_mask: mask.shape=torch.Size([6, 1, 320, 320, 2])\n",
      "create_roi_mask: mask.shape=torch.Size([6, 1, 320, 320, 2])\n"
     ]
    },
    {
     "name": "stderr",
     "output_type": "stream",
     "text": [
      "Loss=0.048694:   2%|██▊                                                                                                                                                                          | 570/35001 [18:12<17:40:07,  1.85s/it]"
     ]
    },
    {
     "name": "stdout",
     "output_type": "stream",
     "text": [
      "Step 570\n",
      "create_roi_mask: mask.shape=torch.Size([6, 1, 320, 320, 2])\n",
      "create_roi_mask: mask.shape=torch.Size([6, 1, 320, 320, 2])\n"
     ]
    },
    {
     "name": "stderr",
     "output_type": "stream",
     "text": [
      "Loss=0.053978:   2%|██▊                                                                                                                                                                          | 571/35001 [18:14<17:47:07,  1.86s/it]"
     ]
    },
    {
     "name": "stdout",
     "output_type": "stream",
     "text": [
      "Step 571\n",
      "create_roi_mask: mask.shape=torch.Size([6, 1, 320, 320, 2])\n"
     ]
    }
   ],
   "source": [
    "# construct trainer and train\n",
    "\n",
    "trainer = Trainer(\n",
    "    diffusion,\n",
    "    image_size=img_size,\n",
    "    train_batch_size=bhsz,\n",
    "    train_lr=learning_rate,\n",
    "    train_num_steps=train_steps,  # total training steps\n",
    "    gradient_accumulate_every=2,  # gradient accumulation steps\n",
    "    ema_decay=0.995,  # exponential moving average decay\n",
    "    fp16=False,  # turn on mixed precision training with apex\n",
    "    save_and_sample_every=200,\n",
    "    results_folder=save_folder,\n",
    "    load_path=load_path,\n",
    "    dataloader_train=dataloader_train,\n",
    "    dataloader_test=dataloader_test,\n",
    ")\n",
    "trainer.train()"
   ]
  },
  {
   "cell_type": "code",
   "execution_count": null,
   "metadata": {},
   "outputs": [],
   "source": []
  }
 ],
 "metadata": {
  "kernelspec": {
   "display_name": "Python 3 (ipykernel)",
   "language": "python",
   "name": "python3"
  },
  "language_info": {
   "codemirror_mode": {
    "name": "ipython",
    "version": 3
   },
   "file_extension": ".py",
   "mimetype": "text/x-python",
   "name": "python",
   "nbconvert_exporter": "python",
   "pygments_lexer": "ipython3",
   "version": "3.9.21"
  }
 },
 "nbformat": 4,
 "nbformat_minor": 0
}
