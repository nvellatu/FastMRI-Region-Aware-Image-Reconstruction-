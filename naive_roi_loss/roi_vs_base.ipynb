{
 "cells": [
  {
   "cell_type": "code",
   "execution_count": null,
   "id": "bf03ca6f",
   "metadata": {},
   "outputs": [],
   "source": [
    "import torch\n",
    "from fastmri.pl_modules.unet_module import UnetModule\n",
    "from modules.roi_unet_module import RoiUnetModule\n",
    "from pathlib import Path\n",
    "import matplotlib.pyplot as plt\n",
    "import numpy as np\n",
    "import yaml\n",
    "import glob\n",
    "from fastmri.data.transforms import UnetDataTransform\n",
    "from fastmri.pl_modules import FastMriDataModule\n",
    "from fastmri.data.subsample import create_mask_for_mask_type\n",
    "import pandas as pd"
   ]
  },
  {
   "cell_type": "code",
   "execution_count": null,
   "id": "ba1f34c8",
   "metadata": {},
   "outputs": [],
   "source": [
    "with open(\"roi_vs_base/logs/alpha1.0_roi100_epoch30/version_1/hparams.yaml\", \"r\") as f:\n",
    "    config_unet = yaml.safe_load(f)\n",
    "    print(config_unet)\n",
    "\n",
    "with open(\"roi_vs_base/logs/alpha1.25_roi100_epoch30/version_6/hparams.yaml\", \"r\") as f:\n",
    "    config_roi = yaml.safe_load(f)\n",
    "    print(config_roi)"
   ]
  },
  {
   "cell_type": "code",
   "execution_count": null,
   "id": "26aec788",
   "metadata": {},
   "outputs": [],
   "source": [
    "# !ls unet_checkpoints/logs/version_3/checkpoints"
   ]
  },
  {
   "cell_type": "code",
   "execution_count": null,
   "id": "b6d6ff3f",
   "metadata": {},
   "outputs": [],
   "source": [
    "# Find the checkpoint file (returns list, so grab [0])\n",
    "# unet_ckpt = glob.glob(\"roi_vs_base/alpha1.0_roi100_epoch30/checkpoints/epochepoch=*.ckpt\")[0]\n",
    "# roi_ckpt = glob.glob(\"roi_vs_base/alpha1.25_roi100_epoch30/checkpoints/epochepoch=*.ckpt\")[0]\n",
    "unet_ckpt = glob.glob(\"roi_vs_base/alpha1.0_roi100_epoch30/checkpoints/last.ckpt\")[0]\n",
    "roi_ckpt = glob.glob(\"roi_vs_base/alpha1.25_roi100_epoch30/checkpoints/last.ckpt\")[0]"
   ]
  },
  {
   "cell_type": "code",
   "execution_count": null,
   "id": "fae29239",
   "metadata": {},
   "outputs": [],
   "source": [
    "glob.glob(\"roi_vs_base/alpha1.25_roi100_epoch30/checkpoints/last.ckpt\")"
   ]
  },
  {
   "cell_type": "code",
   "execution_count": null,
   "id": "4597fd1f",
   "metadata": {},
   "outputs": [],
   "source": [
    "baseline_model = UnetModule.load_from_checkpoint(\n",
    "    unet_ckpt,\n",
    "    in_chans=config_unet[\"in_chans\"],\n",
    "    out_chans=config_unet[\"out_chans\"],\n",
    "    chans=config_unet[\"chans\"],\n",
    "    num_pool_layers=config_unet[\"num_pool_layers\"],\n",
    "    drop_prob=config_unet[\"drop_prob\"],\n",
    "    lr=config_unet[\"lr\"],\n",
    "    lr_step_size=config_unet[\"lr_step_size\"],\n",
    "    lr_gamma=config_unet[\"lr_gamma\"],\n",
    "    weight_decay=config_unet[\"weight_decay\"],\n",
    ")\n",
    "\n",
    "# roi_model = ROIUnetModule.load_from_checkpoint(\n",
    "roi_model = ROISobelUnetModule.load_from_checkpoint(\n",
    "    roi_ckpt,\n",
    "    alpha=config_roi[\"alpha\"],\n",
    "    # roi_size=config_roi[\"roi_size\"],\n",
    "    threshold=70,\n",
    "    in_chans=config_roi[\"in_chans\"],\n",
    "    out_chans=config_roi[\"out_chans\"],\n",
    "    chans=config_roi[\"chans\"],\n",
    "    num_pool_layers=config_roi[\"num_pool_layers\"],\n",
    "    drop_prob=config_roi[\"drop_prob\"],\n",
    "    lr=config_roi[\"lr\"],\n",
    "    lr_step_size=config_roi[\"lr_step_size\"],\n",
    "    lr_gamma=config_roi[\"lr_gamma\"],\n",
    "    weight_decay=config_roi[\"weight_decay\"],\n",
    ")"
   ]
  },
  {
   "cell_type": "code",
   "execution_count": null,
   "id": "7a5b8538",
   "metadata": {},
   "outputs": [],
   "source": [
    "device = torch.device(\"cuda\" if torch.cuda.is_available() else \"cpu\")\n",
    "device"
   ]
  },
  {
   "cell_type": "code",
   "execution_count": null,
   "id": "2438797e",
   "metadata": {},
   "outputs": [],
   "source": [
    "baseline_model.to(\"cuda:0\")\n",
    "roi_model.to(\"cuda:0\")\n",
    "\n",
    "baseline_model.eval()\n",
    "roi_model.eval()"
   ]
  },
  {
   "cell_type": "code",
   "execution_count": null,
   "id": "c1ddf3e8",
   "metadata": {},
   "outputs": [],
   "source": [
    "mask = create_mask_for_mask_type(\n",
    "    mask_type_str=\"random\",\n",
    "    center_fractions=[0.08],\n",
    "    accelerations=[4],\n",
    ")\n",
    "\n",
    "transform = UnetDataTransform(which_challenge=\"singlecoil\", mask_func=mask, use_seed=True)\n",
    "\n",
    "data_module = FastMriDataModule(\n",
    "    data_path=Path('/home/hice1/ltupac3/scratch/fastMRI_data'),\n",
    "    challenge=\"singlecoil\",\n",
    "    train_transform=transform,\n",
    "    val_transform=transform,\n",
    "    test_transform=transform,\n",
    "    batch_size=1,\n",
    "    num_workers=0,\n",
    "    sample_rate=None,\n",
    "    distributed_sampler=False,\n",
    ")\n",
    "\n",
    "data_module.setup(\"validate\")\n",
    "val_loader = data_module.val_dataloader()"
   ]
  },
  {
   "cell_type": "code",
   "execution_count": null,
   "id": "6f34c44d",
   "metadata": {},
   "outputs": [],
   "source": [
    "results = []\n",
    "image_outputs = []\n",
    "\n",
    "for batch in val_loader:\n",
    "    image = batch.image\n",
    "    target = batch.target\n",
    "    fname = batch.fname\n",
    "    slice_num = int(batch.slice_num[0])\n",
    "    image = image.to(device)\n",
    "    target = target.to(device)\n",
    "\n",
    "    with torch.no_grad():\n",
    "        out_base = baseline_model(image)\n",
    "        out_roi = roi_model(image)\n",
    "\n",
    "    abs_base = torch.abs(out_base - target)\n",
    "    abs_roi = torch.abs(out_roi - target)\n",
    "\n",
    "    # roi_mask = roi_model.sobel_edge_map(target)\n",
    "    # roi_mask = roi_model.threshold_edges(roi_mask, percentile=70).unsqueeze(0)\n",
    "    # print(roi_mask.shape)\n",
    "\n",
    "    roi_mask = roi_mask.unsqueeze(0).expand_as(out_base)\n",
    "\n",
    "    '''\n",
    "        fname: The name of the file\n",
    "        slice: which 2d slice \n",
    "        baseline_l1: L1 error of the baseline model for the full image \n",
    "        baseline_roi_l1: L1 error of the baseline model in the ROI\n",
    "        roi_l1: L1 error of the ROI model for the full image \n",
    "        roi_roi_l1: L1 error of the ROI model\n",
    "    '''\n",
    "\n",
    "    results.append({\n",
    "        \"fname\": fname[0],\n",
    "        \"slice\": slice_num,\n",
    "        \"baseline_l1\": abs_base.mean().item(),\n",
    "        \"baseline_roi_l1\": abs_base[roi_mask.bool()].mean().item(),\n",
    "        \"roi_l1\": abs_roi.mean().item(),\n",
    "        \"roi_roi_l1\": abs_roi[roi_mask.bool()].mean().item()\n",
    "    })\n",
    "\n",
    "    image_outputs.append({\n",
    "        \"target\": target.detach().cpu().squeeze().numpy(),\n",
    "        \"baseline\": out_base.detach().cpu().squeeze().numpy(),\n",
    "        \"roi\": out_roi.detach().cpu().squeeze().numpy(),\n",
    "        \"fname\": fname[0],\n",
    "        \"slice\": slice_num\n",
    "    })\n",
    "\n"
   ]
  },
  {
   "cell_type": "code",
   "execution_count": null,
   "id": "827d217a",
   "metadata": {},
   "outputs": [],
   "source": [
    "df = pd.DataFrame(results)"
   ]
  },
  {
   "cell_type": "code",
   "execution_count": null,
   "id": "5ba1861c",
   "metadata": {},
   "outputs": [],
   "source": [
    "df[[\"baseline_l1\", \"roi_l1\"]].mean()"
   ]
  },
  {
   "cell_type": "code",
   "execution_count": null,
   "id": "64cf03a3",
   "metadata": {},
   "outputs": [],
   "source": [
    "df[[\"baseline_roi_l1\", \"roi_roi_l1\"]].mean()"
   ]
  },
  {
   "cell_type": "code",
   "execution_count": null,
   "id": "de27af6e",
   "metadata": {},
   "outputs": [],
   "source": [
    "plt.hist(df[\"baseline_roi_l1\"], bins=30, alpha=0.5, label=\"Baseline ROI L1\")\n",
    "plt.hist(df[\"roi_roi_l1\"], bins=30, alpha=0.5, label=\"ROI-weighted ROI L1\")\n",
    "plt.legend()\n",
    "plt.title(\"ROI L1 Loss Distribution\")\n",
    "plt.show()"
   ]
  },
  {
   "cell_type": "code",
   "execution_count": null,
   "id": "0b566968",
   "metadata": {},
   "outputs": [],
   "source": [
    "# plt.plot(df[\"roi_roi_l1\"], label=\"ROI Unet ROI L1\")\n",
    "# plt.plot(df[\"baseline_roi_l1\"], label=\"Baseline ROI L1\")\n",
    "# plt.legend()\n",
    "# plt.title(\"Per-slice ROI L1 Loss\")\n",
    "# plt.xlabel(\"Sample index\")\n",
    "# plt.ylabel(\"ROI L1\")\n",
    "# plt.show()"
   ]
  },
  {
   "cell_type": "code",
   "execution_count": null,
   "id": "dbaca1a4",
   "metadata": {},
   "outputs": [],
   "source": [
    "delta = df[\"baseline_roi_l1\"] - df[\"roi_roi_l1\"]\n",
    "biggest_gain = df.iloc[delta.idxmax()]\n",
    "print(\"Most improved slice:\", biggest_gain[\"fname\"], \"Slice\", biggest_gain[\"slice\"])"
   ]
  },
  {
   "cell_type": "code",
   "execution_count": null,
   "id": "b1a6ce39",
   "metadata": {},
   "outputs": [],
   "source": [
    "target_np = target.squeeze().cpu().numpy()\n",
    "base_np = out_base.squeeze().cpu().numpy()\n",
    "roi_np = out_roi.squeeze().cpu().numpy()"
   ]
  },
  {
   "cell_type": "code",
   "execution_count": null,
   "id": "ba5bb54b",
   "metadata": {},
   "outputs": [],
   "source": [
    "def overlay_roi_box(ax, roi_size=(128, 128), img_shape=(320, 320), color='r'):\n",
    "    rh, rw = roi_size\n",
    "    h, w = img_shape\n",
    "    start_h = h // 2 - rh // 2\n",
    "    start_w = w // 2 - rw // 2\n",
    "    rect = plt.Rectangle((start_w, start_h), rw, rh, linewidth=2, edgecolor=color, facecolor='none')\n",
    "    ax.add_patch(rect)"
   ]
  },
  {
   "cell_type": "code",
   "execution_count": null,
   "id": "0eb7ed09",
   "metadata": {},
   "outputs": [],
   "source": [
    "# fig, axs = plt.subplots(1, 3, figsize=(15, 5))\n",
    "\n",
    "# axs[0].imshow(target_np, cmap=\"gray\")\n",
    "# axs[0].set_title(\"Ground Truth\")\n",
    "\n",
    "# axs[1].imshow(base_np, cmap=\"gray\")\n",
    "# axs[1].set_title(\"Baseline Output\")\n",
    "# overlay_roi_box(axs[1], roi_size=roi_model.roi_size, img_shape=base_np.shape)\n",
    "\n",
    "# axs[2].imshow(roi_np, cmap=\"gray\")\n",
    "# axs[2].set_title(\"ROI-Weighted Output\")\n",
    "# overlay_roi_box(axs[2], roi_size=roi_model.roi_size, img_shape=roi_np.shape)\n",
    "\n",
    "# for ax in axs:\n",
    "#     ax.axis(\"off\")\n",
    "\n",
    "# plt.tight_layout()\n",
    "# plt.show()\n"
   ]
  },
  {
   "cell_type": "markdown",
   "id": "96d020b3",
   "metadata": {},
   "source": [
    "## Display any image index"
   ]
  },
  {
   "cell_type": "code",
   "execution_count": null,
   "id": "99e67e68",
   "metadata": {},
   "outputs": [],
   "source": [
    "idx = 1000\n",
    "sample = image_outputs[idx]\n",
    "\n",
    "fig, axs = plt.subplots(1, 3, figsize=(15, 5))\n",
    "\n",
    "axs[0].imshow(sample[\"target\"], cmap=\"gray\")\n",
    "axs[0].set_title(f\"Ground Truth\\n{sample['fname']} Slice {sample['slice']}\")\n",
    "\n",
    "axs[1].imshow(sample[\"baseline\"], cmap=\"gray\")\n",
    "axs[1].set_title(\"Baseline Output\")\n",
    "overlay_roi_box(axs[1], roi_size=roi_model.roi_size, img_shape=sample[\"baseline\"].shape)\n",
    "\n",
    "axs[2].imshow(sample[\"roi\"], cmap=\"gray\")\n",
    "axs[2].set_title(\"ROI-weighted Output\")\n",
    "overlay_roi_box(axs[2], roi_size=roi_model.roi_size, img_shape=sample[\"roi\"].shape)\n",
    "\n",
    "for ax in axs:\n",
    "    ax.axis(\"off\")\n",
    "\n",
    "plt.tight_layout()\n",
    "plt.show()\n"
   ]
  },
  {
   "cell_type": "markdown",
   "id": "0e6f4f19",
   "metadata": {},
   "source": [
    "## Most improved slice"
   ]
  },
  {
   "cell_type": "code",
   "execution_count": null,
   "id": "8e53bdda",
   "metadata": {},
   "outputs": [],
   "source": [
    "slice_match = next(\n",
    "    s for s in image_outputs\n",
    "    if s[\"fname\"] == biggest_gain[\"fname\"] and s[\"slice\"] == biggest_gain[\"slice\"]\n",
    ")\n"
   ]
  },
  {
   "cell_type": "code",
   "execution_count": null,
   "id": "55b953ae",
   "metadata": {},
   "outputs": [],
   "source": [
    "slice_match[\"fname\"] #, slice_match[\"target\"]"
   ]
  },
  {
   "cell_type": "code",
   "execution_count": null,
   "id": "5b09ce0e",
   "metadata": {},
   "outputs": [],
   "source": [
    "fig, axs = plt.subplots(1, 3, figsize=(15, 5))\n",
    "\n",
    "axs[0].imshow(slice_match[\"target\"], cmap=\"gray\")\n",
    "axs[0].set_title(\"Ground Truth\")\n",
    "\n",
    "axs[1].imshow(slice_match[\"baseline\"], cmap=\"gray\")\n",
    "axs[1].set_title(\"Baseline Output\")\n",
    "\n",
    "axs[2].imshow(slice_match[\"roi\"], cmap=\"gray\")\n",
    "axs[2].set_title(\"ROI-Weighted Output\")\n",
    "\n",
    "for ax in axs:\n",
    "    ax.axis(\"off\")\n",
    "\n",
    "plt.tight_layout()\n",
    "plt.show()\n"
   ]
  },
  {
   "cell_type": "code",
   "execution_count": null,
   "id": "6406d9f8",
   "metadata": {},
   "outputs": [],
   "source": [
    "# find filename file1000022.h5 in fname column of df "
   ]
  }
 ],
 "metadata": {
  "kernelspec": {
   "display_name": "fastMRI",
   "language": "python",
   "name": "python3"
  },
  "language_info": {
   "codemirror_mode": {
    "name": "ipython",
    "version": 3
   },
   "file_extension": ".py",
   "mimetype": "text/x-python",
   "name": "python",
   "nbconvert_exporter": "python",
   "pygments_lexer": "ipython3",
   "version": "3.8.20"
  }
 },
 "nbformat": 4,
 "nbformat_minor": 5
}
